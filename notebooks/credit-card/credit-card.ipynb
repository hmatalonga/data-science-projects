{
 "cells": [
  {
   "cell_type": "markdown",
   "metadata": {
    "papermill": {
     "duration": 0.036576,
     "end_time": "2021-05-23T09:56:35.246772",
     "exception": false,
     "start_time": "2021-05-23T09:56:35.210196",
     "status": "completed"
    },
    "tags": []
   },
   "source": [
    "# Credit Card Fraud Detection\n",
    "\n",
    "**Last updated:** 2021/05/19"
   ]
  },
  {
   "cell_type": "markdown",
   "metadata": {
    "papermill": {
     "duration": 0.030133,
     "end_time": "2021-05-23T09:56:35.309071",
     "exception": false,
     "start_time": "2021-05-23T09:56:35.278938",
     "status": "completed"
    },
    "tags": []
   },
   "source": [
    "# Introduction\n",
    "\n",
    "In this notebook, we will explore the \"Credit Card Fraud Detection\" dataset and build a model to predict which transactions are legit and fraudulent. To describe the contents of the dataset, I will quote the original description:\n",
    "\n",
    "> The dataset contains transactions made by credit cards in September 2013 by European cardholders.\n",
    "This dataset presents transactions that occurred in two days, where we have 492 frauds out of 284,807 transactions. The dataset is highly unbalanced, the positive class (frauds) account for 0.172% of all transactions.\n",
    "\n",
    "> It contains only numerical input variables which are the result of a PCA transformation. Unfortunately, due to confidentiality issues, we cannot provide the original features and more background information about the data. Features V1, V2, … V28 are the principal components obtained with PCA, the only features which have not been transformed with PCA are 'Time' and 'Amount'. Feature 'Time' contains the seconds elapsed between each transaction and the first transaction in the dataset. The feature 'Amount' is the transaction Amount, this feature can be used for example-dependant cost-sensitive learning. Feature 'Class' is the response variable and it takes value 1 in case of fraud and 0 otherwise.\n",
    "\n",
    "We are informed that the dataset is highly unbalanced and that most variables are anonymized and were obtained via PCA transformation. Therefore, we will try a few strategies to handle imbalanced classification and incrementally build a model combining these techniques to optimize its performance. Here are some common approaches to deal with Imbalanced Data:\n",
    "\n",
    "1. Resampling the Data, either undersampling or oversampling or a combination of both.\n",
    "2. Generate Synthetic Data. Use GANs or other methods to create more data points.\n",
    "3. Choosing a more appropriate performance metric. Selecting the wrong metric can generate misleading results.\n",
    "4. Using different Class weights or Cost-sensitive models.\n",
    "5. Collecting more data, in particular for the minority class if possible.\n",
    "6. Frame the problem differently. Consider things like Anomaly Detection. "
   ]
  },
  {
   "cell_type": "markdown",
   "metadata": {
    "papermill": {
     "duration": 0.029568,
     "end_time": "2021-05-23T09:56:35.368602",
     "exception": false,
     "start_time": "2021-05-23T09:56:35.339034",
     "status": "completed"
    },
    "tags": []
   },
   "source": [
    "## Importing the Libraries"
   ]
  },
  {
   "cell_type": "code",
   "execution_count": 1,
   "metadata": {
    "execution": {
     "iopub.execute_input": "2021-05-23T09:56:35.433796Z",
     "iopub.status.busy": "2021-05-23T09:56:35.433123Z",
     "iopub.status.idle": "2021-05-23T09:56:51.693116Z",
     "shell.execute_reply": "2021-05-23T09:56:51.692299Z",
     "shell.execute_reply.started": "2021-05-23T09:54:18.681372Z"
    },
    "papermill": {
     "duration": 16.294987,
     "end_time": "2021-05-23T09:56:51.693239",
     "exception": false,
     "start_time": "2021-05-23T09:56:35.398252",
     "status": "completed"
    },
    "tags": []
   },
   "outputs": [
    {
     "name": "stdout",
     "output_type": "stream",
     "text": [
      "\u001b[31mERROR: After October 2020 you may experience errors when installing or updating packages. This is because pip will change the way that it resolves dependency conflicts.\r\n",
      "\r\n",
      "We recommend you use --use-feature=2020-resolver to test your packages with the new resolver before it becomes the default.\r\n",
      "\r\n",
      "kmeans-smote 0.1.2 requires imbalanced-learn<0.5,>=0.4.0, but you'll have imbalanced-learn 0.8.0 which is incompatible.\r\n",
      "kmeans-smote 0.1.2 requires numpy<1.16,>=1.13, but you'll have numpy 1.18.5 which is incompatible.\r\n",
      "kmeans-smote 0.1.2 requires scikit-learn<0.21,>=0.19.0, but you'll have scikit-learn 0.24.2 which is incompatible.\u001b[0m\r\n"
     ]
    }
   ],
   "source": [
    "!pip install -qqq -U scikit-learn scikit-plot imbalanced-learn seaborn"
   ]
  },
  {
   "cell_type": "code",
   "execution_count": 2,
   "metadata": {
    "_cell_guid": "79c7e3d0-c299-4dcb-8224-4455121ee9b0",
    "_uuid": "d629ff2d2480ee46fbb7e2d37f6b5fab8052498a",
    "execution": {
     "iopub.execute_input": "2021-05-23T09:56:51.765447Z",
     "iopub.status.busy": "2021-05-23T09:56:51.764032Z",
     "iopub.status.idle": "2021-05-23T09:56:52.785357Z",
     "shell.execute_reply": "2021-05-23T09:56:52.786604Z",
     "shell.execute_reply.started": "2021-05-23T09:54:27.591138Z"
    },
    "papermill": {
     "duration": 1.061307,
     "end_time": "2021-05-23T09:56:52.786796",
     "exception": false,
     "start_time": "2021-05-23T09:56:51.725489",
     "status": "completed"
    },
    "tags": []
   },
   "outputs": [],
   "source": [
    "import os\n",
    "import csv\n",
    "import random\n",
    "import numpy as np\n",
    "import pandas as pd\n",
    "import matplotlib.pyplot as plt\n",
    "import seaborn as sns\n",
    "import scikitplot as skplt\n",
    "\n",
    "from lightgbm import LGBMClassifier\n",
    "\n",
    "from imblearn.under_sampling import RandomUnderSampler\n",
    "from imblearn.pipeline import Pipeline\n",
    "from imblearn.metrics import classification_report_imbalanced\n",
    "\n",
    "from sklearn.preprocessing import StandardScaler\n",
    "from sklearn.model_selection import train_test_split, GroupKFold, StratifiedKFold\n",
    "from sklearn.metrics import (matthews_corrcoef, roc_auc_score,\n",
    "                             average_precision_score, f1_score)\n",
    "\n",
    "from sklearn.experimental import enable_halving_search_cv # noqa\n",
    "from sklearn.model_selection import HalvingGridSearchCV"
   ]
  },
  {
   "cell_type": "code",
   "execution_count": 3,
   "metadata": {
    "execution": {
     "iopub.execute_input": "2021-05-23T09:56:52.908225Z",
     "iopub.status.busy": "2021-05-23T09:56:52.905679Z",
     "iopub.status.idle": "2021-05-23T09:56:52.909235Z",
     "shell.execute_reply": "2021-05-23T09:56:52.909880Z",
     "shell.execute_reply.started": "2021-05-23T09:54:27.608866Z"
    },
    "papermill": {
     "duration": 0.065284,
     "end_time": "2021-05-23T09:56:52.910027",
     "exception": false,
     "start_time": "2021-05-23T09:56:52.844743",
     "status": "completed"
    },
    "tags": []
   },
   "outputs": [],
   "source": [
    "# Set seed for reproducability\n",
    "SEED = 1\n",
    "random.seed(SEED)\n",
    "np.random.seed(SEED)\n",
    "os.environ['PYTHONHASHSEED'] = str(SEED)\n",
    "\n",
    "# Either to used previous grid search results or perform new search\n",
    "USE_TUNED_PARAMS = True"
   ]
  },
  {
   "cell_type": "markdown",
   "metadata": {
    "papermill": {
     "duration": 0.052042,
     "end_time": "2021-05-23T09:56:53.015521",
     "exception": false,
     "start_time": "2021-05-23T09:56:52.963479",
     "status": "completed"
    },
    "tags": []
   },
   "source": [
    "# Loading the Data\n",
    "\n",
    "We will define a customized `read_csv` method to optimize data types and use less memory."
   ]
  },
  {
   "cell_type": "code",
   "execution_count": 4,
   "metadata": {
    "execution": {
     "iopub.execute_input": "2021-05-23T09:56:53.113062Z",
     "iopub.status.busy": "2021-05-23T09:56:53.111284Z",
     "iopub.status.idle": "2021-05-23T09:56:53.113794Z",
     "shell.execute_reply": "2021-05-23T09:56:53.114265Z",
     "shell.execute_reply.started": "2021-05-23T09:54:27.622837Z"
    },
    "papermill": {
     "duration": 0.048806,
     "end_time": "2021-05-23T09:56:53.114374",
     "exception": false,
     "start_time": "2021-05-23T09:56:53.065568",
     "status": "completed"
    },
    "tags": []
   },
   "outputs": [],
   "source": [
    "def read_csv(file_path: str, nrows=None, dtype=np.float32) -> pd.DataFrame:\n",
    "    with open(file_path, 'r') as f:\n",
    "        column_names = next(csv.reader(f))\n",
    "    dtypes = {x: dtype for x in column_names if\n",
    "            x != 'Class'}\n",
    "    dtypes['Class'] = np.int8\n",
    "    return pd.read_csv(file_path, nrows=nrows, dtype=dtypes)"
   ]
  },
  {
   "cell_type": "code",
   "execution_count": 5,
   "metadata": {
    "execution": {
     "iopub.execute_input": "2021-05-23T09:56:53.177496Z",
     "iopub.status.busy": "2021-05-23T09:56:53.176979Z",
     "iopub.status.idle": "2021-05-23T09:56:56.305981Z",
     "shell.execute_reply": "2021-05-23T09:56:56.306873Z",
     "shell.execute_reply.started": "2021-05-23T09:54:27.640710Z"
    },
    "papermill": {
     "duration": 3.162877,
     "end_time": "2021-05-23T09:56:56.307078",
     "exception": false,
     "start_time": "2021-05-23T09:56:53.144201",
     "status": "completed"
    },
    "tags": []
   },
   "outputs": [
    {
     "name": "stdout",
     "output_type": "stream",
     "text": [
      "<class 'pandas.core.frame.DataFrame'>\n",
      "RangeIndex: 284807 entries, 0 to 284806\n",
      "Data columns (total 31 columns):\n",
      " #   Column  Non-Null Count   Dtype  \n",
      "---  ------  --------------   -----  \n",
      " 0   Time    284807 non-null  float32\n",
      " 1   V1      284807 non-null  float32\n",
      " 2   V2      284807 non-null  float32\n",
      " 3   V3      284807 non-null  float32\n",
      " 4   V4      284807 non-null  float32\n",
      " 5   V5      284807 non-null  float32\n",
      " 6   V6      284807 non-null  float32\n",
      " 7   V7      284807 non-null  float32\n",
      " 8   V8      284807 non-null  float32\n",
      " 9   V9      284807 non-null  float32\n",
      " 10  V10     284807 non-null  float32\n",
      " 11  V11     284807 non-null  float32\n",
      " 12  V12     284807 non-null  float32\n",
      " 13  V13     284807 non-null  float32\n",
      " 14  V14     284807 non-null  float32\n",
      " 15  V15     284807 non-null  float32\n",
      " 16  V16     284807 non-null  float32\n",
      " 17  V17     284807 non-null  float32\n",
      " 18  V18     284807 non-null  float32\n",
      " 19  V19     284807 non-null  float32\n",
      " 20  V20     284807 non-null  float32\n",
      " 21  V21     284807 non-null  float32\n",
      " 22  V22     284807 non-null  float32\n",
      " 23  V23     284807 non-null  float32\n",
      " 24  V24     284807 non-null  float32\n",
      " 25  V25     284807 non-null  float32\n",
      " 26  V26     284807 non-null  float32\n",
      " 27  V27     284807 non-null  float32\n",
      " 28  V28     284807 non-null  float32\n",
      " 29  Amount  284807 non-null  float32\n",
      " 30  Class   284807 non-null  int8   \n",
      "dtypes: float32(30), int8(1)\n",
      "memory usage: 32.9 MB\n"
     ]
    }
   ],
   "source": [
    "df = read_csv('/kaggle/input/creditcardfraud/creditcard.csv')\n",
    "df.info()"
   ]
  },
  {
   "cell_type": "code",
   "execution_count": 6,
   "metadata": {
    "execution": {
     "iopub.execute_input": "2021-05-23T09:56:56.385405Z",
     "iopub.status.busy": "2021-05-23T09:56:56.383157Z",
     "iopub.status.idle": "2021-05-23T09:56:56.398972Z",
     "shell.execute_reply": "2021-05-23T09:56:56.399382Z",
     "shell.execute_reply.started": "2021-05-23T09:54:29.511671Z"
    },
    "papermill": {
     "duration": 0.059032,
     "end_time": "2021-05-23T09:56:56.399506",
     "exception": false,
     "start_time": "2021-05-23T09:56:56.340474",
     "status": "completed"
    },
    "tags": []
   },
   "outputs": [
    {
     "data": {
      "text/html": [
       "<div>\n",
       "<style scoped>\n",
       "    .dataframe tbody tr th:only-of-type {\n",
       "        vertical-align: middle;\n",
       "    }\n",
       "\n",
       "    .dataframe tbody tr th {\n",
       "        vertical-align: top;\n",
       "    }\n",
       "\n",
       "    .dataframe thead th {\n",
       "        text-align: right;\n",
       "    }\n",
       "</style>\n",
       "<table border=\"1\" class=\"dataframe\">\n",
       "  <thead>\n",
       "    <tr style=\"text-align: right;\">\n",
       "      <th></th>\n",
       "      <th>Time</th>\n",
       "      <th>V1</th>\n",
       "      <th>V2</th>\n",
       "      <th>V3</th>\n",
       "      <th>V4</th>\n",
       "      <th>V5</th>\n",
       "      <th>V6</th>\n",
       "      <th>V7</th>\n",
       "      <th>V8</th>\n",
       "      <th>V9</th>\n",
       "      <th>...</th>\n",
       "      <th>V21</th>\n",
       "      <th>V22</th>\n",
       "      <th>V23</th>\n",
       "      <th>V24</th>\n",
       "      <th>V25</th>\n",
       "      <th>V26</th>\n",
       "      <th>V27</th>\n",
       "      <th>V28</th>\n",
       "      <th>Amount</th>\n",
       "      <th>Class</th>\n",
       "    </tr>\n",
       "  </thead>\n",
       "  <tbody>\n",
       "    <tr>\n",
       "      <th>0</th>\n",
       "      <td>0.0</td>\n",
       "      <td>-1.359807</td>\n",
       "      <td>-0.072781</td>\n",
       "      <td>2.536347</td>\n",
       "      <td>1.378155</td>\n",
       "      <td>-0.338321</td>\n",
       "      <td>0.462388</td>\n",
       "      <td>0.239599</td>\n",
       "      <td>0.098698</td>\n",
       "      <td>0.363787</td>\n",
       "      <td>...</td>\n",
       "      <td>-0.018307</td>\n",
       "      <td>0.277838</td>\n",
       "      <td>-0.110474</td>\n",
       "      <td>0.066928</td>\n",
       "      <td>0.128539</td>\n",
       "      <td>-0.189115</td>\n",
       "      <td>0.133558</td>\n",
       "      <td>-0.021053</td>\n",
       "      <td>149.619995</td>\n",
       "      <td>0</td>\n",
       "    </tr>\n",
       "    <tr>\n",
       "      <th>1</th>\n",
       "      <td>0.0</td>\n",
       "      <td>1.191857</td>\n",
       "      <td>0.266151</td>\n",
       "      <td>0.166480</td>\n",
       "      <td>0.448154</td>\n",
       "      <td>0.060018</td>\n",
       "      <td>-0.082361</td>\n",
       "      <td>-0.078803</td>\n",
       "      <td>0.085102</td>\n",
       "      <td>-0.255425</td>\n",
       "      <td>...</td>\n",
       "      <td>-0.225775</td>\n",
       "      <td>-0.638672</td>\n",
       "      <td>0.101288</td>\n",
       "      <td>-0.339846</td>\n",
       "      <td>0.167170</td>\n",
       "      <td>0.125895</td>\n",
       "      <td>-0.008983</td>\n",
       "      <td>0.014724</td>\n",
       "      <td>2.690000</td>\n",
       "      <td>0</td>\n",
       "    </tr>\n",
       "    <tr>\n",
       "      <th>2</th>\n",
       "      <td>1.0</td>\n",
       "      <td>-1.358354</td>\n",
       "      <td>-1.340163</td>\n",
       "      <td>1.773209</td>\n",
       "      <td>0.379780</td>\n",
       "      <td>-0.503198</td>\n",
       "      <td>1.800499</td>\n",
       "      <td>0.791461</td>\n",
       "      <td>0.247676</td>\n",
       "      <td>-1.514654</td>\n",
       "      <td>...</td>\n",
       "      <td>0.247998</td>\n",
       "      <td>0.771679</td>\n",
       "      <td>0.909412</td>\n",
       "      <td>-0.689281</td>\n",
       "      <td>-0.327642</td>\n",
       "      <td>-0.139097</td>\n",
       "      <td>-0.055353</td>\n",
       "      <td>-0.059752</td>\n",
       "      <td>378.660004</td>\n",
       "      <td>0</td>\n",
       "    </tr>\n",
       "    <tr>\n",
       "      <th>3</th>\n",
       "      <td>1.0</td>\n",
       "      <td>-0.966272</td>\n",
       "      <td>-0.185226</td>\n",
       "      <td>1.792993</td>\n",
       "      <td>-0.863291</td>\n",
       "      <td>-0.010309</td>\n",
       "      <td>1.247203</td>\n",
       "      <td>0.237609</td>\n",
       "      <td>0.377436</td>\n",
       "      <td>-1.387024</td>\n",
       "      <td>...</td>\n",
       "      <td>-0.108300</td>\n",
       "      <td>0.005274</td>\n",
       "      <td>-0.190321</td>\n",
       "      <td>-1.175575</td>\n",
       "      <td>0.647376</td>\n",
       "      <td>-0.221929</td>\n",
       "      <td>0.062723</td>\n",
       "      <td>0.061458</td>\n",
       "      <td>123.500000</td>\n",
       "      <td>0</td>\n",
       "    </tr>\n",
       "    <tr>\n",
       "      <th>4</th>\n",
       "      <td>2.0</td>\n",
       "      <td>-1.158233</td>\n",
       "      <td>0.877737</td>\n",
       "      <td>1.548718</td>\n",
       "      <td>0.403034</td>\n",
       "      <td>-0.407193</td>\n",
       "      <td>0.095921</td>\n",
       "      <td>0.592941</td>\n",
       "      <td>-0.270533</td>\n",
       "      <td>0.817739</td>\n",
       "      <td>...</td>\n",
       "      <td>-0.009431</td>\n",
       "      <td>0.798279</td>\n",
       "      <td>-0.137458</td>\n",
       "      <td>0.141267</td>\n",
       "      <td>-0.206010</td>\n",
       "      <td>0.502292</td>\n",
       "      <td>0.219422</td>\n",
       "      <td>0.215153</td>\n",
       "      <td>69.989998</td>\n",
       "      <td>0</td>\n",
       "    </tr>\n",
       "  </tbody>\n",
       "</table>\n",
       "<p>5 rows × 31 columns</p>\n",
       "</div>"
      ],
      "text/plain": [
       "   Time        V1        V2        V3        V4        V5        V6        V7  \\\n",
       "0   0.0 -1.359807 -0.072781  2.536347  1.378155 -0.338321  0.462388  0.239599   \n",
       "1   0.0  1.191857  0.266151  0.166480  0.448154  0.060018 -0.082361 -0.078803   \n",
       "2   1.0 -1.358354 -1.340163  1.773209  0.379780 -0.503198  1.800499  0.791461   \n",
       "3   1.0 -0.966272 -0.185226  1.792993 -0.863291 -0.010309  1.247203  0.237609   \n",
       "4   2.0 -1.158233  0.877737  1.548718  0.403034 -0.407193  0.095921  0.592941   \n",
       "\n",
       "         V8        V9  ...       V21       V22       V23       V24       V25  \\\n",
       "0  0.098698  0.363787  ... -0.018307  0.277838 -0.110474  0.066928  0.128539   \n",
       "1  0.085102 -0.255425  ... -0.225775 -0.638672  0.101288 -0.339846  0.167170   \n",
       "2  0.247676 -1.514654  ...  0.247998  0.771679  0.909412 -0.689281 -0.327642   \n",
       "3  0.377436 -1.387024  ... -0.108300  0.005274 -0.190321 -1.175575  0.647376   \n",
       "4 -0.270533  0.817739  ... -0.009431  0.798279 -0.137458  0.141267 -0.206010   \n",
       "\n",
       "        V26       V27       V28      Amount  Class  \n",
       "0 -0.189115  0.133558 -0.021053  149.619995      0  \n",
       "1  0.125895 -0.008983  0.014724    2.690000      0  \n",
       "2 -0.139097 -0.055353 -0.059752  378.660004      0  \n",
       "3 -0.221929  0.062723  0.061458  123.500000      0  \n",
       "4  0.502292  0.219422  0.215153   69.989998      0  \n",
       "\n",
       "[5 rows x 31 columns]"
      ]
     },
     "execution_count": 6,
     "metadata": {},
     "output_type": "execute_result"
    }
   ],
   "source": [
    "df.head()"
   ]
  },
  {
   "cell_type": "markdown",
   "metadata": {
    "papermill": {
     "duration": 0.030394,
     "end_time": "2021-05-23T09:56:56.460751",
     "exception": false,
     "start_time": "2021-05-23T09:56:56.430357",
     "status": "completed"
    },
    "tags": []
   },
   "source": [
    "# Data Exploration"
   ]
  },
  {
   "cell_type": "code",
   "execution_count": 7,
   "metadata": {
    "execution": {
     "iopub.execute_input": "2021-05-23T09:56:56.542768Z",
     "iopub.status.busy": "2021-05-23T09:56:56.541921Z",
     "iopub.status.idle": "2021-05-23T09:56:56.826651Z",
     "shell.execute_reply": "2021-05-23T09:56:56.827137Z",
     "shell.execute_reply.started": "2021-05-23T09:54:29.551800Z"
    },
    "papermill": {
     "duration": 0.336035,
     "end_time": "2021-05-23T09:56:56.827266",
     "exception": false,
     "start_time": "2021-05-23T09:56:56.491231",
     "status": "completed"
    },
    "tags": []
   },
   "outputs": [
    {
     "data": {
      "text/html": [
       "<div>\n",
       "<style scoped>\n",
       "    .dataframe tbody tr th:only-of-type {\n",
       "        vertical-align: middle;\n",
       "    }\n",
       "\n",
       "    .dataframe tbody tr th {\n",
       "        vertical-align: top;\n",
       "    }\n",
       "\n",
       "    .dataframe thead th {\n",
       "        text-align: right;\n",
       "    }\n",
       "</style>\n",
       "<table border=\"1\" class=\"dataframe\">\n",
       "  <thead>\n",
       "    <tr style=\"text-align: right;\">\n",
       "      <th></th>\n",
       "      <th>Time</th>\n",
       "      <th>V1</th>\n",
       "      <th>V2</th>\n",
       "      <th>V3</th>\n",
       "      <th>V4</th>\n",
       "      <th>V5</th>\n",
       "      <th>V6</th>\n",
       "      <th>V7</th>\n",
       "      <th>V8</th>\n",
       "      <th>V9</th>\n",
       "      <th>...</th>\n",
       "      <th>V21</th>\n",
       "      <th>V22</th>\n",
       "      <th>V23</th>\n",
       "      <th>V24</th>\n",
       "      <th>V25</th>\n",
       "      <th>V26</th>\n",
       "      <th>V27</th>\n",
       "      <th>V28</th>\n",
       "      <th>Amount</th>\n",
       "      <th>Class</th>\n",
       "    </tr>\n",
       "  </thead>\n",
       "  <tbody>\n",
       "    <tr>\n",
       "      <th>count</th>\n",
       "      <td>284807.000000</td>\n",
       "      <td>2.848070e+05</td>\n",
       "      <td>2.848070e+05</td>\n",
       "      <td>284807.000000</td>\n",
       "      <td>284807.000000</td>\n",
       "      <td>2.848070e+05</td>\n",
       "      <td>2.848070e+05</td>\n",
       "      <td>2.848070e+05</td>\n",
       "      <td>2.848070e+05</td>\n",
       "      <td>2.848070e+05</td>\n",
       "      <td>...</td>\n",
       "      <td>2.848070e+05</td>\n",
       "      <td>2.848070e+05</td>\n",
       "      <td>2.848070e+05</td>\n",
       "      <td>2.848070e+05</td>\n",
       "      <td>2.848070e+05</td>\n",
       "      <td>2.848070e+05</td>\n",
       "      <td>2.848070e+05</td>\n",
       "      <td>2.848070e+05</td>\n",
       "      <td>284807.000000</td>\n",
       "      <td>284807.000000</td>\n",
       "    </tr>\n",
       "    <tr>\n",
       "      <th>mean</th>\n",
       "      <td>94812.664062</td>\n",
       "      <td>-6.765166e-07</td>\n",
       "      <td>-2.200436e-07</td>\n",
       "      <td>0.000002</td>\n",
       "      <td>0.000001</td>\n",
       "      <td>-2.162242e-07</td>\n",
       "      <td>-3.044802e-07</td>\n",
       "      <td>3.562525e-07</td>\n",
       "      <td>-1.653899e-07</td>\n",
       "      <td>1.252389e-07</td>\n",
       "      <td>...</td>\n",
       "      <td>-1.392230e-08</td>\n",
       "      <td>1.401162e-07</td>\n",
       "      <td>2.286466e-08</td>\n",
       "      <td>-2.529817e-08</td>\n",
       "      <td>-6.366587e-07</td>\n",
       "      <td>-1.851112e-07</td>\n",
       "      <td>-6.904835e-09</td>\n",
       "      <td>-3.216587e-09</td>\n",
       "      <td>88.322945</td>\n",
       "      <td>0.001727</td>\n",
       "    </tr>\n",
       "    <tr>\n",
       "      <th>std</th>\n",
       "      <td>47487.195312</td>\n",
       "      <td>1.958611e+00</td>\n",
       "      <td>1.651183e+00</td>\n",
       "      <td>1.516203</td>\n",
       "      <td>1.415832</td>\n",
       "      <td>1.380180e+00</td>\n",
       "      <td>1.332214e+00</td>\n",
       "      <td>1.237020e+00</td>\n",
       "      <td>1.194202e+00</td>\n",
       "      <td>1.098575e+00</td>\n",
       "      <td>...</td>\n",
       "      <td>7.344701e-01</td>\n",
       "      <td>7.256873e-01</td>\n",
       "      <td>6.244100e-01</td>\n",
       "      <td>6.056016e-01</td>\n",
       "      <td>5.212620e-01</td>\n",
       "      <td>4.822155e-01</td>\n",
       "      <td>4.035722e-01</td>\n",
       "      <td>3.300574e-01</td>\n",
       "      <td>250.071564</td>\n",
       "      <td>0.041527</td>\n",
       "    </tr>\n",
       "    <tr>\n",
       "      <th>min</th>\n",
       "      <td>0.000000</td>\n",
       "      <td>-5.640751e+01</td>\n",
       "      <td>-7.271573e+01</td>\n",
       "      <td>-48.325588</td>\n",
       "      <td>-5.683171</td>\n",
       "      <td>-1.137433e+02</td>\n",
       "      <td>-2.616051e+01</td>\n",
       "      <td>-4.355724e+01</td>\n",
       "      <td>-7.321672e+01</td>\n",
       "      <td>-1.343407e+01</td>\n",
       "      <td>...</td>\n",
       "      <td>-3.483038e+01</td>\n",
       "      <td>-1.093314e+01</td>\n",
       "      <td>-4.480774e+01</td>\n",
       "      <td>-2.836627e+00</td>\n",
       "      <td>-1.029540e+01</td>\n",
       "      <td>-2.604551e+00</td>\n",
       "      <td>-2.256568e+01</td>\n",
       "      <td>-1.543008e+01</td>\n",
       "      <td>0.000000</td>\n",
       "      <td>0.000000</td>\n",
       "    </tr>\n",
       "    <tr>\n",
       "      <th>25%</th>\n",
       "      <td>54201.500000</td>\n",
       "      <td>-9.203734e-01</td>\n",
       "      <td>-5.985499e-01</td>\n",
       "      <td>-0.890365</td>\n",
       "      <td>-0.848640</td>\n",
       "      <td>-6.915971e-01</td>\n",
       "      <td>-7.682956e-01</td>\n",
       "      <td>-5.540759e-01</td>\n",
       "      <td>-2.086297e-01</td>\n",
       "      <td>-6.430976e-01</td>\n",
       "      <td>...</td>\n",
       "      <td>-2.283949e-01</td>\n",
       "      <td>-5.423504e-01</td>\n",
       "      <td>-1.618463e-01</td>\n",
       "      <td>-3.545861e-01</td>\n",
       "      <td>-3.171451e-01</td>\n",
       "      <td>-3.269839e-01</td>\n",
       "      <td>-7.083953e-02</td>\n",
       "      <td>-5.295979e-02</td>\n",
       "      <td>5.600000</td>\n",
       "      <td>0.000000</td>\n",
       "    </tr>\n",
       "    <tr>\n",
       "      <th>50%</th>\n",
       "      <td>84692.000000</td>\n",
       "      <td>1.810880e-02</td>\n",
       "      <td>6.548556e-02</td>\n",
       "      <td>0.179846</td>\n",
       "      <td>-0.019847</td>\n",
       "      <td>-5.433583e-02</td>\n",
       "      <td>-2.741871e-01</td>\n",
       "      <td>4.010308e-02</td>\n",
       "      <td>2.235804e-02</td>\n",
       "      <td>-5.142873e-02</td>\n",
       "      <td>...</td>\n",
       "      <td>-2.945017e-02</td>\n",
       "      <td>6.781943e-03</td>\n",
       "      <td>-1.119293e-02</td>\n",
       "      <td>4.097605e-02</td>\n",
       "      <td>1.659350e-02</td>\n",
       "      <td>-5.213911e-02</td>\n",
       "      <td>1.342146e-03</td>\n",
       "      <td>1.124383e-02</td>\n",
       "      <td>22.000000</td>\n",
       "      <td>0.000000</td>\n",
       "    </tr>\n",
       "    <tr>\n",
       "      <th>75%</th>\n",
       "      <td>139320.500000</td>\n",
       "      <td>1.315642e+00</td>\n",
       "      <td>8.037239e-01</td>\n",
       "      <td>1.027196</td>\n",
       "      <td>0.743341</td>\n",
       "      <td>6.119264e-01</td>\n",
       "      <td>3.985649e-01</td>\n",
       "      <td>5.704361e-01</td>\n",
       "      <td>3.273458e-01</td>\n",
       "      <td>5.971390e-01</td>\n",
       "      <td>...</td>\n",
       "      <td>1.863772e-01</td>\n",
       "      <td>5.285536e-01</td>\n",
       "      <td>1.476421e-01</td>\n",
       "      <td>4.395266e-01</td>\n",
       "      <td>3.507156e-01</td>\n",
       "      <td>2.409522e-01</td>\n",
       "      <td>9.104512e-02</td>\n",
       "      <td>7.827995e-02</td>\n",
       "      <td>77.165001</td>\n",
       "      <td>0.000000</td>\n",
       "    </tr>\n",
       "    <tr>\n",
       "      <th>max</th>\n",
       "      <td>172792.000000</td>\n",
       "      <td>2.454930e+00</td>\n",
       "      <td>2.205773e+01</td>\n",
       "      <td>9.382559</td>\n",
       "      <td>16.875343</td>\n",
       "      <td>3.480167e+01</td>\n",
       "      <td>7.330163e+01</td>\n",
       "      <td>1.205895e+02</td>\n",
       "      <td>2.000721e+01</td>\n",
       "      <td>1.559499e+01</td>\n",
       "      <td>...</td>\n",
       "      <td>2.720284e+01</td>\n",
       "      <td>1.050309e+01</td>\n",
       "      <td>2.252841e+01</td>\n",
       "      <td>4.584549e+00</td>\n",
       "      <td>7.519588e+00</td>\n",
       "      <td>3.517346e+00</td>\n",
       "      <td>3.161220e+01</td>\n",
       "      <td>3.384781e+01</td>\n",
       "      <td>25691.160156</td>\n",
       "      <td>1.000000</td>\n",
       "    </tr>\n",
       "  </tbody>\n",
       "</table>\n",
       "<p>8 rows × 31 columns</p>\n",
       "</div>"
      ],
      "text/plain": [
       "                Time            V1            V2             V3  \\\n",
       "count  284807.000000  2.848070e+05  2.848070e+05  284807.000000   \n",
       "mean    94812.664062 -6.765166e-07 -2.200436e-07       0.000002   \n",
       "std     47487.195312  1.958611e+00  1.651183e+00       1.516203   \n",
       "min         0.000000 -5.640751e+01 -7.271573e+01     -48.325588   \n",
       "25%     54201.500000 -9.203734e-01 -5.985499e-01      -0.890365   \n",
       "50%     84692.000000  1.810880e-02  6.548556e-02       0.179846   \n",
       "75%    139320.500000  1.315642e+00  8.037239e-01       1.027196   \n",
       "max    172792.000000  2.454930e+00  2.205773e+01       9.382559   \n",
       "\n",
       "                  V4            V5            V6            V7            V8  \\\n",
       "count  284807.000000  2.848070e+05  2.848070e+05  2.848070e+05  2.848070e+05   \n",
       "mean        0.000001 -2.162242e-07 -3.044802e-07  3.562525e-07 -1.653899e-07   \n",
       "std         1.415832  1.380180e+00  1.332214e+00  1.237020e+00  1.194202e+00   \n",
       "min        -5.683171 -1.137433e+02 -2.616051e+01 -4.355724e+01 -7.321672e+01   \n",
       "25%        -0.848640 -6.915971e-01 -7.682956e-01 -5.540759e-01 -2.086297e-01   \n",
       "50%        -0.019847 -5.433583e-02 -2.741871e-01  4.010308e-02  2.235804e-02   \n",
       "75%         0.743341  6.119264e-01  3.985649e-01  5.704361e-01  3.273458e-01   \n",
       "max        16.875343  3.480167e+01  7.330163e+01  1.205895e+02  2.000721e+01   \n",
       "\n",
       "                 V9  ...           V21           V22           V23  \\\n",
       "count  2.848070e+05  ...  2.848070e+05  2.848070e+05  2.848070e+05   \n",
       "mean   1.252389e-07  ... -1.392230e-08  1.401162e-07  2.286466e-08   \n",
       "std    1.098575e+00  ...  7.344701e-01  7.256873e-01  6.244100e-01   \n",
       "min   -1.343407e+01  ... -3.483038e+01 -1.093314e+01 -4.480774e+01   \n",
       "25%   -6.430976e-01  ... -2.283949e-01 -5.423504e-01 -1.618463e-01   \n",
       "50%   -5.142873e-02  ... -2.945017e-02  6.781943e-03 -1.119293e-02   \n",
       "75%    5.971390e-01  ...  1.863772e-01  5.285536e-01  1.476421e-01   \n",
       "max    1.559499e+01  ...  2.720284e+01  1.050309e+01  2.252841e+01   \n",
       "\n",
       "                V24           V25           V26           V27           V28  \\\n",
       "count  2.848070e+05  2.848070e+05  2.848070e+05  2.848070e+05  2.848070e+05   \n",
       "mean  -2.529817e-08 -6.366587e-07 -1.851112e-07 -6.904835e-09 -3.216587e-09   \n",
       "std    6.056016e-01  5.212620e-01  4.822155e-01  4.035722e-01  3.300574e-01   \n",
       "min   -2.836627e+00 -1.029540e+01 -2.604551e+00 -2.256568e+01 -1.543008e+01   \n",
       "25%   -3.545861e-01 -3.171451e-01 -3.269839e-01 -7.083953e-02 -5.295979e-02   \n",
       "50%    4.097605e-02  1.659350e-02 -5.213911e-02  1.342146e-03  1.124383e-02   \n",
       "75%    4.395266e-01  3.507156e-01  2.409522e-01  9.104512e-02  7.827995e-02   \n",
       "max    4.584549e+00  7.519588e+00  3.517346e+00  3.161220e+01  3.384781e+01   \n",
       "\n",
       "              Amount          Class  \n",
       "count  284807.000000  284807.000000  \n",
       "mean       88.322945       0.001727  \n",
       "std       250.071564       0.041527  \n",
       "min         0.000000       0.000000  \n",
       "25%         5.600000       0.000000  \n",
       "50%        22.000000       0.000000  \n",
       "75%        77.165001       0.000000  \n",
       "max     25691.160156       1.000000  \n",
       "\n",
       "[8 rows x 31 columns]"
      ]
     },
     "execution_count": 7,
     "metadata": {},
     "output_type": "execute_result"
    }
   ],
   "source": [
    "df.describe()"
   ]
  },
  {
   "cell_type": "markdown",
   "metadata": {
    "papermill": {
     "duration": 0.031735,
     "end_time": "2021-05-23T09:56:56.898007",
     "exception": false,
     "start_time": "2021-05-23T09:56:56.866272",
     "status": "completed"
    },
    "tags": []
   },
   "source": [
    "We will check if there are any missing values."
   ]
  },
  {
   "cell_type": "code",
   "execution_count": 8,
   "metadata": {
    "execution": {
     "iopub.execute_input": "2021-05-23T09:56:56.966664Z",
     "iopub.status.busy": "2021-05-23T09:56:56.965761Z",
     "iopub.status.idle": "2021-05-23T09:56:56.986680Z",
     "shell.execute_reply": "2021-05-23T09:56:56.986240Z",
     "shell.execute_reply.started": "2021-05-23T09:54:29.907660Z"
    },
    "papermill": {
     "duration": 0.057289,
     "end_time": "2021-05-23T09:56:56.986774",
     "exception": false,
     "start_time": "2021-05-23T09:56:56.929485",
     "status": "completed"
    },
    "tags": []
   },
   "outputs": [
    {
     "data": {
      "text/plain": [
       "Time      0\n",
       "V1        0\n",
       "V2        0\n",
       "V3        0\n",
       "V4        0\n",
       "V5        0\n",
       "V6        0\n",
       "V7        0\n",
       "V8        0\n",
       "V9        0\n",
       "V10       0\n",
       "V11       0\n",
       "V12       0\n",
       "V13       0\n",
       "V14       0\n",
       "V15       0\n",
       "V16       0\n",
       "V17       0\n",
       "V18       0\n",
       "V19       0\n",
       "V20       0\n",
       "V21       0\n",
       "V22       0\n",
       "V23       0\n",
       "V24       0\n",
       "V25       0\n",
       "V26       0\n",
       "V27       0\n",
       "V28       0\n",
       "Amount    0\n",
       "Class     0\n",
       "dtype: int64"
      ]
     },
     "execution_count": 8,
     "metadata": {},
     "output_type": "execute_result"
    }
   ],
   "source": [
    "df.isna().sum()"
   ]
  },
  {
   "cell_type": "markdown",
   "metadata": {
    "papermill": {
     "duration": 0.031611,
     "end_time": "2021-05-23T09:56:57.050290",
     "exception": false,
     "start_time": "2021-05-23T09:56:57.018679",
     "status": "completed"
    },
    "tags": []
   },
   "source": [
    "We will use a copy of the DataFrame to make modifications for visualization purposes only."
   ]
  },
  {
   "cell_type": "code",
   "execution_count": 9,
   "metadata": {
    "execution": {
     "iopub.execute_input": "2021-05-23T09:56:57.122045Z",
     "iopub.status.busy": "2021-05-23T09:56:57.120937Z",
     "iopub.status.idle": "2021-05-23T09:56:57.136353Z",
     "shell.execute_reply": "2021-05-23T09:56:57.135939Z",
     "shell.execute_reply.started": "2021-05-23T09:54:29.943224Z"
    },
    "papermill": {
     "duration": 0.054709,
     "end_time": "2021-05-23T09:56:57.136452",
     "exception": false,
     "start_time": "2021-05-23T09:56:57.081743",
     "status": "completed"
    },
    "tags": []
   },
   "outputs": [],
   "source": [
    "df_copy = df.copy()"
   ]
  },
  {
   "cell_type": "code",
   "execution_count": 10,
   "metadata": {
    "execution": {
     "iopub.execute_input": "2021-05-23T09:56:57.204309Z",
     "iopub.status.busy": "2021-05-23T09:56:57.203357Z",
     "iopub.status.idle": "2021-05-23T09:56:58.728343Z",
     "shell.execute_reply": "2021-05-23T09:56:58.727730Z",
     "shell.execute_reply.started": "2021-05-23T09:54:29.962156Z"
    },
    "papermill": {
     "duration": 1.560684,
     "end_time": "2021-05-23T09:56:58.728470",
     "exception": false,
     "start_time": "2021-05-23T09:56:57.167786",
     "status": "completed"
    },
    "tags": []
   },
   "outputs": [
    {
     "data": {
      "text/plain": [
       "<seaborn.axisgrid.FacetGrid at 0x7f91226feb90>"
      ]
     },
     "execution_count": 10,
     "metadata": {},
     "output_type": "execute_result"
    },
    {
     "data": {
      "image/png": "[encoded data removed]",
      "text/plain": [
       "<Figure size 402.375x360 with 1 Axes>"
      ]
     },
     "metadata": {
      "needs_background": "light"
     },
     "output_type": "display_data"
    }
   ],
   "source": [
    "ax = sns.displot(df_copy, x='Time', hue='Class', kind='kde', fill=True, common_norm=False)\n",
    "ax.set(title='Time Density Plot per Class')"
   ]
  },
  {
   "cell_type": "code",
   "execution_count": 11,
   "metadata": {
    "execution": {
     "iopub.execute_input": "2021-05-23T09:56:58.801228Z",
     "iopub.status.busy": "2021-05-23T09:56:58.800285Z",
     "iopub.status.idle": "2021-05-23T09:57:00.117585Z",
     "shell.execute_reply": "2021-05-23T09:57:00.116762Z",
     "shell.execute_reply.started": "2021-05-23T09:54:31.950230Z"
    },
    "papermill": {
     "duration": 1.355442,
     "end_time": "2021-05-23T09:57:00.117693",
     "exception": false,
     "start_time": "2021-05-23T09:56:58.762251",
     "status": "completed"
    },
    "tags": []
   },
   "outputs": [
    {
     "data": {
      "text/plain": [
       "<seaborn.axisgrid.FacetGrid at 0x7f91201a59d0>"
      ]
     },
     "execution_count": 11,
     "metadata": {},
     "output_type": "execute_result"
    },
    {
     "data": {
      "image/png": "[encoded data removed]",
      "text/plain": [
       "<Figure size 402.375x360 with 1 Axes>"
      ]
     },
     "metadata": {
      "needs_background": "light"
     },
     "output_type": "display_data"
    }
   ],
   "source": [
    "ax = sns.displot(df_copy, x='Amount', hue='Class', kind='kde', fill=True, common_norm=False)\n",
    "ax.set(title='Amount Density Plot per Class')"
   ]
  },
  {
   "cell_type": "code",
   "execution_count": 12,
   "metadata": {
    "execution": {
     "iopub.execute_input": "2021-05-23T09:57:00.193635Z",
     "iopub.status.busy": "2021-05-23T09:57:00.193001Z",
     "iopub.status.idle": "2021-05-23T09:57:02.362270Z",
     "shell.execute_reply": "2021-05-23T09:57:02.362702Z",
     "shell.execute_reply.started": "2021-05-23T09:54:33.840443Z"
    },
    "papermill": {
     "duration": 2.210315,
     "end_time": "2021-05-23T09:57:02.362826",
     "exception": false,
     "start_time": "2021-05-23T09:57:00.152511",
     "status": "completed"
    },
    "tags": []
   },
   "outputs": [
    {
     "data": {
      "text/plain": [
       "<seaborn.axisgrid.FacetGrid at 0x7f9113b93a90>"
      ]
     },
     "execution_count": 12,
     "metadata": {},
     "output_type": "execute_result"
    },
    {
     "data": {
      "image/png": "[encoded data removed]",
      "text/plain": [
       "<Figure size 402.375x360 with 1 Axes>"
      ]
     },
     "metadata": {
      "needs_background": "light"
     },
     "output_type": "display_data"
    }
   ],
   "source": [
    "df_copy['Hour'] = df_copy['Time'].apply(lambda x: np.ceil(x / 3600) % 24)\n",
    "\n",
    "ax = sns.displot(df_copy, x='Hour', hue='Class', kind='kde', fill=True, common_norm=False)\n",
    "ax.set(title='Amount Density Plot per Class')"
   ]
  },
  {
   "cell_type": "code",
   "execution_count": 13,
   "metadata": {
    "execution": {
     "iopub.execute_input": "2021-05-23T09:57:02.440151Z",
     "iopub.status.busy": "2021-05-23T09:57:02.439371Z",
     "iopub.status.idle": "2021-05-23T09:57:02.487446Z",
     "shell.execute_reply": "2021-05-23T09:57:02.487962Z",
     "shell.execute_reply.started": "2021-05-23T09:54:36.948221Z"
    },
    "papermill": {
     "duration": 0.089286,
     "end_time": "2021-05-23T09:57:02.488112",
     "exception": false,
     "start_time": "2021-05-23T09:57:02.398826",
     "status": "completed"
    },
    "tags": []
   },
   "outputs": [
    {
     "data": {
      "text/html": [
       "<div>\n",
       "<style scoped>\n",
       "    .dataframe tbody tr th:only-of-type {\n",
       "        vertical-align: middle;\n",
       "    }\n",
       "\n",
       "    .dataframe tbody tr th {\n",
       "        vertical-align: top;\n",
       "    }\n",
       "\n",
       "    .dataframe thead th {\n",
       "        text-align: right;\n",
       "    }\n",
       "</style>\n",
       "<table border=\"1\" class=\"dataframe\">\n",
       "  <thead>\n",
       "    <tr style=\"text-align: right;\">\n",
       "      <th></th>\n",
       "      <th>Hour</th>\n",
       "      <th>Class</th>\n",
       "      <th>Min</th>\n",
       "      <th>Max</th>\n",
       "      <th>Transactions</th>\n",
       "      <th>Sum</th>\n",
       "      <th>Mean</th>\n",
       "      <th>Median</th>\n",
       "      <th>Var</th>\n",
       "    </tr>\n",
       "  </thead>\n",
       "  <tbody>\n",
       "    <tr>\n",
       "      <th>0</th>\n",
       "      <td>0.0</td>\n",
       "      <td>0</td>\n",
       "      <td>0.0</td>\n",
       "      <td>10199.440430</td>\n",
       "      <td>10919</td>\n",
       "      <td>750813.937500</td>\n",
       "      <td>68.762154</td>\n",
       "      <td>14.400000</td>\n",
       "      <td>46255.160156</td>\n",
       "    </tr>\n",
       "    <tr>\n",
       "      <th>1</th>\n",
       "      <td>0.0</td>\n",
       "      <td>1</td>\n",
       "      <td>0.0</td>\n",
       "      <td>512.250000</td>\n",
       "      <td>21</td>\n",
       "      <td>3143.119873</td>\n",
       "      <td>149.672379</td>\n",
       "      <td>42.529999</td>\n",
       "      <td>31753.310547</td>\n",
       "    </tr>\n",
       "    <tr>\n",
       "      <th>2</th>\n",
       "      <td>1.0</td>\n",
       "      <td>0</td>\n",
       "      <td>0.0</td>\n",
       "      <td>7712.430176</td>\n",
       "      <td>7687</td>\n",
       "      <td>462282.281250</td>\n",
       "      <td>60.138191</td>\n",
       "      <td>12.140000</td>\n",
       "      <td>33692.777344</td>\n",
       "    </tr>\n",
       "    <tr>\n",
       "      <th>3</th>\n",
       "      <td>1.0</td>\n",
       "      <td>1</td>\n",
       "      <td>0.0</td>\n",
       "      <td>829.409973</td>\n",
       "      <td>6</td>\n",
       "      <td>1820.069946</td>\n",
       "      <td>303.345001</td>\n",
       "      <td>230.239990</td>\n",
       "      <td>123876.718750</td>\n",
       "    </tr>\n",
       "    <tr>\n",
       "      <th>4</th>\n",
       "      <td>2.0</td>\n",
       "      <td>0</td>\n",
       "      <td>0.0</td>\n",
       "      <td>2481.600098</td>\n",
       "      <td>4212</td>\n",
       "      <td>263171.250000</td>\n",
       "      <td>62.481300</td>\n",
       "      <td>18.980000</td>\n",
       "      <td>21216.832031</td>\n",
       "    </tr>\n",
       "  </tbody>\n",
       "</table>\n",
       "</div>"
      ],
      "text/plain": [
       "   Hour  Class  Min           Max  Transactions            Sum        Mean  \\\n",
       "0   0.0      0  0.0  10199.440430         10919  750813.937500   68.762154   \n",
       "1   0.0      1  0.0    512.250000            21    3143.119873  149.672379   \n",
       "2   1.0      0  0.0   7712.430176          7687  462282.281250   60.138191   \n",
       "3   1.0      1  0.0    829.409973             6    1820.069946  303.345001   \n",
       "4   2.0      0  0.0   2481.600098          4212  263171.250000   62.481300   \n",
       "\n",
       "       Median            Var  \n",
       "0   14.400000   46255.160156  \n",
       "1   42.529999   31753.310547  \n",
       "2   12.140000   33692.777344  \n",
       "3  230.239990  123876.718750  \n",
       "4   18.980000   21216.832031  "
      ]
     },
     "execution_count": 13,
     "metadata": {},
     "output_type": "execute_result"
    }
   ],
   "source": [
    "# This cell code was obtained from this source:\n",
    "# https://www.kaggle.com/gpreda/credit-card-fraud-detection-predictive-models\n",
    "\n",
    "tmp = df_copy.groupby(['Hour', 'Class'])['Amount'].aggregate(['min', 'max', 'count', 'sum', 'mean', 'median', 'var']).reset_index()\n",
    "stats = pd.DataFrame(tmp)\n",
    "stats.columns = ['Hour', 'Class', 'Min', 'Max', 'Transactions', 'Sum', 'Mean', 'Median', 'Var']\n",
    "stats.head()"
   ]
  },
  {
   "cell_type": "markdown",
   "metadata": {
    "papermill": {
     "duration": 0.036373,
     "end_time": "2021-05-23T09:57:02.562054",
     "exception": false,
     "start_time": "2021-05-23T09:57:02.525681",
     "status": "completed"
    },
    "tags": []
   },
   "source": [
    "When we plot the volume of transactions per class grouped by hour of the day, we can observe some interesting patterns as fraud transactions seem to have spikes at specific hours and occur during typical sleeping hours."
   ]
  },
  {
   "cell_type": "code",
   "execution_count": 14,
   "metadata": {
    "execution": {
     "iopub.execute_input": "2021-05-23T09:57:02.649478Z",
     "iopub.status.busy": "2021-05-23T09:57:02.648562Z",
     "iopub.status.idle": "2021-05-23T09:57:02.915448Z",
     "shell.execute_reply": "2021-05-23T09:57:02.915906Z",
     "shell.execute_reply.started": "2021-05-23T09:54:37.007595Z"
    },
    "papermill": {
     "duration": 0.315197,
     "end_time": "2021-05-23T09:57:02.916029",
     "exception": false,
     "start_time": "2021-05-23T09:57:02.600832",
     "status": "completed"
    },
    "tags": []
   },
   "outputs": [
    {
     "data": {
      "image/png": "[encoded data removed]",
      "text/plain": [
       "<Figure size 864x360 with 2 Axes>"
      ]
     },
     "metadata": {
      "needs_background": "light"
     },
     "output_type": "display_data"
    }
   ],
   "source": [
    "fig, ax = plt.subplots(1,2, figsize=(12,5))\n",
    "sns.lineplot(x='Hour', y='Transactions', data=stats.query('Class == 0'), ax=ax[0])\n",
    "sns.lineplot(x='Hour', y='Transactions', data=stats.query('Class == 1'), color='red', ax=ax[1])\n",
    "fig.suptitle('Total Number of Transactions per Hour of the Day')\n",
    "ax[0].set(title='Legit Transactions')\n",
    "ax[1].set(title='Fraud Transactions')\n",
    "fig.show()"
   ]
  },
  {
   "cell_type": "markdown",
   "metadata": {
    "papermill": {
     "duration": 0.038297,
     "end_time": "2021-05-23T09:57:02.992874",
     "exception": false,
     "start_time": "2021-05-23T09:57:02.954577",
     "status": "completed"
    },
    "tags": []
   },
   "source": [
    "# Data Preparation\n",
    "\n",
    "To build the model, I incrementally increased the fraction of data used by 20% to adjust the model parameters progressively to avoid overfitting. For this final build, we will use the entirety of the dataset."
   ]
  },
  {
   "cell_type": "code",
   "execution_count": 15,
   "metadata": {
    "execution": {
     "iopub.execute_input": "2021-05-23T09:57:03.072046Z",
     "iopub.status.busy": "2021-05-23T09:57:03.071313Z",
     "iopub.status.idle": "2021-05-23T09:57:03.129258Z",
     "shell.execute_reply": "2021-05-23T09:57:03.130281Z",
     "shell.execute_reply.started": "2021-05-23T09:54:37.399831Z"
    },
    "papermill": {
     "duration": 0.100572,
     "end_time": "2021-05-23T09:57:03.130434",
     "exception": false,
     "start_time": "2021-05-23T09:57:03.029862",
     "status": "completed"
    },
    "tags": []
   },
   "outputs": [],
   "source": [
    "df = df.sample(frac=1, random_state=SEED).reset_index(drop=True)"
   ]
  },
  {
   "cell_type": "code",
   "execution_count": 16,
   "metadata": {
    "execution": {
     "iopub.execute_input": "2021-05-23T09:57:03.224004Z",
     "iopub.status.busy": "2021-05-23T09:57:03.223064Z",
     "iopub.status.idle": "2021-05-23T09:57:03.225841Z",
     "shell.execute_reply": "2021-05-23T09:57:03.225361Z",
     "shell.execute_reply.started": "2021-05-23T09:54:37.477419Z"
    },
    "papermill": {
     "duration": 0.057992,
     "end_time": "2021-05-23T09:57:03.225938",
     "exception": false,
     "start_time": "2021-05-23T09:57:03.167946",
     "status": "completed"
    },
    "tags": []
   },
   "outputs": [],
   "source": [
    "y = df['Class']\n",
    "X = df.drop('Class', axis=1)\n",
    "\n",
    "feature_names = X.columns.tolist()"
   ]
  },
  {
   "cell_type": "markdown",
   "metadata": {
    "papermill": {
     "duration": 0.036655,
     "end_time": "2021-05-23T09:57:03.299679",
     "exception": false,
     "start_time": "2021-05-23T09:57:03.263024",
     "status": "completed"
    },
    "tags": []
   },
   "source": [
    "As we can observe, the data is highly unbalanced, with less than 1% of positive fraud examples."
   ]
  },
  {
   "cell_type": "code",
   "execution_count": 17,
   "metadata": {
    "execution": {
     "iopub.execute_input": "2021-05-23T09:57:03.378699Z",
     "iopub.status.busy": "2021-05-23T09:57:03.377922Z",
     "iopub.status.idle": "2021-05-23T09:57:03.386628Z",
     "shell.execute_reply": "2021-05-23T09:57:03.386160Z",
     "shell.execute_reply.started": "2021-05-23T09:54:37.500249Z"
    },
    "papermill": {
     "duration": 0.049336,
     "end_time": "2021-05-23T09:57:03.386729",
     "exception": false,
     "start_time": "2021-05-23T09:57:03.337393",
     "status": "completed"
    },
    "tags": []
   },
   "outputs": [
    {
     "data": {
      "text/plain": [
       "0    0.998273\n",
       "1    0.001727\n",
       "Name: Class, dtype: float64"
      ]
     },
     "execution_count": 17,
     "metadata": {},
     "output_type": "execute_result"
    }
   ],
   "source": [
    "y.value_counts(normalize=True)"
   ]
  },
  {
   "cell_type": "markdown",
   "metadata": {
    "papermill": {
     "duration": 0.036637,
     "end_time": "2021-05-23T09:57:03.463682",
     "exception": false,
     "start_time": "2021-05-23T09:57:03.427045",
     "status": "completed"
    },
    "tags": []
   },
   "source": [
    "For the train/test split, we will divide them into 80% for the train data and 20% for the test data in a stratified fashion."
   ]
  },
  {
   "cell_type": "code",
   "execution_count": 18,
   "metadata": {
    "execution": {
     "iopub.execute_input": "2021-05-23T09:57:03.546497Z",
     "iopub.status.busy": "2021-05-23T09:57:03.545317Z",
     "iopub.status.idle": "2021-05-23T09:57:03.797225Z",
     "shell.execute_reply": "2021-05-23T09:57:03.798352Z",
     "shell.execute_reply.started": "2021-05-23T09:54:37.521965Z"
    },
    "papermill": {
     "duration": 0.296509,
     "end_time": "2021-05-23T09:57:03.798557",
     "exception": false,
     "start_time": "2021-05-23T09:57:03.502048",
     "status": "completed"
    },
    "tags": []
   },
   "outputs": [],
   "source": [
    "X_train, X_test, y_train, y_test = train_test_split(X, y, test_size=0.2, stratify=y, shuffle=True, random_state=SEED)"
   ]
  },
  {
   "cell_type": "markdown",
   "metadata": {
    "papermill": {
     "duration": 0.060487,
     "end_time": "2021-05-23T09:57:03.921134",
     "exception": false,
     "start_time": "2021-05-23T09:57:03.860647",
     "status": "completed"
    },
    "tags": []
   },
   "source": [
    "# Feature Engineering\n",
    "\n",
    "We will compute some additional features containing statistical information about the anonymized variables."
   ]
  },
  {
   "cell_type": "code",
   "execution_count": 19,
   "metadata": {
    "execution": {
     "iopub.execute_input": "2021-05-23T09:57:04.053629Z",
     "iopub.status.busy": "2021-05-23T09:57:04.052722Z",
     "iopub.status.idle": "2021-05-23T09:57:04.323250Z",
     "shell.execute_reply": "2021-05-23T09:57:04.323763Z",
     "shell.execute_reply.started": "2021-05-23T09:54:37.751222Z"
    },
    "papermill": {
     "duration": 0.341652,
     "end_time": "2021-05-23T09:57:04.323933",
     "exception": false,
     "start_time": "2021-05-23T09:57:03.982281",
     "status": "completed"
    },
    "tags": []
   },
   "outputs": [],
   "source": [
    "def get_group_stats(df: pd.DataFrame) -> pd.DataFrame:\n",
    "    \"\"\"\n",
    "    Create features by calculating statistical moments.\n",
    "    \n",
    "    :param df: Pandas DataFrame containing all features\n",
    "    \"\"\"\n",
    "    cols = list(filter(lambda x: x.startswith('V'), df.columns))\n",
    "    \n",
    "    # avoid warnings about returning-a-view-versus-a-copy\n",
    "    ds = df.copy()\n",
    "    \n",
    "    ds['V_mean'] = df[cols].mean(axis=1)\n",
    "    ds['V_std'] = df[cols].std(axis=1)\n",
    "    ds['V_skew'] = df[cols].skew(axis=1)\n",
    "    \n",
    "    return ds\n",
    "\n",
    "X_train = get_group_stats(X_train)\n",
    "X_test = get_group_stats(X_test)"
   ]
  },
  {
   "cell_type": "code",
   "execution_count": 20,
   "metadata": {
    "execution": {
     "iopub.execute_input": "2021-05-23T09:57:04.424724Z",
     "iopub.status.busy": "2021-05-23T09:57:04.412679Z",
     "iopub.status.idle": "2021-05-23T09:57:04.429173Z",
     "shell.execute_reply": "2021-05-23T09:57:04.428579Z",
     "shell.execute_reply.started": "2021-05-23T09:54:38.072805Z"
    },
    "papermill": {
     "duration": 0.065959,
     "end_time": "2021-05-23T09:57:04.429273",
     "exception": false,
     "start_time": "2021-05-23T09:57:04.363314",
     "status": "completed"
    },
    "tags": []
   },
   "outputs": [
    {
     "data": {
      "text/html": [
       "<div>\n",
       "<style scoped>\n",
       "    .dataframe tbody tr th:only-of-type {\n",
       "        vertical-align: middle;\n",
       "    }\n",
       "\n",
       "    .dataframe tbody tr th {\n",
       "        vertical-align: top;\n",
       "    }\n",
       "\n",
       "    .dataframe thead th {\n",
       "        text-align: right;\n",
       "    }\n",
       "</style>\n",
       "<table border=\"1\" class=\"dataframe\">\n",
       "  <thead>\n",
       "    <tr style=\"text-align: right;\">\n",
       "      <th></th>\n",
       "      <th>Time</th>\n",
       "      <th>V1</th>\n",
       "      <th>V2</th>\n",
       "      <th>V3</th>\n",
       "      <th>V4</th>\n",
       "      <th>V5</th>\n",
       "      <th>V6</th>\n",
       "      <th>V7</th>\n",
       "      <th>V8</th>\n",
       "      <th>V9</th>\n",
       "      <th>...</th>\n",
       "      <th>V23</th>\n",
       "      <th>V24</th>\n",
       "      <th>V25</th>\n",
       "      <th>V26</th>\n",
       "      <th>V27</th>\n",
       "      <th>V28</th>\n",
       "      <th>Amount</th>\n",
       "      <th>V_mean</th>\n",
       "      <th>V_std</th>\n",
       "      <th>V_skew</th>\n",
       "    </tr>\n",
       "  </thead>\n",
       "  <tbody>\n",
       "    <tr>\n",
       "      <th>9319</th>\n",
       "      <td>101691.0</td>\n",
       "      <td>2.113122</td>\n",
       "      <td>-0.067427</td>\n",
       "      <td>-1.062211</td>\n",
       "      <td>0.183495</td>\n",
       "      <td>0.154411</td>\n",
       "      <td>-0.585322</td>\n",
       "      <td>-0.166365</td>\n",
       "      <td>-0.246107</td>\n",
       "      <td>1.995113</td>\n",
       "      <td>...</td>\n",
       "      <td>0.439633</td>\n",
       "      <td>-1.133765</td>\n",
       "      <td>-0.631077</td>\n",
       "      <td>0.046039</td>\n",
       "      <td>-0.101130</td>\n",
       "      <td>-0.065391</td>\n",
       "      <td>9.91</td>\n",
       "      <td>-0.054216</td>\n",
       "      <td>1.051117</td>\n",
       "      <td>-0.050505</td>\n",
       "    </tr>\n",
       "    <tr>\n",
       "      <th>210502</th>\n",
       "      <td>72620.0</td>\n",
       "      <td>1.143742</td>\n",
       "      <td>0.174741</td>\n",
       "      <td>0.862678</td>\n",
       "      <td>1.052988</td>\n",
       "      <td>-0.666547</td>\n",
       "      <td>-0.569471</td>\n",
       "      <td>-0.211694</td>\n",
       "      <td>0.059470</td>\n",
       "      <td>0.007118</td>\n",
       "      <td>...</td>\n",
       "      <td>0.127981</td>\n",
       "      <td>0.469585</td>\n",
       "      <td>0.219076</td>\n",
       "      <td>-0.651484</td>\n",
       "      <td>0.028700</td>\n",
       "      <td>0.026081</td>\n",
       "      <td>9.99</td>\n",
       "      <td>0.145706</td>\n",
       "      <td>0.572725</td>\n",
       "      <td>0.400858</td>\n",
       "    </tr>\n",
       "    <tr>\n",
       "      <th>51455</th>\n",
       "      <td>141717.0</td>\n",
       "      <td>-1.502364</td>\n",
       "      <td>1.635901</td>\n",
       "      <td>-0.646716</td>\n",
       "      <td>0.359882</td>\n",
       "      <td>0.136560</td>\n",
       "      <td>-1.127764</td>\n",
       "      <td>0.249920</td>\n",
       "      <td>0.705085</td>\n",
       "      <td>0.144000</td>\n",
       "      <td>...</td>\n",
       "      <td>-0.158949</td>\n",
       "      <td>-0.092972</td>\n",
       "      <td>0.533375</td>\n",
       "      <td>-0.573315</td>\n",
       "      <td>-0.318169</td>\n",
       "      <td>-0.041170</td>\n",
       "      <td>1.99</td>\n",
       "      <td>-0.236430</td>\n",
       "      <td>0.796273</td>\n",
       "      <td>0.079623</td>\n",
       "    </tr>\n",
       "    <tr>\n",
       "      <th>128284</th>\n",
       "      <td>104458.0</td>\n",
       "      <td>-0.580486</td>\n",
       "      <td>0.721799</td>\n",
       "      <td>-1.554297</td>\n",
       "      <td>-1.735136</td>\n",
       "      <td>-0.122013</td>\n",
       "      <td>-0.069607</td>\n",
       "      <td>3.386795</td>\n",
       "      <td>-0.889773</td>\n",
       "      <td>0.539206</td>\n",
       "      <td>...</td>\n",
       "      <td>-0.313510</td>\n",
       "      <td>0.815592</td>\n",
       "      <td>0.198952</td>\n",
       "      <td>0.883310</td>\n",
       "      <td>-0.015340</td>\n",
       "      <td>0.017878</td>\n",
       "      <td>400.00</td>\n",
       "      <td>0.114818</td>\n",
       "      <td>1.246032</td>\n",
       "      <td>0.522092</td>\n",
       "    </tr>\n",
       "    <tr>\n",
       "      <th>251996</th>\n",
       "      <td>111058.0</td>\n",
       "      <td>-3.715441</td>\n",
       "      <td>4.175828</td>\n",
       "      <td>-2.217402</td>\n",
       "      <td>-1.207024</td>\n",
       "      <td>-0.075184</td>\n",
       "      <td>-0.972042</td>\n",
       "      <td>0.425504</td>\n",
       "      <td>0.317196</td>\n",
       "      <td>4.090196</td>\n",
       "      <td>...</td>\n",
       "      <td>0.148733</td>\n",
       "      <td>0.492251</td>\n",
       "      <td>0.091003</td>\n",
       "      <td>-0.209533</td>\n",
       "      <td>2.023499</td>\n",
       "      <td>1.224342</td>\n",
       "      <td>0.89</td>\n",
       "      <td>0.399176</td>\n",
       "      <td>1.810966</td>\n",
       "      <td>0.338856</td>\n",
       "    </tr>\n",
       "  </tbody>\n",
       "</table>\n",
       "<p>5 rows × 33 columns</p>\n",
       "</div>"
      ],
      "text/plain": [
       "            Time        V1        V2        V3        V4        V5        V6  \\\n",
       "9319    101691.0  2.113122 -0.067427 -1.062211  0.183495  0.154411 -0.585322   \n",
       "210502   72620.0  1.143742  0.174741  0.862678  1.052988 -0.666547 -0.569471   \n",
       "51455   141717.0 -1.502364  1.635901 -0.646716  0.359882  0.136560 -1.127764   \n",
       "128284  104458.0 -0.580486  0.721799 -1.554297 -1.735136 -0.122013 -0.069607   \n",
       "251996  111058.0 -3.715441  4.175828 -2.217402 -1.207024 -0.075184 -0.972042   \n",
       "\n",
       "              V7        V8        V9  ...       V23       V24       V25  \\\n",
       "9319   -0.166365 -0.246107  1.995113  ...  0.439633 -1.133765 -0.631077   \n",
       "210502 -0.211694  0.059470  0.007118  ...  0.127981  0.469585  0.219076   \n",
       "51455   0.249920  0.705085  0.144000  ... -0.158949 -0.092972  0.533375   \n",
       "128284  3.386795 -0.889773  0.539206  ... -0.313510  0.815592  0.198952   \n",
       "251996  0.425504  0.317196  4.090196  ...  0.148733  0.492251  0.091003   \n",
       "\n",
       "             V26       V27       V28  Amount    V_mean     V_std    V_skew  \n",
       "9319    0.046039 -0.101130 -0.065391    9.91 -0.054216  1.051117 -0.050505  \n",
       "210502 -0.651484  0.028700  0.026081    9.99  0.145706  0.572725  0.400858  \n",
       "51455  -0.573315 -0.318169 -0.041170    1.99 -0.236430  0.796273  0.079623  \n",
       "128284  0.883310 -0.015340  0.017878  400.00  0.114818  1.246032  0.522092  \n",
       "251996 -0.209533  2.023499  1.224342    0.89  0.399176  1.810966  0.338856  \n",
       "\n",
       "[5 rows x 33 columns]"
      ]
     },
     "execution_count": 20,
     "metadata": {},
     "output_type": "execute_result"
    }
   ],
   "source": [
    "X_train.head()"
   ]
  },
  {
   "cell_type": "markdown",
   "metadata": {
    "papermill": {
     "duration": 0.03703,
     "end_time": "2021-05-23T09:57:04.504490",
     "exception": false,
     "start_time": "2021-05-23T09:57:04.467460",
     "status": "completed"
    },
    "tags": []
   },
   "source": [
    "We will train our model using cross-validation. To generate the splits, we will be applying a `GroupKFold` strategy. The group will be based on the **hour of the day** of the given transaction. From a previous plot, we could observe that specific hours have a higher volume of fraudulent transactions."
   ]
  },
  {
   "cell_type": "code",
   "execution_count": 21,
   "metadata": {
    "execution": {
     "iopub.execute_input": "2021-05-23T09:57:04.585477Z",
     "iopub.status.busy": "2021-05-23T09:57:04.584935Z",
     "iopub.status.idle": "2021-05-23T09:57:05.236001Z",
     "shell.execute_reply": "2021-05-23T09:57:05.235497Z",
     "shell.execute_reply.started": "2021-05-23T09:54:38.113521Z"
    },
    "papermill": {
     "duration": 0.693784,
     "end_time": "2021-05-23T09:57:05.236127",
     "exception": false,
     "start_time": "2021-05-23T09:57:04.542343",
     "status": "completed"
    },
    "tags": []
   },
   "outputs": [],
   "source": [
    "# Tested stratified kfold as well\n",
    "sfold = StratifiedKFold(n_splits=3)\n",
    "\n",
    "hour_train = X_train['Time'].apply(lambda x: np.ceil(float(x) / 3600) % 24)\n",
    "\n",
    "gfold = GroupKFold(n_splits=3)\n",
    "groups = list(gfold.split(X_train, y_train, groups=hour_train))"
   ]
  },
  {
   "cell_type": "code",
   "execution_count": 22,
   "metadata": {
    "execution": {
     "iopub.execute_input": "2021-05-23T09:57:05.319006Z",
     "iopub.status.busy": "2021-05-23T09:57:05.318193Z",
     "iopub.status.idle": "2021-05-23T09:57:05.320979Z",
     "shell.execute_reply": "2021-05-23T09:57:05.320568Z",
     "shell.execute_reply.started": "2021-05-23T09:54:38.864142Z"
    },
    "papermill": {
     "duration": 0.046509,
     "end_time": "2021-05-23T09:57:05.321070",
     "exception": false,
     "start_time": "2021-05-23T09:57:05.274561",
     "status": "completed"
    },
    "tags": []
   },
   "outputs": [],
   "source": [
    "def plot_correlation(corr: str) -> plt.Axes:\n",
    "    mask = np.triu(np.ones_like(corr, dtype=bool))\n",
    "    f, ax = plt.subplots(figsize=(11, 9))\n",
    "    cmap = sns.diverging_palette(230, 20, as_cmap=True)\n",
    "    sns.heatmap(corr, mask=mask, cmap=cmap, vmax=.3, center=0,\n",
    "                square=True, linewidths=.5, cbar_kws={\"shrink\": .5})"
   ]
  },
  {
   "cell_type": "code",
   "execution_count": 23,
   "metadata": {
    "execution": {
     "iopub.execute_input": "2021-05-23T09:57:05.402792Z",
     "iopub.status.busy": "2021-05-23T09:57:05.402109Z",
     "iopub.status.idle": "2021-05-23T09:57:05.404983Z",
     "shell.execute_reply": "2021-05-23T09:57:05.404502Z",
     "shell.execute_reply.started": "2021-05-23T09:54:38.875499Z"
    },
    "papermill": {
     "duration": 0.045888,
     "end_time": "2021-05-23T09:57:05.405067",
     "exception": false,
     "start_time": "2021-05-23T09:57:05.359179",
     "status": "completed"
    },
    "tags": []
   },
   "outputs": [],
   "source": [
    "def select_features_correlation(df: pd.DataFrame) -> list:\n",
    "    # Calculate correlations with target\n",
    "    full_corr = df.corr(method='spearman')\n",
    "    corr_with_target = full_corr['Class'].T.apply(abs).sort_values(ascending=False)\n",
    "    \n",
    "    min_threshold = corr_with_target.quantile(.25)\n",
    "    \n",
    "    # Select features with highest correlation to the target variable\n",
    "    features_correlation = corr_with_target[corr_with_target >= min_threshold]\n",
    "    features_correlation.drop('Class', inplace=True)\n",
    "    return features_correlation.index.tolist()"
   ]
  },
  {
   "cell_type": "markdown",
   "metadata": {
    "papermill": {
     "duration": 0.037486,
     "end_time": "2021-05-23T09:57:05.480228",
     "exception": false,
     "start_time": "2021-05-23T09:57:05.442742",
     "status": "completed"
    },
    "tags": []
   },
   "source": [
    "Because the data is highly unbalanced, it is difficult to see the correlation between some features. However, after experimenting with undersampling the data to reduce the number of examples of the majority class (legit transactions) and have equal class proportions, we can now see that the correlation values are more noticeable. We will use the correlation amount to select higher correlated features with our target class."
   ]
  },
  {
   "cell_type": "code",
   "execution_count": 24,
   "metadata": {
    "execution": {
     "iopub.execute_input": "2021-05-23T09:57:05.561923Z",
     "iopub.status.busy": "2021-05-23T09:57:05.560452Z",
     "iopub.status.idle": "2021-05-23T09:57:09.004567Z",
     "shell.execute_reply": "2021-05-23T09:57:09.004985Z",
     "shell.execute_reply.started": "2021-05-23T09:54:38.890285Z"
    },
    "papermill": {
     "duration": 3.487526,
     "end_time": "2021-05-23T09:57:09.005108",
     "exception": false,
     "start_time": "2021-05-23T09:57:05.517582",
     "status": "completed"
    },
    "tags": []
   },
   "outputs": [
    {
     "data": {
      "image/png": "[encoded data removed]",
      "text/plain": [
       "<Figure size 792x648 with 2 Axes>"
      ]
     },
     "metadata": {
      "needs_background": "light"
     },
     "output_type": "display_data"
    }
   ],
   "source": [
    "plot_correlation(X_train.corr(method='spearman'))"
   ]
  },
  {
   "cell_type": "code",
   "execution_count": 25,
   "metadata": {
    "execution": {
     "iopub.execute_input": "2021-05-23T09:57:09.088120Z",
     "iopub.status.busy": "2021-05-23T09:57:09.087397Z",
     "iopub.status.idle": "2021-05-23T09:57:09.674108Z",
     "shell.execute_reply": "2021-05-23T09:57:09.674658Z",
     "shell.execute_reply.started": "2021-05-23T09:54:43.761443Z"
    },
    "papermill": {
     "duration": 0.630253,
     "end_time": "2021-05-23T09:57:09.674809",
     "exception": false,
     "start_time": "2021-05-23T09:57:09.044556",
     "status": "completed"
    },
    "tags": []
   },
   "outputs": [
    {
     "data": {
      "image/png": "[encoded data removed]",
      "text/plain": [
       "<Figure size 792x648 with 2 Axes>"
      ]
     },
     "metadata": {
      "needs_background": "light"
     },
     "output_type": "display_data"
    }
   ],
   "source": [
    "sampler = RandomUnderSampler(random_state=SEED)\n",
    "X_resampled, y_resampled = sampler.fit_resample(X_train, y_train)\n",
    "X_resampled['Class'] = y_resampled\n",
    "\n",
    "plot_correlation(X_resampled.corr(method='spearman'))"
   ]
  },
  {
   "cell_type": "markdown",
   "metadata": {
    "papermill": {
     "duration": 0.039145,
     "end_time": "2021-05-23T09:57:09.755961",
     "exception": false,
     "start_time": "2021-05-23T09:57:09.716816",
     "status": "completed"
    },
    "tags": []
   },
   "source": [
    "We will select features that have a correlation with our target class higher than the lower quartile value. Dropping features with low correlation can help to reduce the complexity of the model."
   ]
  },
  {
   "cell_type": "code",
   "execution_count": 26,
   "metadata": {
    "execution": {
     "iopub.execute_input": "2021-05-23T09:57:09.839256Z",
     "iopub.status.busy": "2021-05-23T09:57:09.838379Z",
     "iopub.status.idle": "2021-05-23T09:57:09.862148Z",
     "shell.execute_reply": "2021-05-23T09:57:09.861701Z",
     "shell.execute_reply.started": "2021-05-23T09:54:44.598668Z"
    },
    "papermill": {
     "duration": 0.06715,
     "end_time": "2021-05-23T09:57:09.862237",
     "exception": false,
     "start_time": "2021-05-23T09:57:09.795087",
     "status": "completed"
    },
    "tags": []
   },
   "outputs": [],
   "source": [
    "cols = select_features_correlation(X_resampled)\n",
    "X_train = X_train[cols]\n",
    "X_test = X_test[cols]"
   ]
  },
  {
   "cell_type": "markdown",
   "metadata": {
    "papermill": {
     "duration": 0.039191,
     "end_time": "2021-05-23T09:57:09.940926",
     "exception": false,
     "start_time": "2021-05-23T09:57:09.901735",
     "status": "completed"
    },
    "tags": []
   },
   "source": [
    "# Modelling\n",
    "\n",
    "We will use grid search to tune the hyperparameters of the model. And, we will apply cross-validation using the group fold strategy as mentioned above. To evaluate the performance:\n",
    "- We will use the *F1-score*, a more relevant metric in this situation since false positives and false negatives are both critical.\n",
    "- Using Accuracy in this scenario can output misleading results.\n",
    "- We will use a maximum depth value to prevent overfitting the training data.\n",
    "- We will test using different percentages of features used by each tree.\n",
    "- Finally, we will try out two possibilities for the learning rate.\n",
    "- I kept other parameters to fine-tune the alpha regularization value and the subsample of the training set for future changes.\n",
    "\n",
    "## Baseline\n",
    "\n",
    "First, we will train a simple baseline model with default parameters to have some initials results that we can compare with and identify what things we aim to improve."
   ]
  },
  {
   "cell_type": "code",
   "execution_count": 27,
   "metadata": {
    "execution": {
     "iopub.execute_input": "2021-05-23T09:57:10.026628Z",
     "iopub.status.busy": "2021-05-23T09:57:10.024932Z",
     "iopub.status.idle": "2021-05-23T09:57:10.027221Z",
     "shell.execute_reply": "2021-05-23T09:57:10.027642Z",
     "shell.execute_reply.started": "2021-05-23T09:54:44.639723Z"
    },
    "papermill": {
     "duration": 0.047046,
     "end_time": "2021-05-23T09:57:10.027748",
     "exception": false,
     "start_time": "2021-05-23T09:57:09.980702",
     "status": "completed"
    },
    "tags": []
   },
   "outputs": [],
   "source": [
    "pipeline = Pipeline([\n",
    "    ('standardscaler', StandardScaler()),\n",
    "    ('clf', LGBMClassifier(n_jobs=-1, random_state=SEED)),\n",
    "])"
   ]
  },
  {
   "cell_type": "code",
   "execution_count": 28,
   "metadata": {
    "execution": {
     "iopub.execute_input": "2021-05-23T09:57:10.116386Z",
     "iopub.status.busy": "2021-05-23T09:57:10.115685Z",
     "iopub.status.idle": "2021-05-23T09:57:19.748147Z",
     "shell.execute_reply": "2021-05-23T09:57:19.748601Z",
     "shell.execute_reply.started": "2021-05-23T09:54:44.651065Z"
    },
    "papermill": {
     "duration": 9.681752,
     "end_time": "2021-05-23T09:57:19.748767",
     "exception": false,
     "start_time": "2021-05-23T09:57:10.067015",
     "status": "completed"
    },
    "tags": []
   },
   "outputs": [
    {
     "name": "stdout",
     "output_type": "stream",
     "text": [
      "Baseline MCC score: 0.09613585506472794\n",
      "Baseline AP score: 0.017043358463682604\n",
      "Baseline ROC AUC score: 0.6006605230375944\n",
      "Baseline F1 score: 0.07692396099084955\n"
     ]
    }
   ],
   "source": [
    "mcc_results = []\n",
    "ap_results = []\n",
    "roc_auc_results = []\n",
    "f1_results = []\n",
    "\n",
    "for train_index, test_index in groups:\n",
    "    pipeline.fit(X_train.values[train_index], y_train.values[train_index])\n",
    "    test_data = pipeline['standardscaler'].transform(X_train.values[test_index])\n",
    "    \n",
    "    y_pred = pipeline.predict(test_data)\n",
    "    \n",
    "    mcc_results.append(matthews_corrcoef(y_train.values[test_index], y_pred))\n",
    "    ap_results.append(average_precision_score(y_train.values[test_index], y_pred))\n",
    "    roc_auc_results.append(roc_auc_score(y_train.values[test_index], y_pred))\n",
    "    f1_results.append(f1_score(y_train.values[test_index], y_pred))\n",
    "\n",
    "\n",
    "print(f'Baseline MCC score: {np.mean(mcc_results)}')\n",
    "print(f'Baseline AP score: {np.mean(ap_results)}')\n",
    "print(f'Baseline ROC AUC score: {np.mean(roc_auc_results)}')\n",
    "print(f'Baseline F1 score: {np.mean(f1_results)}')"
   ]
  },
  {
   "cell_type": "markdown",
   "metadata": {
    "papermill": {
     "duration": 0.040893,
     "end_time": "2021-05-23T09:57:19.833196",
     "exception": false,
     "start_time": "2021-05-23T09:57:19.792303",
     "status": "completed"
    },
    "tags": []
   },
   "source": [
    "## Fine-Tuning"
   ]
  },
  {
   "cell_type": "code",
   "execution_count": 29,
   "metadata": {
    "execution": {
     "iopub.execute_input": "2021-05-23T09:57:19.921238Z",
     "iopub.status.busy": "2021-05-23T09:57:19.920385Z",
     "iopub.status.idle": "2021-05-23T09:57:19.922257Z",
     "shell.execute_reply": "2021-05-23T09:57:19.922701Z",
     "shell.execute_reply.started": "2021-05-23T09:52:55.468332Z"
    },
    "papermill": {
     "duration": 0.048819,
     "end_time": "2021-05-23T09:57:19.922810",
     "exception": false,
     "start_time": "2021-05-23T09:57:19.873991",
     "status": "completed"
    },
    "tags": []
   },
   "outputs": [],
   "source": [
    "gbm_grid = {\n",
    "    'clf__n_estimators': [500, 1000],\n",
    "    'clf__learning_rate': [0.1, 0.01],\n",
    "    'clf__max_depth': [4, 6, 8],\n",
    "    'clf__colsample_bytree': np.linspace(0.6, 1.0, num=5),\n",
    "    # 'clf__reg_alpha': np.linspace(0., 1.0, num=5),\n",
    "    # 'clf__subsample': np.linspace(0.7, 1.0, num=4),\n",
    "}"
   ]
  },
  {
   "cell_type": "code",
   "execution_count": 30,
   "metadata": {
    "execution": {
     "iopub.execute_input": "2021-05-23T09:57:20.011867Z",
     "iopub.status.busy": "2021-05-23T09:57:20.011167Z",
     "iopub.status.idle": "2021-05-23T09:57:20.014292Z",
     "shell.execute_reply": "2021-05-23T09:57:20.014682Z",
     "shell.execute_reply.started": "2021-05-23T09:52:55.480654Z"
    },
    "papermill": {
     "duration": 0.050499,
     "end_time": "2021-05-23T09:57:20.014792",
     "exception": false,
     "start_time": "2021-05-23T09:57:19.964293",
     "status": "completed"
    },
    "tags": []
   },
   "outputs": [],
   "source": [
    "def grid_search_tuning(pipeline, X, y, grid, fold):\n",
    "    grid = HalvingGridSearchCV(pipeline, param_grid=grid, cv=fold, scoring='f1',\n",
    "                               random_state=SEED, n_jobs=-1, verbose=1)\n",
    "    grid.fit(X, y)\n",
    "    \n",
    "    print(f\"\\nMean test score: {np.mean(grid.cv_results_['mean_test_score'])}\")\n",
    "    print(f'Best parameters: {grid.best_params_}')\n",
    "    \n",
    "    return grid.best_estimator_"
   ]
  },
  {
   "cell_type": "code",
   "execution_count": 31,
   "metadata": {
    "execution": {
     "iopub.execute_input": "2021-05-23T09:57:20.109297Z",
     "iopub.status.busy": "2021-05-23T09:57:20.108476Z",
     "iopub.status.idle": "2021-05-23T09:57:35.074923Z",
     "shell.execute_reply": "2021-05-23T09:57:35.075562Z",
     "shell.execute_reply.started": "2021-05-23T09:52:55.493762Z"
    },
    "papermill": {
     "duration": 15.017963,
     "end_time": "2021-05-23T09:57:35.075730",
     "exception": false,
     "start_time": "2021-05-23T09:57:20.057767",
     "status": "completed"
    },
    "tags": []
   },
   "outputs": [
    {
     "name": "stdout",
     "output_type": "stream",
     "text": [
      "Using previously tuned model parameters.\n"
     ]
    }
   ],
   "source": [
    "if USE_TUNED_PARAMS:\n",
    "    print('Using previously tuned model parameters.')\n",
    "    \n",
    "    best_params = {\n",
    "        'n_estimators': 500,\n",
    "        'learning_rate': 0.01,\n",
    "        'max_depth': 8,\n",
    "        'clf__colsample_bytree': 0.6,\n",
    "    }\n",
    "    \n",
    "    pipeline = Pipeline([\n",
    "        ('standardscaler', StandardScaler()),\n",
    "        ('clf', LGBMClassifier(**best_params, n_jobs=-1, random_state=SEED)),\n",
    "    ])\n",
    "    \n",
    "    grid = pipeline.fit(X_train, y_train)\n",
    "else:\n",
    "    pipeline = Pipeline([\n",
    "        ('standardscaler', StandardScaler()),\n",
    "        ('clf', LGBMClassifier(n_jobs=-1, random_state=SEED)),\n",
    "    ])\n",
    "\n",
    "    # It can take a while to run\n",
    "    grid = grid_search_tuning(pipeline, X_train, y_train, gbm_grid, groups)"
   ]
  },
  {
   "cell_type": "markdown",
   "metadata": {
    "papermill": {
     "duration": 0.052516,
     "end_time": "2021-05-23T09:57:35.181435",
     "exception": false,
     "start_time": "2021-05-23T09:57:35.128919",
     "status": "completed"
    },
    "tags": []
   },
   "source": [
    "Model's performance evaluation on the test set and feature importance."
   ]
  },
  {
   "cell_type": "code",
   "execution_count": 32,
   "metadata": {
    "execution": {
     "iopub.execute_input": "2021-05-23T09:57:35.297366Z",
     "iopub.status.busy": "2021-05-23T09:57:35.296519Z",
     "iopub.status.idle": "2021-05-23T09:57:35.299577Z",
     "shell.execute_reply": "2021-05-23T09:57:35.299054Z",
     "shell.execute_reply.started": "2021-05-23T09:53:15.590212Z"
    },
    "papermill": {
     "duration": 0.065362,
     "end_time": "2021-05-23T09:57:35.299680",
     "exception": false,
     "start_time": "2021-05-23T09:57:35.234318",
     "status": "completed"
    },
    "tags": []
   },
   "outputs": [],
   "source": [
    "def score_model(clf, X_test, y_test, feature_names):\n",
    "    y_pred = clf.predict(X_test)\n",
    "    y_probas = clf.predict_proba(X_test)\n",
    "\n",
    "    print(classification_report_imbalanced(y_test, y_pred, target_names=['Legit', 'Fraud']))\n",
    "    print(f'MCC: {matthews_corrcoef(y_test, y_pred)}\\nAP: ' +\n",
    "          f'{average_precision_score(y_test, y_pred)}\\nROC AUC: {roc_auc_score(y_test, y_pred)}')\n",
    "\n",
    "    fig, ax = plt.subplots(1,2, figsize=(12,5))\n",
    "    skplt.metrics.plot_precision_recall(y_test, y_probas, ax=ax[0])\n",
    "    skplt.metrics.plot_confusion_matrix(y_test, y_pred, normalize=True, ax=ax[1])\n",
    "    fig.show()\n",
    "    \n",
    "    skplt.estimators.plot_feature_importances(clf, feature_names=feature_names, figsize=(16,5))\n",
    "\n",
    "    return y_probas"
   ]
  },
  {
   "cell_type": "code",
   "execution_count": 33,
   "metadata": {
    "execution": {
     "iopub.execute_input": "2021-05-23T09:57:35.388241Z",
     "iopub.status.busy": "2021-05-23T09:57:35.387212Z",
     "iopub.status.idle": "2021-05-23T09:57:37.961953Z",
     "shell.execute_reply": "2021-05-23T09:57:37.961523Z",
     "shell.execute_reply.started": "2021-05-23T09:53:15.606654Z"
    },
    "papermill": {
     "duration": 2.621146,
     "end_time": "2021-05-23T09:57:37.962065",
     "exception": false,
     "start_time": "2021-05-23T09:57:35.340919",
     "status": "completed"
    },
    "tags": []
   },
   "outputs": [
    {
     "name": "stdout",
     "output_type": "stream",
     "text": [
      "                   pre       rec       spe        f1       geo       iba       sup\n",
      "\n",
      "      Legit       1.00      1.00      0.82      1.00      0.90      0.83     56864\n",
      "      Fraud       0.91      0.82      1.00      0.86      0.90      0.80        98\n",
      "\n",
      "avg / total       1.00      1.00      0.82      1.00      0.90      0.83     56962\n",
      "\n",
      "MCC: 0.8612367949974785\n",
      "AP: 0.742431027969758\n",
      "ROC AUC: 0.9080929220309395\n"
     ]
    },
    {
     "data": {
      "image/png": "[encoded data removed]",
      "text/plain": [
       "<Figure size 864x360 with 3 Axes>"
      ]
     },
     "metadata": {
      "needs_background": "light"
     },
     "output_type": "display_data"
    },
    {
     "data": {
      "image/png": "[encoded data removed]",
      "text/plain": [
       "<Figure size 1152x360 with 1 Axes>"
      ]
     },
     "metadata": {
      "needs_background": "light"
     },
     "output_type": "display_data"
    }
   ],
   "source": [
    "scaled_X_test = grid['standardscaler'].transform(X_test)\n",
    "\n",
    "y_probas = score_model(grid['clf'], scaled_X_test, y_test, feature_names)"
   ]
  },
  {
   "cell_type": "code",
   "execution_count": 34,
   "metadata": {
    "execution": {
     "iopub.execute_input": "2021-05-23T09:57:38.052530Z",
     "iopub.status.busy": "2021-05-23T09:57:38.051625Z",
     "iopub.status.idle": "2021-05-23T09:57:38.198185Z",
     "shell.execute_reply": "2021-05-23T09:57:38.198618Z",
     "shell.execute_reply.started": "2021-05-23T09:53:19.938088Z"
    },
    "papermill": {
     "duration": 0.192982,
     "end_time": "2021-05-23T09:57:38.198743",
     "exception": false,
     "start_time": "2021-05-23T09:57:38.005761",
     "status": "completed"
    },
    "tags": []
   },
   "outputs": [
    {
     "data": {
      "text/plain": [
       "<matplotlib.axes._subplots.AxesSubplot at 0x7f910f457590>"
      ]
     },
     "execution_count": 34,
     "metadata": {},
     "output_type": "execute_result"
    },
    {
     "data": {
      "image/png": "[encoded data removed]",
      "text/plain": [
       "<Figure size 432x360 with 1 Axes>"
      ]
     },
     "metadata": {
      "needs_background": "light"
     },
     "output_type": "display_data"
    }
   ],
   "source": [
    "skplt.metrics.plot_calibration_curve(y_test, [y_probas], ['LightGBM'], figsize=(6,5))"
   ]
  },
  {
   "cell_type": "code",
   "execution_count": 35,
   "metadata": {
    "execution": {
     "iopub.execute_input": "2021-05-23T09:57:38.297163Z",
     "iopub.status.busy": "2021-05-23T09:57:38.294726Z",
     "iopub.status.idle": "2021-05-23T10:01:45.031848Z",
     "shell.execute_reply": "2021-05-23T10:01:45.032285Z",
     "shell.execute_reply.started": "2021-05-23T09:53:20.155898Z"
    },
    "papermill": {
     "duration": 246.789653,
     "end_time": "2021-05-23T10:01:45.032402",
     "exception": false,
     "start_time": "2021-05-23T09:57:38.242749",
     "status": "completed"
    },
    "tags": []
   },
   "outputs": [
    {
     "data": {
      "text/plain": [
       "<matplotlib.axes._subplots.AxesSubplot at 0x7f910f35f790>"
      ]
     },
     "execution_count": 35,
     "metadata": {},
     "output_type": "execute_result"
    },
    {
     "data": {
      "image/png": "[encoded data removed]",
      "text/plain": [
       "<Figure size 432x288 with 1 Axes>"
      ]
     },
     "metadata": {
      "needs_background": "light"
     },
     "output_type": "display_data"
    }
   ],
   "source": [
    "skplt.estimators.plot_learning_curve(grid['clf'], X_train, y_train, scoring='f1', n_jobs=-1, random_state=SEED)"
   ]
  },
  {
   "cell_type": "markdown",
   "metadata": {
    "papermill": {
     "duration": 0.044611,
     "end_time": "2021-05-23T10:01:45.121709",
     "exception": false,
     "start_time": "2021-05-23T10:01:45.077098",
     "status": "completed"
    },
    "tags": []
   },
   "source": [
    "# Conclusions\n",
    "\n",
    "With this dataset, resampling the data didn't produce good results. Using under-sampling, over-sampling or a combination of both didn't improve compared with unchanged class proportions.\n",
    "Perhaps, since most variables were from a PCA transformation, that affected the impact of sampling. Another potential reason is the very low number of fraudulent examples caused the under-sampling to produce a tiny dataset, lacking enough data to train a decent model.\n",
    "\n",
    "I hope that this notebook has helpful and if you have any remarks or questions, feel free to leave a comment.\n",
    "\n",
    "You can also follow me on Twitter [@hmatalonga](https://twitter.com/hmatalonga). I talk about Data Science, Machine Learning, among other topics I am interested in."
   ]
  }
 ],
 "metadata": {
  "kernelspec": {
   "display_name": "Python 3",
   "language": "python",
   "name": "python3"
  },
  "language_info": {
   "codemirror_mode": {
    "name": "ipython",
    "version": 3
   },
   "file_extension": ".py",
   "mimetype": "text/x-python",
   "name": "python",
   "nbconvert_exporter": "python",
   "pygments_lexer": "ipython3",
   "version": "3.7.6"
  },
  "papermill": {
   "duration": 313.722462,
   "end_time": "2021-05-23T10:01:45.284291",
   "environment_variables": {},
   "exception": null,
   "input_path": "__notebook__.ipynb",
   "output_path": "__notebook__.ipynb",
   "parameters": {},
   "start_time": "2021-05-23T09:56:31.561829",
   "version": "2.1.0"
  }
 },
 "nbformat": 4,
 "nbformat_minor": 4
}
