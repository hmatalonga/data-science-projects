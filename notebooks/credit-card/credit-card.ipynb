{
 "cells": [
  {
   "cell_type": "markdown",
   "metadata": {
    "papermill": {
     "duration": 0.036786,
     "end_time": "2021-06-03T09:20:26.470297",
     "exception": false,
     "start_time": "2021-06-03T09:20:26.433511",
     "status": "completed"
    },
    "tags": []
   },
   "source": [
    "# Credit Card Fraud Detection\n",
    "\n",
    "**Last updated:** 2021/05/29"
   ]
  },
  {
   "cell_type": "markdown",
   "metadata": {
    "papermill": {
     "duration": 0.035196,
     "end_time": "2021-06-03T09:20:26.541136",
     "exception": false,
     "start_time": "2021-06-03T09:20:26.505940",
     "status": "completed"
    },
    "tags": []
   },
   "source": [
    "# Introduction\n",
    "\n",
    "In this notebook, we will explore the \"Credit Card Fraud Detection\" dataset and build a model to predict which transactions are legit and fraudulent. To describe the contents of the dataset, I will quote the original description:\n",
    "\n",
    "> The dataset contains transactions made by credit cards in September 2013 by European cardholders.\n",
    "This dataset presents transactions that occurred in two days, where we have 492 frauds out of 284,807 transactions. The dataset is highly unbalanced, the positive class (frauds) account for 0.172% of all transactions.\n",
    "\n",
    "> It contains only numerical input variables which are the result of a PCA transformation. Unfortunately, due to confidentiality issues, we cannot provide the original features and more background information about the data. Features V1, V2, … V28 are the principal components obtained with PCA, the only features which have not been transformed with PCA are 'Time' and 'Amount'. Feature 'Time' contains the seconds elapsed between each transaction and the first transaction in the dataset. The feature 'Amount' is the transaction Amount, this feature can be used for example-dependant cost-sensitive learning. Feature 'Class' is the response variable and it takes value 1 in case of fraud and 0 otherwise.\n",
    "\n",
    "We are informed that the dataset is highly unbalanced and that most variables are anonymized and were obtained via PCA transformation. Therefore, we will try a few strategies to handle imbalanced classification and incrementally build a model combining these techniques to optimize its performance. Here are some common approaches to deal with Imbalanced Data:\n",
    "\n",
    "1. Resampling the Data, either undersampling or oversampling or a combination of both.\n",
    "2. Generate Synthetic Data. Use GANs or other methods to create more data points.\n",
    "3. Choosing a more appropriate performance metric. Selecting the wrong metric can generate misleading results.\n",
    "4. Using different Class weights or Cost-sensitive models.\n",
    "5. Collecting more data, in particular for the minority class if possible.\n",
    "6. Frame the problem differently. Consider things like Anomaly Detection. \n",
    "\n",
    "I have written a blog post about this notebook, where I go into more detail in some sections. Take a look:\n",
    "\n",
    "[💳 Handling Imbalanced Datasets: Fraud Detection Study Case](https://hmatalonga.com/blog/handling-imbalanced-datasets-fraud-detection)"
   ]
  },
  {
   "cell_type": "markdown",
   "metadata": {
    "papermill": {
     "duration": 0.034853,
     "end_time": "2021-06-03T09:20:26.611149",
     "exception": false,
     "start_time": "2021-06-03T09:20:26.576296",
     "status": "completed"
    },
    "tags": []
   },
   "source": [
    "## Importing the Libraries"
   ]
  },
  {
   "cell_type": "code",
   "execution_count": 1,
   "metadata": {
    "execution": {
     "iopub.execute_input": "2021-06-03T09:20:26.688404Z",
     "iopub.status.busy": "2021-06-03T09:20:26.687775Z",
     "iopub.status.idle": "2021-06-03T09:20:43.639095Z",
     "shell.execute_reply": "2021-06-03T09:20:43.638268Z",
     "shell.execute_reply.started": "2021-06-03T09:16:23.331106Z"
    },
    "papermill": {
     "duration": 16.992864,
     "end_time": "2021-06-03T09:20:43.639221",
     "exception": false,
     "start_time": "2021-06-03T09:20:26.646357",
     "status": "completed"
    },
    "tags": []
   },
   "outputs": [],
   "source": [
    "%%capture\n",
    "!pip install -qqq -U scikit-learn scikit-plot imbalanced-learn seaborn"
   ]
  },
  {
   "cell_type": "code",
   "execution_count": 2,
   "metadata": {
    "_cell_guid": "79c7e3d0-c299-4dcb-8224-4455121ee9b0",
    "_uuid": "d629ff2d2480ee46fbb7e2d37f6b5fab8052498a",
    "execution": {
     "iopub.execute_input": "2021-06-03T09:20:43.713818Z",
     "iopub.status.busy": "2021-06-03T09:20:43.712822Z",
     "iopub.status.idle": "2021-06-03T09:20:44.786471Z",
     "shell.execute_reply": "2021-06-03T09:20:44.785904Z",
     "shell.execute_reply.started": "2021-06-03T09:16:43.698303Z"
    },
    "papermill": {
     "duration": 1.112047,
     "end_time": "2021-06-03T09:20:44.786584",
     "exception": false,
     "start_time": "2021-06-03T09:20:43.674537",
     "status": "completed"
    },
    "tags": []
   },
   "outputs": [],
   "source": [
    "import os\n",
    "import csv\n",
    "import random\n",
    "import numpy as np\n",
    "import pandas as pd\n",
    "import matplotlib.pyplot as plt\n",
    "import seaborn as sns\n",
    "import scikitplot as skplt\n",
    "\n",
    "from lightgbm import LGBMClassifier\n",
    "\n",
    "from imblearn.under_sampling import RandomUnderSampler\n",
    "from imblearn.pipeline import Pipeline\n",
    "from imblearn.metrics import classification_report_imbalanced\n",
    "\n",
    "from sklearn.preprocessing import StandardScaler\n",
    "from sklearn.model_selection import train_test_split, GroupKFold, StratifiedKFold\n",
    "from sklearn.metrics import (matthews_corrcoef, roc_auc_score,\n",
    "                             average_precision_score, f1_score)\n",
    "\n",
    "from sklearn.experimental import enable_halving_search_cv # noqa\n",
    "from sklearn.model_selection import HalvingGridSearchCV"
   ]
  },
  {
   "cell_type": "code",
   "execution_count": 3,
   "metadata": {
    "execution": {
     "iopub.execute_input": "2021-06-03T09:20:44.863627Z",
     "iopub.status.busy": "2021-06-03T09:20:44.862827Z",
     "iopub.status.idle": "2021-06-03T09:20:44.865780Z",
     "shell.execute_reply": "2021-06-03T09:20:44.865247Z",
     "shell.execute_reply.started": "2021-06-03T09:16:44.891530Z"
    },
    "papermill": {
     "duration": 0.044058,
     "end_time": "2021-06-03T09:20:44.865897",
     "exception": false,
     "start_time": "2021-06-03T09:20:44.821839",
     "status": "completed"
    },
    "tags": []
   },
   "outputs": [],
   "source": [
    "# Set seed for reproducability\n",
    "SEED = 1\n",
    "random.seed(SEED)\n",
    "np.random.seed(SEED)\n",
    "os.environ['PYTHONHASHSEED'] = str(SEED)\n",
    "\n",
    "# Either to used previous grid search results or perform new search\n",
    "USE_TUNED_PARAMS = True"
   ]
  },
  {
   "cell_type": "markdown",
   "metadata": {
    "papermill": {
     "duration": 0.034866,
     "end_time": "2021-06-03T09:20:44.937047",
     "exception": false,
     "start_time": "2021-06-03T09:20:44.902181",
     "status": "completed"
    },
    "tags": []
   },
   "source": [
    "# Loading the Data\n",
    "\n",
    "We will define a customized `read_csv` method to optimize data types and use less memory."
   ]
  },
  {
   "cell_type": "code",
   "execution_count": 4,
   "metadata": {
    "execution": {
     "iopub.execute_input": "2021-06-03T09:20:45.015046Z",
     "iopub.status.busy": "2021-06-03T09:20:45.014345Z",
     "iopub.status.idle": "2021-06-03T09:20:45.017471Z",
     "shell.execute_reply": "2021-06-03T09:20:45.016983Z",
     "shell.execute_reply.started": "2021-06-03T09:16:44.899334Z"
    },
    "papermill": {
     "duration": 0.045559,
     "end_time": "2021-06-03T09:20:45.017600",
     "exception": false,
     "start_time": "2021-06-03T09:20:44.972041",
     "status": "completed"
    },
    "tags": []
   },
   "outputs": [],
   "source": [
    "def read_csv(file_path: str, nrows=None, dtype=np.float32) -> pd.DataFrame:\n",
    "    with open(file_path, 'r') as f:\n",
    "        column_names = next(csv.reader(f))\n",
    "    dtypes = {x: dtype for x in column_names if\n",
    "            x != 'Class'}\n",
    "    dtypes['Class'] = np.int8\n",
    "    return pd.read_csv(file_path, nrows=nrows, dtype=dtypes)"
   ]
  },
  {
   "cell_type": "code",
   "execution_count": 5,
   "metadata": {
    "execution": {
     "iopub.execute_input": "2021-06-03T09:20:45.093690Z",
     "iopub.status.busy": "2021-06-03T09:20:45.093029Z",
     "iopub.status.idle": "2021-06-03T09:20:48.732872Z",
     "shell.execute_reply": "2021-06-03T09:20:48.733558Z",
     "shell.execute_reply.started": "2021-06-03T09:16:44.919107Z"
    },
    "papermill": {
     "duration": 3.680137,
     "end_time": "2021-06-03T09:20:48.733733",
     "exception": false,
     "start_time": "2021-06-03T09:20:45.053596",
     "status": "completed"
    },
    "tags": []
   },
   "outputs": [
    {
     "name": "stdout",
     "output_type": "stream",
     "text": [
      "<class 'pandas.core.frame.DataFrame'>\n",
      "RangeIndex: 284807 entries, 0 to 284806\n",
      "Data columns (total 31 columns):\n",
      " #   Column  Non-Null Count   Dtype  \n",
      "---  ------  --------------   -----  \n",
      " 0   Time    284807 non-null  float32\n",
      " 1   V1      284807 non-null  float32\n",
      " 2   V2      284807 non-null  float32\n",
      " 3   V3      284807 non-null  float32\n",
      " 4   V4      284807 non-null  float32\n",
      " 5   V5      284807 non-null  float32\n",
      " 6   V6      284807 non-null  float32\n",
      " 7   V7      284807 non-null  float32\n",
      " 8   V8      284807 non-null  float32\n",
      " 9   V9      284807 non-null  float32\n",
      " 10  V10     284807 non-null  float32\n",
      " 11  V11     284807 non-null  float32\n",
      " 12  V12     284807 non-null  float32\n",
      " 13  V13     284807 non-null  float32\n",
      " 14  V14     284807 non-null  float32\n",
      " 15  V15     284807 non-null  float32\n",
      " 16  V16     284807 non-null  float32\n",
      " 17  V17     284807 non-null  float32\n",
      " 18  V18     284807 non-null  float32\n",
      " 19  V19     284807 non-null  float32\n",
      " 20  V20     284807 non-null  float32\n",
      " 21  V21     284807 non-null  float32\n",
      " 22  V22     284807 non-null  float32\n",
      " 23  V23     284807 non-null  float32\n",
      " 24  V24     284807 non-null  float32\n",
      " 25  V25     284807 non-null  float32\n",
      " 26  V26     284807 non-null  float32\n",
      " 27  V27     284807 non-null  float32\n",
      " 28  V28     284807 non-null  float32\n",
      " 29  Amount  284807 non-null  float32\n",
      " 30  Class   284807 non-null  int8   \n",
      "dtypes: float32(30), int8(1)\n",
      "memory usage: 32.9 MB\n"
     ]
    }
   ],
   "source": [
    "df = read_csv('/kaggle/input/creditcardfraud/creditcard.csv')\n",
    "df.info()"
   ]
  },
  {
   "cell_type": "code",
   "execution_count": 6,
   "metadata": {
    "execution": {
     "iopub.execute_input": "2021-06-03T09:20:48.822467Z",
     "iopub.status.busy": "2021-06-03T09:20:48.819592Z",
     "iopub.status.idle": "2021-06-03T09:20:48.840487Z",
     "shell.execute_reply": "2021-06-03T09:20:48.839953Z",
     "shell.execute_reply.started": "2021-06-03T09:16:49.442263Z"
    },
    "papermill": {
     "duration": 0.070345,
     "end_time": "2021-06-03T09:20:48.840605",
     "exception": false,
     "start_time": "2021-06-03T09:20:48.770260",
     "status": "completed"
    },
    "tags": []
   },
   "outputs": [
    {
     "data": {
      "text/html": [
       "<div>\n",
       "<style scoped>\n",
       "    .dataframe tbody tr th:only-of-type {\n",
       "        vertical-align: middle;\n",
       "    }\n",
       "\n",
       "    .dataframe tbody tr th {\n",
       "        vertical-align: top;\n",
       "    }\n",
       "\n",
       "    .dataframe thead th {\n",
       "        text-align: right;\n",
       "    }\n",
       "</style>\n",
       "<table border=\"1\" class=\"dataframe\">\n",
       "  <thead>\n",
       "    <tr style=\"text-align: right;\">\n",
       "      <th></th>\n",
       "      <th>Time</th>\n",
       "      <th>V1</th>\n",
       "      <th>V2</th>\n",
       "      <th>V3</th>\n",
       "      <th>V4</th>\n",
       "      <th>V5</th>\n",
       "      <th>V6</th>\n",
       "      <th>V7</th>\n",
       "      <th>V8</th>\n",
       "      <th>V9</th>\n",
       "      <th>...</th>\n",
       "      <th>V21</th>\n",
       "      <th>V22</th>\n",
       "      <th>V23</th>\n",
       "      <th>V24</th>\n",
       "      <th>V25</th>\n",
       "      <th>V26</th>\n",
       "      <th>V27</th>\n",
       "      <th>V28</th>\n",
       "      <th>Amount</th>\n",
       "      <th>Class</th>\n",
       "    </tr>\n",
       "  </thead>\n",
       "  <tbody>\n",
       "    <tr>\n",
       "      <th>0</th>\n",
       "      <td>0.0</td>\n",
       "      <td>-1.359807</td>\n",
       "      <td>-0.072781</td>\n",
       "      <td>2.536347</td>\n",
       "      <td>1.378155</td>\n",
       "      <td>-0.338321</td>\n",
       "      <td>0.462388</td>\n",
       "      <td>0.239599</td>\n",
       "      <td>0.098698</td>\n",
       "      <td>0.363787</td>\n",
       "      <td>...</td>\n",
       "      <td>-0.018307</td>\n",
       "      <td>0.277838</td>\n",
       "      <td>-0.110474</td>\n",
       "      <td>0.066928</td>\n",
       "      <td>0.128539</td>\n",
       "      <td>-0.189115</td>\n",
       "      <td>0.133558</td>\n",
       "      <td>-0.021053</td>\n",
       "      <td>149.619995</td>\n",
       "      <td>0</td>\n",
       "    </tr>\n",
       "    <tr>\n",
       "      <th>1</th>\n",
       "      <td>0.0</td>\n",
       "      <td>1.191857</td>\n",
       "      <td>0.266151</td>\n",
       "      <td>0.166480</td>\n",
       "      <td>0.448154</td>\n",
       "      <td>0.060018</td>\n",
       "      <td>-0.082361</td>\n",
       "      <td>-0.078803</td>\n",
       "      <td>0.085102</td>\n",
       "      <td>-0.255425</td>\n",
       "      <td>...</td>\n",
       "      <td>-0.225775</td>\n",
       "      <td>-0.638672</td>\n",
       "      <td>0.101288</td>\n",
       "      <td>-0.339846</td>\n",
       "      <td>0.167170</td>\n",
       "      <td>0.125895</td>\n",
       "      <td>-0.008983</td>\n",
       "      <td>0.014724</td>\n",
       "      <td>2.690000</td>\n",
       "      <td>0</td>\n",
       "    </tr>\n",
       "    <tr>\n",
       "      <th>2</th>\n",
       "      <td>1.0</td>\n",
       "      <td>-1.358354</td>\n",
       "      <td>-1.340163</td>\n",
       "      <td>1.773209</td>\n",
       "      <td>0.379780</td>\n",
       "      <td>-0.503198</td>\n",
       "      <td>1.800499</td>\n",
       "      <td>0.791461</td>\n",
       "      <td>0.247676</td>\n",
       "      <td>-1.514654</td>\n",
       "      <td>...</td>\n",
       "      <td>0.247998</td>\n",
       "      <td>0.771679</td>\n",
       "      <td>0.909412</td>\n",
       "      <td>-0.689281</td>\n",
       "      <td>-0.327642</td>\n",
       "      <td>-0.139097</td>\n",
       "      <td>-0.055353</td>\n",
       "      <td>-0.059752</td>\n",
       "      <td>378.660004</td>\n",
       "      <td>0</td>\n",
       "    </tr>\n",
       "    <tr>\n",
       "      <th>3</th>\n",
       "      <td>1.0</td>\n",
       "      <td>-0.966272</td>\n",
       "      <td>-0.185226</td>\n",
       "      <td>1.792993</td>\n",
       "      <td>-0.863291</td>\n",
       "      <td>-0.010309</td>\n",
       "      <td>1.247203</td>\n",
       "      <td>0.237609</td>\n",
       "      <td>0.377436</td>\n",
       "      <td>-1.387024</td>\n",
       "      <td>...</td>\n",
       "      <td>-0.108300</td>\n",
       "      <td>0.005274</td>\n",
       "      <td>-0.190321</td>\n",
       "      <td>-1.175575</td>\n",
       "      <td>0.647376</td>\n",
       "      <td>-0.221929</td>\n",
       "      <td>0.062723</td>\n",
       "      <td>0.061458</td>\n",
       "      <td>123.500000</td>\n",
       "      <td>0</td>\n",
       "    </tr>\n",
       "    <tr>\n",
       "      <th>4</th>\n",
       "      <td>2.0</td>\n",
       "      <td>-1.158233</td>\n",
       "      <td>0.877737</td>\n",
       "      <td>1.548718</td>\n",
       "      <td>0.403034</td>\n",
       "      <td>-0.407193</td>\n",
       "      <td>0.095921</td>\n",
       "      <td>0.592941</td>\n",
       "      <td>-0.270533</td>\n",
       "      <td>0.817739</td>\n",
       "      <td>...</td>\n",
       "      <td>-0.009431</td>\n",
       "      <td>0.798279</td>\n",
       "      <td>-0.137458</td>\n",
       "      <td>0.141267</td>\n",
       "      <td>-0.206010</td>\n",
       "      <td>0.502292</td>\n",
       "      <td>0.219422</td>\n",
       "      <td>0.215153</td>\n",
       "      <td>69.989998</td>\n",
       "      <td>0</td>\n",
       "    </tr>\n",
       "  </tbody>\n",
       "</table>\n",
       "<p>5 rows × 31 columns</p>\n",
       "</div>"
      ],
      "text/plain": [
       "   Time        V1        V2        V3        V4        V5        V6        V7  \\\n",
       "0   0.0 -1.359807 -0.072781  2.536347  1.378155 -0.338321  0.462388  0.239599   \n",
       "1   0.0  1.191857  0.266151  0.166480  0.448154  0.060018 -0.082361 -0.078803   \n",
       "2   1.0 -1.358354 -1.340163  1.773209  0.379780 -0.503198  1.800499  0.791461   \n",
       "3   1.0 -0.966272 -0.185226  1.792993 -0.863291 -0.010309  1.247203  0.237609   \n",
       "4   2.0 -1.158233  0.877737  1.548718  0.403034 -0.407193  0.095921  0.592941   \n",
       "\n",
       "         V8        V9  ...       V21       V22       V23       V24       V25  \\\n",
       "0  0.098698  0.363787  ... -0.018307  0.277838 -0.110474  0.066928  0.128539   \n",
       "1  0.085102 -0.255425  ... -0.225775 -0.638672  0.101288 -0.339846  0.167170   \n",
       "2  0.247676 -1.514654  ...  0.247998  0.771679  0.909412 -0.689281 -0.327642   \n",
       "3  0.377436 -1.387024  ... -0.108300  0.005274 -0.190321 -1.175575  0.647376   \n",
       "4 -0.270533  0.817739  ... -0.009431  0.798279 -0.137458  0.141267 -0.206010   \n",
       "\n",
       "        V26       V27       V28      Amount  Class  \n",
       "0 -0.189115  0.133558 -0.021053  149.619995      0  \n",
       "1  0.125895 -0.008983  0.014724    2.690000      0  \n",
       "2 -0.139097 -0.055353 -0.059752  378.660004      0  \n",
       "3 -0.221929  0.062723  0.061458  123.500000      0  \n",
       "4  0.502292  0.219422  0.215153   69.989998      0  \n",
       "\n",
       "[5 rows x 31 columns]"
      ]
     },
     "execution_count": 6,
     "metadata": {},
     "output_type": "execute_result"
    }
   ],
   "source": [
    "df.head()"
   ]
  },
  {
   "cell_type": "markdown",
   "metadata": {
    "papermill": {
     "duration": 0.036627,
     "end_time": "2021-06-03T09:20:48.914889",
     "exception": false,
     "start_time": "2021-06-03T09:20:48.878262",
     "status": "completed"
    },
    "tags": []
   },
   "source": [
    "# Data Exploration"
   ]
  },
  {
   "cell_type": "code",
   "execution_count": 7,
   "metadata": {
    "execution": {
     "iopub.execute_input": "2021-06-03T09:20:49.011953Z",
     "iopub.status.busy": "2021-06-03T09:20:49.010785Z",
     "iopub.status.idle": "2021-06-03T09:20:49.363651Z",
     "shell.execute_reply": "2021-06-03T09:20:49.362980Z",
     "shell.execute_reply.started": "2021-06-03T09:16:49.480396Z"
    },
    "papermill": {
     "duration": 0.412341,
     "end_time": "2021-06-03T09:20:49.363785",
     "exception": false,
     "start_time": "2021-06-03T09:20:48.951444",
     "status": "completed"
    },
    "tags": []
   },
   "outputs": [
    {
     "data": {
      "text/html": [
       "<div>\n",
       "<style scoped>\n",
       "    .dataframe tbody tr th:only-of-type {\n",
       "        vertical-align: middle;\n",
       "    }\n",
       "\n",
       "    .dataframe tbody tr th {\n",
       "        vertical-align: top;\n",
       "    }\n",
       "\n",
       "    .dataframe thead th {\n",
       "        text-align: right;\n",
       "    }\n",
       "</style>\n",
       "<table border=\"1\" class=\"dataframe\">\n",
       "  <thead>\n",
       "    <tr style=\"text-align: right;\">\n",
       "      <th></th>\n",
       "      <th>Time</th>\n",
       "      <th>V1</th>\n",
       "      <th>V2</th>\n",
       "      <th>V3</th>\n",
       "      <th>V4</th>\n",
       "      <th>V5</th>\n",
       "      <th>V6</th>\n",
       "      <th>V7</th>\n",
       "      <th>V8</th>\n",
       "      <th>V9</th>\n",
       "      <th>...</th>\n",
       "      <th>V21</th>\n",
       "      <th>V22</th>\n",
       "      <th>V23</th>\n",
       "      <th>V24</th>\n",
       "      <th>V25</th>\n",
       "      <th>V26</th>\n",
       "      <th>V27</th>\n",
       "      <th>V28</th>\n",
       "      <th>Amount</th>\n",
       "      <th>Class</th>\n",
       "    </tr>\n",
       "  </thead>\n",
       "  <tbody>\n",
       "    <tr>\n",
       "      <th>count</th>\n",
       "      <td>284807.000000</td>\n",
       "      <td>2.848070e+05</td>\n",
       "      <td>2.848070e+05</td>\n",
       "      <td>284807.000000</td>\n",
       "      <td>284807.000000</td>\n",
       "      <td>2.848070e+05</td>\n",
       "      <td>2.848070e+05</td>\n",
       "      <td>2.848070e+05</td>\n",
       "      <td>2.848070e+05</td>\n",
       "      <td>2.848070e+05</td>\n",
       "      <td>...</td>\n",
       "      <td>2.848070e+05</td>\n",
       "      <td>2.848070e+05</td>\n",
       "      <td>2.848070e+05</td>\n",
       "      <td>2.848070e+05</td>\n",
       "      <td>2.848070e+05</td>\n",
       "      <td>2.848070e+05</td>\n",
       "      <td>2.848070e+05</td>\n",
       "      <td>2.848070e+05</td>\n",
       "      <td>284807.000000</td>\n",
       "      <td>284807.000000</td>\n",
       "    </tr>\n",
       "    <tr>\n",
       "      <th>mean</th>\n",
       "      <td>94812.664062</td>\n",
       "      <td>-6.765166e-07</td>\n",
       "      <td>-2.200436e-07</td>\n",
       "      <td>0.000002</td>\n",
       "      <td>0.000001</td>\n",
       "      <td>-2.162242e-07</td>\n",
       "      <td>-3.044802e-07</td>\n",
       "      <td>3.562525e-07</td>\n",
       "      <td>-1.653899e-07</td>\n",
       "      <td>1.252389e-07</td>\n",
       "      <td>...</td>\n",
       "      <td>-1.392230e-08</td>\n",
       "      <td>1.401162e-07</td>\n",
       "      <td>2.286466e-08</td>\n",
       "      <td>-2.529817e-08</td>\n",
       "      <td>-6.366587e-07</td>\n",
       "      <td>-1.851112e-07</td>\n",
       "      <td>-6.904835e-09</td>\n",
       "      <td>-3.216587e-09</td>\n",
       "      <td>88.322945</td>\n",
       "      <td>0.001727</td>\n",
       "    </tr>\n",
       "    <tr>\n",
       "      <th>std</th>\n",
       "      <td>47487.195312</td>\n",
       "      <td>1.958611e+00</td>\n",
       "      <td>1.651183e+00</td>\n",
       "      <td>1.516203</td>\n",
       "      <td>1.415832</td>\n",
       "      <td>1.380180e+00</td>\n",
       "      <td>1.332214e+00</td>\n",
       "      <td>1.237020e+00</td>\n",
       "      <td>1.194202e+00</td>\n",
       "      <td>1.098575e+00</td>\n",
       "      <td>...</td>\n",
       "      <td>7.344701e-01</td>\n",
       "      <td>7.256873e-01</td>\n",
       "      <td>6.244100e-01</td>\n",
       "      <td>6.056016e-01</td>\n",
       "      <td>5.212620e-01</td>\n",
       "      <td>4.822155e-01</td>\n",
       "      <td>4.035722e-01</td>\n",
       "      <td>3.300574e-01</td>\n",
       "      <td>250.071564</td>\n",
       "      <td>0.041527</td>\n",
       "    </tr>\n",
       "    <tr>\n",
       "      <th>min</th>\n",
       "      <td>0.000000</td>\n",
       "      <td>-5.640751e+01</td>\n",
       "      <td>-7.271573e+01</td>\n",
       "      <td>-48.325588</td>\n",
       "      <td>-5.683171</td>\n",
       "      <td>-1.137433e+02</td>\n",
       "      <td>-2.616051e+01</td>\n",
       "      <td>-4.355724e+01</td>\n",
       "      <td>-7.321672e+01</td>\n",
       "      <td>-1.343407e+01</td>\n",
       "      <td>...</td>\n",
       "      <td>-3.483038e+01</td>\n",
       "      <td>-1.093314e+01</td>\n",
       "      <td>-4.480774e+01</td>\n",
       "      <td>-2.836627e+00</td>\n",
       "      <td>-1.029540e+01</td>\n",
       "      <td>-2.604551e+00</td>\n",
       "      <td>-2.256568e+01</td>\n",
       "      <td>-1.543008e+01</td>\n",
       "      <td>0.000000</td>\n",
       "      <td>0.000000</td>\n",
       "    </tr>\n",
       "    <tr>\n",
       "      <th>25%</th>\n",
       "      <td>54201.500000</td>\n",
       "      <td>-9.203734e-01</td>\n",
       "      <td>-5.985499e-01</td>\n",
       "      <td>-0.890365</td>\n",
       "      <td>-0.848640</td>\n",
       "      <td>-6.915971e-01</td>\n",
       "      <td>-7.682956e-01</td>\n",
       "      <td>-5.540759e-01</td>\n",
       "      <td>-2.086297e-01</td>\n",
       "      <td>-6.430976e-01</td>\n",
       "      <td>...</td>\n",
       "      <td>-2.283949e-01</td>\n",
       "      <td>-5.423504e-01</td>\n",
       "      <td>-1.618463e-01</td>\n",
       "      <td>-3.545861e-01</td>\n",
       "      <td>-3.171451e-01</td>\n",
       "      <td>-3.269839e-01</td>\n",
       "      <td>-7.083953e-02</td>\n",
       "      <td>-5.295979e-02</td>\n",
       "      <td>5.600000</td>\n",
       "      <td>0.000000</td>\n",
       "    </tr>\n",
       "    <tr>\n",
       "      <th>50%</th>\n",
       "      <td>84692.000000</td>\n",
       "      <td>1.810880e-02</td>\n",
       "      <td>6.548556e-02</td>\n",
       "      <td>0.179846</td>\n",
       "      <td>-0.019847</td>\n",
       "      <td>-5.433583e-02</td>\n",
       "      <td>-2.741871e-01</td>\n",
       "      <td>4.010308e-02</td>\n",
       "      <td>2.235804e-02</td>\n",
       "      <td>-5.142873e-02</td>\n",
       "      <td>...</td>\n",
       "      <td>-2.945017e-02</td>\n",
       "      <td>6.781943e-03</td>\n",
       "      <td>-1.119293e-02</td>\n",
       "      <td>4.097605e-02</td>\n",
       "      <td>1.659350e-02</td>\n",
       "      <td>-5.213911e-02</td>\n",
       "      <td>1.342146e-03</td>\n",
       "      <td>1.124383e-02</td>\n",
       "      <td>22.000000</td>\n",
       "      <td>0.000000</td>\n",
       "    </tr>\n",
       "    <tr>\n",
       "      <th>75%</th>\n",
       "      <td>139320.500000</td>\n",
       "      <td>1.315642e+00</td>\n",
       "      <td>8.037239e-01</td>\n",
       "      <td>1.027196</td>\n",
       "      <td>0.743341</td>\n",
       "      <td>6.119264e-01</td>\n",
       "      <td>3.985649e-01</td>\n",
       "      <td>5.704361e-01</td>\n",
       "      <td>3.273458e-01</td>\n",
       "      <td>5.971390e-01</td>\n",
       "      <td>...</td>\n",
       "      <td>1.863772e-01</td>\n",
       "      <td>5.285536e-01</td>\n",
       "      <td>1.476421e-01</td>\n",
       "      <td>4.395266e-01</td>\n",
       "      <td>3.507156e-01</td>\n",
       "      <td>2.409522e-01</td>\n",
       "      <td>9.104512e-02</td>\n",
       "      <td>7.827995e-02</td>\n",
       "      <td>77.165001</td>\n",
       "      <td>0.000000</td>\n",
       "    </tr>\n",
       "    <tr>\n",
       "      <th>max</th>\n",
       "      <td>172792.000000</td>\n",
       "      <td>2.454930e+00</td>\n",
       "      <td>2.205773e+01</td>\n",
       "      <td>9.382559</td>\n",
       "      <td>16.875343</td>\n",
       "      <td>3.480167e+01</td>\n",
       "      <td>7.330163e+01</td>\n",
       "      <td>1.205895e+02</td>\n",
       "      <td>2.000721e+01</td>\n",
       "      <td>1.559499e+01</td>\n",
       "      <td>...</td>\n",
       "      <td>2.720284e+01</td>\n",
       "      <td>1.050309e+01</td>\n",
       "      <td>2.252841e+01</td>\n",
       "      <td>4.584549e+00</td>\n",
       "      <td>7.519588e+00</td>\n",
       "      <td>3.517346e+00</td>\n",
       "      <td>3.161220e+01</td>\n",
       "      <td>3.384781e+01</td>\n",
       "      <td>25691.160156</td>\n",
       "      <td>1.000000</td>\n",
       "    </tr>\n",
       "  </tbody>\n",
       "</table>\n",
       "<p>8 rows × 31 columns</p>\n",
       "</div>"
      ],
      "text/plain": [
       "                Time            V1            V2             V3  \\\n",
       "count  284807.000000  2.848070e+05  2.848070e+05  284807.000000   \n",
       "mean    94812.664062 -6.765166e-07 -2.200436e-07       0.000002   \n",
       "std     47487.195312  1.958611e+00  1.651183e+00       1.516203   \n",
       "min         0.000000 -5.640751e+01 -7.271573e+01     -48.325588   \n",
       "25%     54201.500000 -9.203734e-01 -5.985499e-01      -0.890365   \n",
       "50%     84692.000000  1.810880e-02  6.548556e-02       0.179846   \n",
       "75%    139320.500000  1.315642e+00  8.037239e-01       1.027196   \n",
       "max    172792.000000  2.454930e+00  2.205773e+01       9.382559   \n",
       "\n",
       "                  V4            V5            V6            V7            V8  \\\n",
       "count  284807.000000  2.848070e+05  2.848070e+05  2.848070e+05  2.848070e+05   \n",
       "mean        0.000001 -2.162242e-07 -3.044802e-07  3.562525e-07 -1.653899e-07   \n",
       "std         1.415832  1.380180e+00  1.332214e+00  1.237020e+00  1.194202e+00   \n",
       "min        -5.683171 -1.137433e+02 -2.616051e+01 -4.355724e+01 -7.321672e+01   \n",
       "25%        -0.848640 -6.915971e-01 -7.682956e-01 -5.540759e-01 -2.086297e-01   \n",
       "50%        -0.019847 -5.433583e-02 -2.741871e-01  4.010308e-02  2.235804e-02   \n",
       "75%         0.743341  6.119264e-01  3.985649e-01  5.704361e-01  3.273458e-01   \n",
       "max        16.875343  3.480167e+01  7.330163e+01  1.205895e+02  2.000721e+01   \n",
       "\n",
       "                 V9  ...           V21           V22           V23  \\\n",
       "count  2.848070e+05  ...  2.848070e+05  2.848070e+05  2.848070e+05   \n",
       "mean   1.252389e-07  ... -1.392230e-08  1.401162e-07  2.286466e-08   \n",
       "std    1.098575e+00  ...  7.344701e-01  7.256873e-01  6.244100e-01   \n",
       "min   -1.343407e+01  ... -3.483038e+01 -1.093314e+01 -4.480774e+01   \n",
       "25%   -6.430976e-01  ... -2.283949e-01 -5.423504e-01 -1.618463e-01   \n",
       "50%   -5.142873e-02  ... -2.945017e-02  6.781943e-03 -1.119293e-02   \n",
       "75%    5.971390e-01  ...  1.863772e-01  5.285536e-01  1.476421e-01   \n",
       "max    1.559499e+01  ...  2.720284e+01  1.050309e+01  2.252841e+01   \n",
       "\n",
       "                V24           V25           V26           V27           V28  \\\n",
       "count  2.848070e+05  2.848070e+05  2.848070e+05  2.848070e+05  2.848070e+05   \n",
       "mean  -2.529817e-08 -6.366587e-07 -1.851112e-07 -6.904835e-09 -3.216587e-09   \n",
       "std    6.056016e-01  5.212620e-01  4.822155e-01  4.035722e-01  3.300574e-01   \n",
       "min   -2.836627e+00 -1.029540e+01 -2.604551e+00 -2.256568e+01 -1.543008e+01   \n",
       "25%   -3.545861e-01 -3.171451e-01 -3.269839e-01 -7.083953e-02 -5.295979e-02   \n",
       "50%    4.097605e-02  1.659350e-02 -5.213911e-02  1.342146e-03  1.124383e-02   \n",
       "75%    4.395266e-01  3.507156e-01  2.409522e-01  9.104512e-02  7.827995e-02   \n",
       "max    4.584549e+00  7.519588e+00  3.517346e+00  3.161220e+01  3.384781e+01   \n",
       "\n",
       "              Amount          Class  \n",
       "count  284807.000000  284807.000000  \n",
       "mean       88.322945       0.001727  \n",
       "std       250.071564       0.041527  \n",
       "min         0.000000       0.000000  \n",
       "25%         5.600000       0.000000  \n",
       "50%        22.000000       0.000000  \n",
       "75%        77.165001       0.000000  \n",
       "max     25691.160156       1.000000  \n",
       "\n",
       "[8 rows x 31 columns]"
      ]
     },
     "execution_count": 7,
     "metadata": {},
     "output_type": "execute_result"
    }
   ],
   "source": [
    "df.describe()"
   ]
  },
  {
   "cell_type": "markdown",
   "metadata": {
    "papermill": {
     "duration": 0.037118,
     "end_time": "2021-06-03T09:20:49.438620",
     "exception": false,
     "start_time": "2021-06-03T09:20:49.401502",
     "status": "completed"
    },
    "tags": []
   },
   "source": [
    "We will check if there are any missing values."
   ]
  },
  {
   "cell_type": "code",
   "execution_count": 8,
   "metadata": {
    "execution": {
     "iopub.execute_input": "2021-06-03T09:20:49.517910Z",
     "iopub.status.busy": "2021-06-03T09:20:49.517185Z",
     "iopub.status.idle": "2021-06-03T09:20:49.541750Z",
     "shell.execute_reply": "2021-06-03T09:20:49.542228Z",
     "shell.execute_reply.started": "2021-06-03T09:16:49.893760Z"
    },
    "papermill": {
     "duration": 0.066679,
     "end_time": "2021-06-03T09:20:49.542379",
     "exception": false,
     "start_time": "2021-06-03T09:20:49.475700",
     "status": "completed"
    },
    "tags": []
   },
   "outputs": [
    {
     "data": {
      "text/plain": [
       "Time      0\n",
       "V1        0\n",
       "V2        0\n",
       "V3        0\n",
       "V4        0\n",
       "V5        0\n",
       "V6        0\n",
       "V7        0\n",
       "V8        0\n",
       "V9        0\n",
       "V10       0\n",
       "V11       0\n",
       "V12       0\n",
       "V13       0\n",
       "V14       0\n",
       "V15       0\n",
       "V16       0\n",
       "V17       0\n",
       "V18       0\n",
       "V19       0\n",
       "V20       0\n",
       "V21       0\n",
       "V22       0\n",
       "V23       0\n",
       "V24       0\n",
       "V25       0\n",
       "V26       0\n",
       "V27       0\n",
       "V28       0\n",
       "Amount    0\n",
       "Class     0\n",
       "dtype: int64"
      ]
     },
     "execution_count": 8,
     "metadata": {},
     "output_type": "execute_result"
    }
   ],
   "source": [
    "df.isna().sum()"
   ]
  },
  {
   "cell_type": "markdown",
   "metadata": {
    "papermill": {
     "duration": 0.037367,
     "end_time": "2021-06-03T09:20:49.617447",
     "exception": false,
     "start_time": "2021-06-03T09:20:49.580080",
     "status": "completed"
    },
    "tags": []
   },
   "source": [
    "We will use a copy of the DataFrame to make modifications for visualisation purposes only."
   ]
  },
  {
   "cell_type": "code",
   "execution_count": 9,
   "metadata": {
    "execution": {
     "iopub.execute_input": "2021-06-03T09:20:49.697214Z",
     "iopub.status.busy": "2021-06-03T09:20:49.696501Z",
     "iopub.status.idle": "2021-06-03T09:20:49.711141Z",
     "shell.execute_reply": "2021-06-03T09:20:49.710454Z",
     "shell.execute_reply.started": "2021-06-03T09:16:49.924816Z"
    },
    "papermill": {
     "duration": 0.056337,
     "end_time": "2021-06-03T09:20:49.711254",
     "exception": false,
     "start_time": "2021-06-03T09:20:49.654917",
     "status": "completed"
    },
    "tags": []
   },
   "outputs": [],
   "source": [
    "df_copy = df.copy()"
   ]
  },
  {
   "cell_type": "code",
   "execution_count": 10,
   "metadata": {
    "execution": {
     "iopub.execute_input": "2021-06-03T09:20:49.792086Z",
     "iopub.status.busy": "2021-06-03T09:20:49.791387Z",
     "iopub.status.idle": "2021-06-03T09:20:51.730667Z",
     "shell.execute_reply": "2021-06-03T09:20:51.731269Z",
     "shell.execute_reply.started": "2021-06-03T09:16:49.944284Z"
    },
    "papermill": {
     "duration": 1.982531,
     "end_time": "2021-06-03T09:20:51.731440",
     "exception": false,
     "start_time": "2021-06-03T09:20:49.748909",
     "status": "completed"
    },
    "tags": []
   },
   "outputs": [
    {
     "data": {
      "text/plain": [
       "<seaborn.axisgrid.FacetGrid at 0x7f2cd0d57ed0>"
      ]
     },
     "execution_count": 10,
     "metadata": {},
     "output_type": "execute_result"
    },
    {
     "data": {
      "image/png": "[encoded data removed]",
      "text/plain": [
       "<Figure size 402.375x360 with 1 Axes>"
      ]
     },
     "metadata": {
      "needs_background": "light"
     },
     "output_type": "display_data"
    }
   ],
   "source": [
    "ax = sns.displot(df_copy, x='Time', hue='Class', kind='kde', fill=True, common_norm=False)\n",
    "ax.set(title='Time Density Plot per Class')"
   ]
  },
  {
   "cell_type": "code",
   "execution_count": 11,
   "metadata": {
    "execution": {
     "iopub.execute_input": "2021-06-03T09:20:51.816077Z",
     "iopub.status.busy": "2021-06-03T09:20:51.814993Z",
     "iopub.status.idle": "2021-06-03T09:20:53.484571Z",
     "shell.execute_reply": "2021-06-03T09:20:53.485049Z",
     "shell.execute_reply.started": "2021-06-03T09:16:51.933431Z"
    },
    "papermill": {
     "duration": 1.714711,
     "end_time": "2021-06-03T09:20:53.485197",
     "exception": false,
     "start_time": "2021-06-03T09:20:51.770486",
     "status": "completed"
    },
    "tags": []
   },
   "outputs": [
    {
     "data": {
      "text/plain": [
       "<seaborn.axisgrid.FacetGrid at 0x7f2cd0d4d090>"
      ]
     },
     "execution_count": 11,
     "metadata": {},
     "output_type": "execute_result"
    },
    {
     "data": {
      "image/png": "[encoded data removed]",
      "text/plain": [
       "<Figure size 402.375x360 with 1 Axes>"
      ]
     },
     "metadata": {
      "needs_background": "light"
     },
     "output_type": "display_data"
    }
   ],
   "source": [
    "ax = sns.displot(df_copy, x='Amount', hue='Class', kind='kde', fill=True, common_norm=False)\n",
    "ax.set(title='Amount Density Plot per Class')"
   ]
  },
  {
   "cell_type": "code",
   "execution_count": 12,
   "metadata": {
    "execution": {
     "iopub.execute_input": "2021-06-03T09:20:53.568344Z",
     "iopub.status.busy": "2021-06-03T09:20:53.567742Z",
     "iopub.status.idle": "2021-06-03T09:20:56.265142Z",
     "shell.execute_reply": "2021-06-03T09:20:56.264548Z",
     "shell.execute_reply.started": "2021-06-03T09:16:53.745415Z"
    },
    "papermill": {
     "duration": 2.739991,
     "end_time": "2021-06-03T09:20:56.265259",
     "exception": false,
     "start_time": "2021-06-03T09:20:53.525268",
     "status": "completed"
    },
    "tags": []
   },
   "outputs": [
    {
     "data": {
      "text/plain": [
       "<seaborn.axisgrid.FacetGrid at 0x7f2ccf9ae1d0>"
      ]
     },
     "execution_count": 12,
     "metadata": {},
     "output_type": "execute_result"
    },
    {
     "data": {
      "image/png": "[encoded data removed]",
      "text/plain": [
       "<Figure size 402.375x360 with 1 Axes>"
      ]
     },
     "metadata": {
      "needs_background": "light"
     },
     "output_type": "display_data"
    }
   ],
   "source": [
    "df_copy['Hour'] = df_copy['Time'].apply(lambda x: np.ceil(x / 3600) % 24)\n",
    "\n",
    "ax = sns.displot(df_copy, x='Hour', hue='Class', kind='kde', fill=True, common_norm=False)\n",
    "ax.set(title='Amount Density Plot per Class')"
   ]
  },
  {
   "cell_type": "code",
   "execution_count": 13,
   "metadata": {
    "execution": {
     "iopub.execute_input": "2021-06-03T09:20:56.356683Z",
     "iopub.status.busy": "2021-06-03T09:20:56.355756Z",
     "iopub.status.idle": "2021-06-03T09:20:56.411688Z",
     "shell.execute_reply": "2021-06-03T09:20:56.411045Z",
     "shell.execute_reply.started": "2021-06-03T09:16:56.560257Z"
    },
    "papermill": {
     "duration": 0.104852,
     "end_time": "2021-06-03T09:20:56.411817",
     "exception": false,
     "start_time": "2021-06-03T09:20:56.306965",
     "status": "completed"
    },
    "tags": []
   },
   "outputs": [
    {
     "data": {
      "text/html": [
       "<div>\n",
       "<style scoped>\n",
       "    .dataframe tbody tr th:only-of-type {\n",
       "        vertical-align: middle;\n",
       "    }\n",
       "\n",
       "    .dataframe tbody tr th {\n",
       "        vertical-align: top;\n",
       "    }\n",
       "\n",
       "    .dataframe thead th {\n",
       "        text-align: right;\n",
       "    }\n",
       "</style>\n",
       "<table border=\"1\" class=\"dataframe\">\n",
       "  <thead>\n",
       "    <tr style=\"text-align: right;\">\n",
       "      <th></th>\n",
       "      <th>Hour</th>\n",
       "      <th>Class</th>\n",
       "      <th>Min</th>\n",
       "      <th>Max</th>\n",
       "      <th>Transactions</th>\n",
       "      <th>Sum</th>\n",
       "      <th>Mean</th>\n",
       "      <th>Median</th>\n",
       "      <th>Var</th>\n",
       "    </tr>\n",
       "  </thead>\n",
       "  <tbody>\n",
       "    <tr>\n",
       "      <th>0</th>\n",
       "      <td>0.0</td>\n",
       "      <td>0</td>\n",
       "      <td>0.0</td>\n",
       "      <td>10199.440430</td>\n",
       "      <td>10919</td>\n",
       "      <td>750813.937500</td>\n",
       "      <td>68.762154</td>\n",
       "      <td>14.400000</td>\n",
       "      <td>46255.160156</td>\n",
       "    </tr>\n",
       "    <tr>\n",
       "      <th>1</th>\n",
       "      <td>0.0</td>\n",
       "      <td>1</td>\n",
       "      <td>0.0</td>\n",
       "      <td>512.250000</td>\n",
       "      <td>21</td>\n",
       "      <td>3143.119873</td>\n",
       "      <td>149.672379</td>\n",
       "      <td>42.529999</td>\n",
       "      <td>31753.310547</td>\n",
       "    </tr>\n",
       "    <tr>\n",
       "      <th>2</th>\n",
       "      <td>1.0</td>\n",
       "      <td>0</td>\n",
       "      <td>0.0</td>\n",
       "      <td>7712.430176</td>\n",
       "      <td>7687</td>\n",
       "      <td>462282.281250</td>\n",
       "      <td>60.138191</td>\n",
       "      <td>12.140000</td>\n",
       "      <td>33692.777344</td>\n",
       "    </tr>\n",
       "    <tr>\n",
       "      <th>3</th>\n",
       "      <td>1.0</td>\n",
       "      <td>1</td>\n",
       "      <td>0.0</td>\n",
       "      <td>829.409973</td>\n",
       "      <td>6</td>\n",
       "      <td>1820.069946</td>\n",
       "      <td>303.345001</td>\n",
       "      <td>230.239990</td>\n",
       "      <td>123876.718750</td>\n",
       "    </tr>\n",
       "    <tr>\n",
       "      <th>4</th>\n",
       "      <td>2.0</td>\n",
       "      <td>0</td>\n",
       "      <td>0.0</td>\n",
       "      <td>2481.600098</td>\n",
       "      <td>4212</td>\n",
       "      <td>263171.250000</td>\n",
       "      <td>62.481300</td>\n",
       "      <td>18.980000</td>\n",
       "      <td>21216.832031</td>\n",
       "    </tr>\n",
       "  </tbody>\n",
       "</table>\n",
       "</div>"
      ],
      "text/plain": [
       "   Hour  Class  Min           Max  Transactions            Sum        Mean  \\\n",
       "0   0.0      0  0.0  10199.440430         10919  750813.937500   68.762154   \n",
       "1   0.0      1  0.0    512.250000            21    3143.119873  149.672379   \n",
       "2   1.0      0  0.0   7712.430176          7687  462282.281250   60.138191   \n",
       "3   1.0      1  0.0    829.409973             6    1820.069946  303.345001   \n",
       "4   2.0      0  0.0   2481.600098          4212  263171.250000   62.481300   \n",
       "\n",
       "       Median            Var  \n",
       "0   14.400000   46255.160156  \n",
       "1   42.529999   31753.310547  \n",
       "2   12.140000   33692.777344  \n",
       "3  230.239990  123876.718750  \n",
       "4   18.980000   21216.832031  "
      ]
     },
     "execution_count": 13,
     "metadata": {},
     "output_type": "execute_result"
    }
   ],
   "source": [
    "# This cell code was obtained from this source:\n",
    "# https://www.kaggle.com/gpreda/credit-card-fraud-detection-predictive-models\n",
    "\n",
    "tmp = df_copy.groupby(['Hour', 'Class'])['Amount'].aggregate(['min', 'max', 'count', 'sum', 'mean', 'median', 'var']).reset_index()\n",
    "stats = pd.DataFrame(tmp)\n",
    "stats.columns = ['Hour', 'Class', 'Min', 'Max', 'Transactions', 'Sum', 'Mean', 'Median', 'Var']\n",
    "stats.head()"
   ]
  },
  {
   "cell_type": "markdown",
   "metadata": {
    "papermill": {
     "duration": 0.04174,
     "end_time": "2021-06-03T09:20:56.496254",
     "exception": false,
     "start_time": "2021-06-03T09:20:56.454514",
     "status": "completed"
    },
    "tags": []
   },
   "source": [
    "When we plot the volume of transactions per class grouped by hour of the day, we can observe some interesting patterns as fraud transactions seem to have spikes at specific hours and occur during typical sleeping hours."
   ]
  },
  {
   "cell_type": "code",
   "execution_count": 14,
   "metadata": {
    "execution": {
     "iopub.execute_input": "2021-06-03T09:20:56.601841Z",
     "iopub.status.busy": "2021-06-03T09:20:56.593144Z",
     "iopub.status.idle": "2021-06-03T09:20:56.903077Z",
     "shell.execute_reply": "2021-06-03T09:20:56.903599Z",
     "shell.execute_reply.started": "2021-06-03T09:16:56.631312Z"
    },
    "papermill": {
     "duration": 0.365378,
     "end_time": "2021-06-03T09:20:56.903756",
     "exception": false,
     "start_time": "2021-06-03T09:20:56.538378",
     "status": "completed"
    },
    "tags": []
   },
   "outputs": [
    {
     "data": {
      "image/png": "[encoded data removed]",
      "text/plain": [
       "<Figure size 864x360 with 2 Axes>"
      ]
     },
     "metadata": {
      "needs_background": "light"
     },
     "output_type": "display_data"
    }
   ],
   "source": [
    "fig, ax = plt.subplots(1,2, figsize=(12,5))\n",
    "sns.lineplot(x='Hour', y='Transactions', data=stats.query('Class == 0'), ax=ax[0])\n",
    "sns.lineplot(x='Hour', y='Transactions', data=stats.query('Class == 1'), color='red', ax=ax[1])\n",
    "fig.suptitle('Total Number of Transactions per Hour of the Day')\n",
    "ax[0].set(title='Legit Transactions')\n",
    "ax[1].set(title='Fraud Transactions')\n",
    "fig.show()"
   ]
  },
  {
   "cell_type": "markdown",
   "metadata": {
    "papermill": {
     "duration": 0.043329,
     "end_time": "2021-06-03T09:20:56.992626",
     "exception": false,
     "start_time": "2021-06-03T09:20:56.949297",
     "status": "completed"
    },
    "tags": []
   },
   "source": [
    "# Data Preparation\n",
    "\n",
    "To build the model, I incrementally increased the fraction of data used by 20% to adjust the model parameters progressively to avoid overfitting. For this final build, we will use the entirety of the dataset."
   ]
  },
  {
   "cell_type": "code",
   "execution_count": 15,
   "metadata": {
    "execution": {
     "iopub.execute_input": "2021-06-03T09:20:57.084310Z",
     "iopub.status.busy": "2021-06-03T09:20:57.083296Z",
     "iopub.status.idle": "2021-06-03T09:20:57.151894Z",
     "shell.execute_reply": "2021-06-03T09:20:57.152379Z",
     "shell.execute_reply.started": "2021-06-03T09:16:56.980312Z"
    },
    "papermill": {
     "duration": 0.116562,
     "end_time": "2021-06-03T09:20:57.152551",
     "exception": false,
     "start_time": "2021-06-03T09:20:57.035989",
     "status": "completed"
    },
    "tags": []
   },
   "outputs": [],
   "source": [
    "df = df.sample(frac=1, random_state=SEED).reset_index(drop=True)"
   ]
  },
  {
   "cell_type": "code",
   "execution_count": 16,
   "metadata": {
    "execution": {
     "iopub.execute_input": "2021-06-03T09:20:57.243227Z",
     "iopub.status.busy": "2021-06-03T09:20:57.242534Z",
     "iopub.status.idle": "2021-06-03T09:20:57.261925Z",
     "shell.execute_reply": "2021-06-03T09:20:57.262478Z",
     "shell.execute_reply.started": "2021-06-03T09:16:57.055641Z"
    },
    "papermill": {
     "duration": 0.066453,
     "end_time": "2021-06-03T09:20:57.262622",
     "exception": false,
     "start_time": "2021-06-03T09:20:57.196169",
     "status": "completed"
    },
    "tags": []
   },
   "outputs": [],
   "source": [
    "y = df['Class']\n",
    "X = df.drop('Class', axis=1)\n",
    "\n",
    "feature_names = X.columns.tolist()"
   ]
  },
  {
   "cell_type": "markdown",
   "metadata": {
    "papermill": {
     "duration": 0.043329,
     "end_time": "2021-06-03T09:20:57.349224",
     "exception": false,
     "start_time": "2021-06-03T09:20:57.305895",
     "status": "completed"
    },
    "tags": []
   },
   "source": [
    "As we can observe, the data is highly unbalanced, with less than 1% of positive fraud examples."
   ]
  },
  {
   "cell_type": "code",
   "execution_count": 17,
   "metadata": {
    "execution": {
     "iopub.execute_input": "2021-06-03T09:20:57.441146Z",
     "iopub.status.busy": "2021-06-03T09:20:57.440429Z",
     "iopub.status.idle": "2021-06-03T09:20:57.449103Z",
     "shell.execute_reply": "2021-06-03T09:20:57.448518Z",
     "shell.execute_reply.started": "2021-06-03T09:16:57.079428Z"
    },
    "papermill": {
     "duration": 0.056373,
     "end_time": "2021-06-03T09:20:57.449218",
     "exception": false,
     "start_time": "2021-06-03T09:20:57.392845",
     "status": "completed"
    },
    "tags": []
   },
   "outputs": [
    {
     "data": {
      "text/plain": [
       "0    0.998273\n",
       "1    0.001727\n",
       "Name: Class, dtype: float64"
      ]
     },
     "execution_count": 17,
     "metadata": {},
     "output_type": "execute_result"
    }
   ],
   "source": [
    "y.value_counts(normalize=True)"
   ]
  },
  {
   "cell_type": "markdown",
   "metadata": {
    "papermill": {
     "duration": 0.043737,
     "end_time": "2021-06-03T09:20:57.537065",
     "exception": false,
     "start_time": "2021-06-03T09:20:57.493328",
     "status": "completed"
    },
    "tags": []
   },
   "source": [
    "For the train/test split, we will divide them into 80% for the train data and 20% for the test data in a stratified fashion."
   ]
  },
  {
   "cell_type": "code",
   "execution_count": 18,
   "metadata": {
    "execution": {
     "iopub.execute_input": "2021-06-03T09:20:57.631529Z",
     "iopub.status.busy": "2021-06-03T09:20:57.630890Z",
     "iopub.status.idle": "2021-06-03T09:20:57.852917Z",
     "shell.execute_reply": "2021-06-03T09:20:57.852313Z",
     "shell.execute_reply.started": "2021-06-03T09:16:57.100824Z"
    },
    "papermill": {
     "duration": 0.271801,
     "end_time": "2021-06-03T09:20:57.853035",
     "exception": false,
     "start_time": "2021-06-03T09:20:57.581234",
     "status": "completed"
    },
    "tags": []
   },
   "outputs": [],
   "source": [
    "X_train, X_test, y_train, y_test = train_test_split(X, y, test_size=0.2, stratify=y, shuffle=True, random_state=SEED)"
   ]
  },
  {
   "cell_type": "markdown",
   "metadata": {
    "papermill": {
     "duration": 0.045313,
     "end_time": "2021-06-03T09:20:57.942467",
     "exception": false,
     "start_time": "2021-06-03T09:20:57.897154",
     "status": "completed"
    },
    "tags": []
   },
   "source": [
    "# Feature Engineering\n",
    "\n",
    "We will compute some additional features containing statistical information about the anonymized variables."
   ]
  },
  {
   "cell_type": "code",
   "execution_count": 19,
   "metadata": {
    "execution": {
     "iopub.execute_input": "2021-06-03T09:20:58.041132Z",
     "iopub.status.busy": "2021-06-03T09:20:58.040385Z",
     "iopub.status.idle": "2021-06-03T09:20:58.359476Z",
     "shell.execute_reply": "2021-06-03T09:20:58.358878Z",
     "shell.execute_reply.started": "2021-06-03T09:16:57.337258Z"
    },
    "papermill": {
     "duration": 0.372677,
     "end_time": "2021-06-03T09:20:58.359589",
     "exception": false,
     "start_time": "2021-06-03T09:20:57.986912",
     "status": "completed"
    },
    "tags": []
   },
   "outputs": [],
   "source": [
    "def get_group_stats(df: pd.DataFrame) -> pd.DataFrame:\n",
    "    \"\"\"\n",
    "    Create features by calculating statistical moments.\n",
    "    \n",
    "    :param df: Pandas DataFrame containing all features\n",
    "    \"\"\"\n",
    "    cols = list(filter(lambda x: x.startswith('V'), df.columns))\n",
    "    \n",
    "    # avoid warnings about returning-a-view-versus-a-copy\n",
    "    ds = df.copy()\n",
    "    \n",
    "    ds['V_mean'] = df[cols].mean(axis=1)\n",
    "    ds['V_std'] = df[cols].std(axis=1)\n",
    "    ds['V_skew'] = df[cols].skew(axis=1)\n",
    "    \n",
    "    return ds\n",
    "\n",
    "X_train = get_group_stats(X_train)\n",
    "X_test = get_group_stats(X_test)"
   ]
  },
  {
   "cell_type": "code",
   "execution_count": 20,
   "metadata": {
    "execution": {
     "iopub.execute_input": "2021-06-03T09:20:58.450371Z",
     "iopub.status.busy": "2021-06-03T09:20:58.449690Z",
     "iopub.status.idle": "2021-06-03T09:20:58.475499Z",
     "shell.execute_reply": "2021-06-03T09:20:58.474959Z",
     "shell.execute_reply.started": "2021-06-03T09:16:57.672416Z"
    },
    "papermill": {
     "duration": 0.072086,
     "end_time": "2021-06-03T09:20:58.475644",
     "exception": false,
     "start_time": "2021-06-03T09:20:58.403558",
     "status": "completed"
    },
    "tags": []
   },
   "outputs": [
    {
     "data": {
      "text/html": [
       "<div>\n",
       "<style scoped>\n",
       "    .dataframe tbody tr th:only-of-type {\n",
       "        vertical-align: middle;\n",
       "    }\n",
       "\n",
       "    .dataframe tbody tr th {\n",
       "        vertical-align: top;\n",
       "    }\n",
       "\n",
       "    .dataframe thead th {\n",
       "        text-align: right;\n",
       "    }\n",
       "</style>\n",
       "<table border=\"1\" class=\"dataframe\">\n",
       "  <thead>\n",
       "    <tr style=\"text-align: right;\">\n",
       "      <th></th>\n",
       "      <th>Time</th>\n",
       "      <th>V1</th>\n",
       "      <th>V2</th>\n",
       "      <th>V3</th>\n",
       "      <th>V4</th>\n",
       "      <th>V5</th>\n",
       "      <th>V6</th>\n",
       "      <th>V7</th>\n",
       "      <th>V8</th>\n",
       "      <th>V9</th>\n",
       "      <th>...</th>\n",
       "      <th>V23</th>\n",
       "      <th>V24</th>\n",
       "      <th>V25</th>\n",
       "      <th>V26</th>\n",
       "      <th>V27</th>\n",
       "      <th>V28</th>\n",
       "      <th>Amount</th>\n",
       "      <th>V_mean</th>\n",
       "      <th>V_std</th>\n",
       "      <th>V_skew</th>\n",
       "    </tr>\n",
       "  </thead>\n",
       "  <tbody>\n",
       "    <tr>\n",
       "      <th>9319</th>\n",
       "      <td>101691.0</td>\n",
       "      <td>2.113122</td>\n",
       "      <td>-0.067427</td>\n",
       "      <td>-1.062211</td>\n",
       "      <td>0.183495</td>\n",
       "      <td>0.154411</td>\n",
       "      <td>-0.585322</td>\n",
       "      <td>-0.166365</td>\n",
       "      <td>-0.246107</td>\n",
       "      <td>1.995113</td>\n",
       "      <td>...</td>\n",
       "      <td>0.439633</td>\n",
       "      <td>-1.133765</td>\n",
       "      <td>-0.631077</td>\n",
       "      <td>0.046039</td>\n",
       "      <td>-0.101130</td>\n",
       "      <td>-0.065391</td>\n",
       "      <td>9.91</td>\n",
       "      <td>-0.054216</td>\n",
       "      <td>1.051117</td>\n",
       "      <td>-0.050505</td>\n",
       "    </tr>\n",
       "    <tr>\n",
       "      <th>210502</th>\n",
       "      <td>72620.0</td>\n",
       "      <td>1.143742</td>\n",
       "      <td>0.174741</td>\n",
       "      <td>0.862678</td>\n",
       "      <td>1.052988</td>\n",
       "      <td>-0.666547</td>\n",
       "      <td>-0.569471</td>\n",
       "      <td>-0.211694</td>\n",
       "      <td>0.059470</td>\n",
       "      <td>0.007118</td>\n",
       "      <td>...</td>\n",
       "      <td>0.127981</td>\n",
       "      <td>0.469585</td>\n",
       "      <td>0.219076</td>\n",
       "      <td>-0.651484</td>\n",
       "      <td>0.028700</td>\n",
       "      <td>0.026081</td>\n",
       "      <td>9.99</td>\n",
       "      <td>0.145706</td>\n",
       "      <td>0.572725</td>\n",
       "      <td>0.400858</td>\n",
       "    </tr>\n",
       "    <tr>\n",
       "      <th>51455</th>\n",
       "      <td>141717.0</td>\n",
       "      <td>-1.502364</td>\n",
       "      <td>1.635901</td>\n",
       "      <td>-0.646716</td>\n",
       "      <td>0.359882</td>\n",
       "      <td>0.136560</td>\n",
       "      <td>-1.127764</td>\n",
       "      <td>0.249920</td>\n",
       "      <td>0.705085</td>\n",
       "      <td>0.144000</td>\n",
       "      <td>...</td>\n",
       "      <td>-0.158949</td>\n",
       "      <td>-0.092972</td>\n",
       "      <td>0.533375</td>\n",
       "      <td>-0.573315</td>\n",
       "      <td>-0.318169</td>\n",
       "      <td>-0.041170</td>\n",
       "      <td>1.99</td>\n",
       "      <td>-0.236430</td>\n",
       "      <td>0.796273</td>\n",
       "      <td>0.079623</td>\n",
       "    </tr>\n",
       "    <tr>\n",
       "      <th>128284</th>\n",
       "      <td>104458.0</td>\n",
       "      <td>-0.580486</td>\n",
       "      <td>0.721799</td>\n",
       "      <td>-1.554297</td>\n",
       "      <td>-1.735136</td>\n",
       "      <td>-0.122013</td>\n",
       "      <td>-0.069607</td>\n",
       "      <td>3.386795</td>\n",
       "      <td>-0.889773</td>\n",
       "      <td>0.539206</td>\n",
       "      <td>...</td>\n",
       "      <td>-0.313510</td>\n",
       "      <td>0.815592</td>\n",
       "      <td>0.198952</td>\n",
       "      <td>0.883310</td>\n",
       "      <td>-0.015340</td>\n",
       "      <td>0.017878</td>\n",
       "      <td>400.00</td>\n",
       "      <td>0.114818</td>\n",
       "      <td>1.246032</td>\n",
       "      <td>0.522092</td>\n",
       "    </tr>\n",
       "    <tr>\n",
       "      <th>251996</th>\n",
       "      <td>111058.0</td>\n",
       "      <td>-3.715441</td>\n",
       "      <td>4.175828</td>\n",
       "      <td>-2.217402</td>\n",
       "      <td>-1.207024</td>\n",
       "      <td>-0.075184</td>\n",
       "      <td>-0.972042</td>\n",
       "      <td>0.425504</td>\n",
       "      <td>0.317196</td>\n",
       "      <td>4.090196</td>\n",
       "      <td>...</td>\n",
       "      <td>0.148733</td>\n",
       "      <td>0.492251</td>\n",
       "      <td>0.091003</td>\n",
       "      <td>-0.209533</td>\n",
       "      <td>2.023499</td>\n",
       "      <td>1.224342</td>\n",
       "      <td>0.89</td>\n",
       "      <td>0.399176</td>\n",
       "      <td>1.810966</td>\n",
       "      <td>0.338856</td>\n",
       "    </tr>\n",
       "  </tbody>\n",
       "</table>\n",
       "<p>5 rows × 33 columns</p>\n",
       "</div>"
      ],
      "text/plain": [
       "            Time        V1        V2        V3        V4        V5        V6  \\\n",
       "9319    101691.0  2.113122 -0.067427 -1.062211  0.183495  0.154411 -0.585322   \n",
       "210502   72620.0  1.143742  0.174741  0.862678  1.052988 -0.666547 -0.569471   \n",
       "51455   141717.0 -1.502364  1.635901 -0.646716  0.359882  0.136560 -1.127764   \n",
       "128284  104458.0 -0.580486  0.721799 -1.554297 -1.735136 -0.122013 -0.069607   \n",
       "251996  111058.0 -3.715441  4.175828 -2.217402 -1.207024 -0.075184 -0.972042   \n",
       "\n",
       "              V7        V8        V9  ...       V23       V24       V25  \\\n",
       "9319   -0.166365 -0.246107  1.995113  ...  0.439633 -1.133765 -0.631077   \n",
       "210502 -0.211694  0.059470  0.007118  ...  0.127981  0.469585  0.219076   \n",
       "51455   0.249920  0.705085  0.144000  ... -0.158949 -0.092972  0.533375   \n",
       "128284  3.386795 -0.889773  0.539206  ... -0.313510  0.815592  0.198952   \n",
       "251996  0.425504  0.317196  4.090196  ...  0.148733  0.492251  0.091003   \n",
       "\n",
       "             V26       V27       V28  Amount    V_mean     V_std    V_skew  \n",
       "9319    0.046039 -0.101130 -0.065391    9.91 -0.054216  1.051117 -0.050505  \n",
       "210502 -0.651484  0.028700  0.026081    9.99  0.145706  0.572725  0.400858  \n",
       "51455  -0.573315 -0.318169 -0.041170    1.99 -0.236430  0.796273  0.079623  \n",
       "128284  0.883310 -0.015340  0.017878  400.00  0.114818  1.246032  0.522092  \n",
       "251996 -0.209533  2.023499  1.224342    0.89  0.399176  1.810966  0.338856  \n",
       "\n",
       "[5 rows x 33 columns]"
      ]
     },
     "execution_count": 20,
     "metadata": {},
     "output_type": "execute_result"
    }
   ],
   "source": [
    "X_train.head()"
   ]
  },
  {
   "cell_type": "markdown",
   "metadata": {
    "papermill": {
     "duration": 0.045216,
     "end_time": "2021-06-03T09:20:58.565819",
     "exception": false,
     "start_time": "2021-06-03T09:20:58.520603",
     "status": "completed"
    },
    "tags": []
   },
   "source": [
    "We will train our model using cross-validation. To generate the splits, we will be applying a `GroupKFold` strategy. The group will be based on the **hour of the day** of the given transaction. From a previous plot, we could observe that specific hours have a higher volume of fraudulent transactions."
   ]
  },
  {
   "cell_type": "code",
   "execution_count": 21,
   "metadata": {
    "execution": {
     "iopub.execute_input": "2021-06-03T09:20:58.660917Z",
     "iopub.status.busy": "2021-06-03T09:20:58.660250Z",
     "iopub.status.idle": "2021-06-03T09:20:59.402521Z",
     "shell.execute_reply": "2021-06-03T09:20:59.401989Z",
     "shell.execute_reply.started": "2021-06-03T09:16:57.704675Z"
    },
    "papermill": {
     "duration": 0.7926,
     "end_time": "2021-06-03T09:20:59.402640",
     "exception": false,
     "start_time": "2021-06-03T09:20:58.610040",
     "status": "completed"
    },
    "tags": []
   },
   "outputs": [],
   "source": [
    "# Tested stratified kfold as well\n",
    "sfold = StratifiedKFold(n_splits=3)\n",
    "\n",
    "hour_train = X_train['Time'].apply(lambda x: np.ceil(float(x) / 3600) % 24)\n",
    "\n",
    "gfold = GroupKFold(n_splits=3)\n",
    "groups = list(gfold.split(X_train, y_train, groups=hour_train))"
   ]
  },
  {
   "cell_type": "code",
   "execution_count": 22,
   "metadata": {
    "execution": {
     "iopub.execute_input": "2021-06-03T09:20:59.499920Z",
     "iopub.status.busy": "2021-06-03T09:20:59.499200Z",
     "iopub.status.idle": "2021-06-03T09:20:59.501040Z",
     "shell.execute_reply": "2021-06-03T09:20:59.501622Z",
     "shell.execute_reply.started": "2021-06-03T09:16:58.461326Z"
    },
    "papermill": {
     "duration": 0.054704,
     "end_time": "2021-06-03T09:20:59.501783",
     "exception": false,
     "start_time": "2021-06-03T09:20:59.447079",
     "status": "completed"
    },
    "tags": []
   },
   "outputs": [],
   "source": [
    "def plot_correlation(corr: str) -> plt.Axes:\n",
    "    mask = np.triu(np.ones_like(corr, dtype=bool))\n",
    "    f, ax = plt.subplots(figsize=(11, 9))\n",
    "    cmap = sns.diverging_palette(230, 20, as_cmap=True)\n",
    "    sns.heatmap(corr, mask=mask, cmap=cmap, vmax=.3, center=0,\n",
    "                square=True, linewidths=.5, cbar_kws={\"shrink\": .5})"
   ]
  },
  {
   "cell_type": "code",
   "execution_count": 23,
   "metadata": {
    "execution": {
     "iopub.execute_input": "2021-06-03T09:20:59.593608Z",
     "iopub.status.busy": "2021-06-03T09:20:59.592992Z",
     "iopub.status.idle": "2021-06-03T09:20:59.599320Z",
     "shell.execute_reply": "2021-06-03T09:20:59.599883Z",
     "shell.execute_reply.started": "2021-06-03T09:16:58.472002Z"
    },
    "papermill": {
     "duration": 0.053848,
     "end_time": "2021-06-03T09:20:59.600028",
     "exception": false,
     "start_time": "2021-06-03T09:20:59.546180",
     "status": "completed"
    },
    "tags": []
   },
   "outputs": [],
   "source": [
    "def select_features_correlation(df: pd.DataFrame) -> list:\n",
    "    # Calculate correlations with target\n",
    "    full_corr = df.corr(method='spearman')\n",
    "    corr_with_target = full_corr['Class'].T.apply(abs).sort_values(ascending=False)\n",
    "    \n",
    "    min_threshold = corr_with_target.quantile(.25)\n",
    "    \n",
    "    # Select features with highest correlation to the target variable\n",
    "    features_correlation = corr_with_target[corr_with_target >= min_threshold]\n",
    "    features_correlation.drop('Class', inplace=True)\n",
    "    return features_correlation.index.tolist()"
   ]
  },
  {
   "cell_type": "markdown",
   "metadata": {
    "papermill": {
     "duration": 0.044187,
     "end_time": "2021-06-03T09:20:59.688609",
     "exception": false,
     "start_time": "2021-06-03T09:20:59.644422",
     "status": "completed"
    },
    "tags": []
   },
   "source": [
    "Because the data is highly unbalanced, it is difficult to see the correlation between some features. However, after experimenting with undersampling the data to reduce the number of examples of the majority class (legit transactions) and have equal class proportions, we can now see that the correlation values are more noticeable. We will use the correlation amount to select higher correlated features with our target class."
   ]
  },
  {
   "cell_type": "code",
   "execution_count": 24,
   "metadata": {
    "execution": {
     "iopub.execute_input": "2021-06-03T09:20:59.780388Z",
     "iopub.status.busy": "2021-06-03T09:20:59.779693Z",
     "iopub.status.idle": "2021-06-03T09:21:04.201585Z",
     "shell.execute_reply": "2021-06-03T09:21:04.200929Z",
     "shell.execute_reply.started": "2021-06-03T09:16:58.488646Z"
    },
    "papermill": {
     "duration": 4.468835,
     "end_time": "2021-06-03T09:21:04.201733",
     "exception": false,
     "start_time": "2021-06-03T09:20:59.732898",
     "status": "completed"
    },
    "tags": []
   },
   "outputs": [
    {
     "data": {
      "image/png": "[encoded data removed]",
      "text/plain": [
       "<Figure size 792x648 with 2 Axes>"
      ]
     },
     "metadata": {
      "needs_background": "light"
     },
     "output_type": "display_data"
    }
   ],
   "source": [
    "plot_correlation(X_train.corr(method='spearman'))"
   ]
  },
  {
   "cell_type": "code",
   "execution_count": 25,
   "metadata": {
    "execution": {
     "iopub.execute_input": "2021-06-03T09:21:04.299735Z",
     "iopub.status.busy": "2021-06-03T09:21:04.299054Z",
     "iopub.status.idle": "2021-06-03T09:21:04.972126Z",
     "shell.execute_reply": "2021-06-03T09:21:04.971484Z",
     "shell.execute_reply.started": "2021-06-03T09:17:03.211533Z"
    },
    "papermill": {
     "duration": 0.724628,
     "end_time": "2021-06-03T09:21:04.972244",
     "exception": false,
     "start_time": "2021-06-03T09:21:04.247616",
     "status": "completed"
    },
    "tags": []
   },
   "outputs": [
    {
     "data": {
      "image/png": "[encoded data removed]",
      "text/plain": [
       "<Figure size 792x648 with 2 Axes>"
      ]
     },
     "metadata": {
      "needs_background": "light"
     },
     "output_type": "display_data"
    }
   ],
   "source": [
    "sampler = RandomUnderSampler(random_state=SEED)\n",
    "X_resampled, y_resampled = sampler.fit_resample(X_train, y_train)\n",
    "X_resampled['Class'] = y_resampled\n",
    "\n",
    "plot_correlation(X_resampled.corr(method='spearman'))"
   ]
  },
  {
   "cell_type": "markdown",
   "metadata": {
    "papermill": {
     "duration": 0.046837,
     "end_time": "2021-06-03T09:21:05.065592",
     "exception": false,
     "start_time": "2021-06-03T09:21:05.018755",
     "status": "completed"
    },
    "tags": []
   },
   "source": [
    "We will select features that have a correlation with our target class higher than the lower quartile value. Dropping features with low correlation can help to reduce the complexity of the model."
   ]
  },
  {
   "cell_type": "code",
   "execution_count": 26,
   "metadata": {
    "execution": {
     "iopub.execute_input": "2021-06-03T09:21:05.166284Z",
     "iopub.status.busy": "2021-06-03T09:21:05.165609Z",
     "iopub.status.idle": "2021-06-03T09:21:05.193590Z",
     "shell.execute_reply": "2021-06-03T09:21:05.192993Z",
     "shell.execute_reply.started": "2021-06-03T09:17:03.944225Z"
    },
    "papermill": {
     "duration": 0.081211,
     "end_time": "2021-06-03T09:21:05.193725",
     "exception": false,
     "start_time": "2021-06-03T09:21:05.112514",
     "status": "completed"
    },
    "tags": []
   },
   "outputs": [],
   "source": [
    "cols = select_features_correlation(X_resampled)\n",
    "X_train = X_train[cols]\n",
    "X_test = X_test[cols]"
   ]
  },
  {
   "cell_type": "markdown",
   "metadata": {
    "papermill": {
     "duration": 0.04647,
     "end_time": "2021-06-03T09:21:05.287010",
     "exception": false,
     "start_time": "2021-06-03T09:21:05.240540",
     "status": "completed"
    },
    "tags": []
   },
   "source": [
    "# Modelling\n",
    "\n",
    "We will use grid search to tune the hyperparameters of the model. And, we will apply cross-validation using the group fold strategy as mentioned above. To evaluate the performance:\n",
    "- We will use the *F1-score*, a more relevant metric in this situation since false positives and false negatives are both critical.\n",
    "- Using Accuracy in this scenario can output misleading results.\n",
    "- We will use a maximum depth value to prevent overfitting the training data.\n",
    "- We will test using different percentages of features used by each tree.\n",
    "- Finally, we will try out two possibilities for the learning rate.\n",
    "- I kept other parameters to fine-tune the alpha regularization value and the subsample of the training set for future changes.\n",
    "\n",
    "## Baseline\n",
    "\n",
    "First, we will train a simple baseline model with default parameters to have some initials results that we can compare with and identify what things we aim to improve."
   ]
  },
  {
   "cell_type": "code",
   "execution_count": 27,
   "metadata": {
    "execution": {
     "iopub.execute_input": "2021-06-03T09:21:05.387078Z",
     "iopub.status.busy": "2021-06-03T09:21:05.386048Z",
     "iopub.status.idle": "2021-06-03T09:21:05.388586Z",
     "shell.execute_reply": "2021-06-03T09:21:05.389055Z",
     "shell.execute_reply.started": "2021-06-03T09:17:03.988936Z"
    },
    "papermill": {
     "duration": 0.055246,
     "end_time": "2021-06-03T09:21:05.389222",
     "exception": false,
     "start_time": "2021-06-03T09:21:05.333976",
     "status": "completed"
    },
    "tags": []
   },
   "outputs": [],
   "source": [
    "pipeline = Pipeline([\n",
    "    ('standardscaler', StandardScaler()),\n",
    "    ('clf', LGBMClassifier(n_jobs=-1, random_state=SEED)),\n",
    "])"
   ]
  },
  {
   "cell_type": "code",
   "execution_count": 28,
   "metadata": {
    "execution": {
     "iopub.execute_input": "2021-06-03T09:21:05.494501Z",
     "iopub.status.busy": "2021-06-03T09:21:05.493612Z",
     "iopub.status.idle": "2021-06-03T09:21:11.209283Z",
     "shell.execute_reply": "2021-06-03T09:21:11.210177Z",
     "shell.execute_reply.started": "2021-06-03T09:17:04.000084Z"
    },
    "papermill": {
     "duration": 5.774219,
     "end_time": "2021-06-03T09:21:11.210384",
     "exception": false,
     "start_time": "2021-06-03T09:21:05.436165",
     "status": "completed"
    },
    "tags": []
   },
   "outputs": [
    {
     "name": "stdout",
     "output_type": "stream",
     "text": [
      "Baseline MCC score: 0.23349372444054892\n",
      "Baseline AP score: 0.08047800670729233\n",
      "Baseline ROC AUC score: 0.7221486689515286\n",
      "Baseline F1 score: 0.2026884752773078\n"
     ]
    }
   ],
   "source": [
    "mcc_results = []\n",
    "ap_results = []\n",
    "roc_auc_results = []\n",
    "f1_results = []\n",
    "\n",
    "for train_index, test_index in groups:\n",
    "    pipeline.fit(X_train.values[train_index], y_train.values[train_index])\n",
    "    test_data = pipeline['standardscaler'].transform(X_train.values[test_index])\n",
    "    \n",
    "    y_pred = pipeline.predict(test_data)\n",
    "    \n",
    "    mcc_results.append(matthews_corrcoef(y_train.values[test_index], y_pred))\n",
    "    ap_results.append(average_precision_score(y_train.values[test_index], y_pred))\n",
    "    roc_auc_results.append(roc_auc_score(y_train.values[test_index], y_pred))\n",
    "    f1_results.append(f1_score(y_train.values[test_index], y_pred))\n",
    "\n",
    "\n",
    "print(f'Baseline MCC score: {np.mean(mcc_results)}')\n",
    "print(f'Baseline AP score: {np.mean(ap_results)}')\n",
    "print(f'Baseline ROC AUC score: {np.mean(roc_auc_results)}')\n",
    "print(f'Baseline F1 score: {np.mean(f1_results)}')"
   ]
  },
  {
   "cell_type": "markdown",
   "metadata": {
    "papermill": {
     "duration": 0.046416,
     "end_time": "2021-06-03T09:21:11.305182",
     "exception": false,
     "start_time": "2021-06-03T09:21:11.258766",
     "status": "completed"
    },
    "tags": []
   },
   "source": [
    "## Fine-Tuning"
   ]
  },
  {
   "cell_type": "code",
   "execution_count": 29,
   "metadata": {
    "execution": {
     "iopub.execute_input": "2021-06-03T09:21:11.403793Z",
     "iopub.status.busy": "2021-06-03T09:21:11.403135Z",
     "iopub.status.idle": "2021-06-03T09:21:11.409754Z",
     "shell.execute_reply": "2021-06-03T09:21:11.409222Z",
     "shell.execute_reply.started": "2021-06-03T09:17:10.060917Z"
    },
    "papermill": {
     "duration": 0.057754,
     "end_time": "2021-06-03T09:21:11.409871",
     "exception": false,
     "start_time": "2021-06-03T09:21:11.352117",
     "status": "completed"
    },
    "tags": []
   },
   "outputs": [],
   "source": [
    "gbm_grid = {\n",
    "    'clf__n_estimators': [500, 1000],\n",
    "    'clf__learning_rate': [0.1, 0.01],\n",
    "    'clf__max_depth': [4, 6, 8],\n",
    "    'clf__colsample_bytree': np.linspace(0.6, 1.0, num=5),\n",
    "    # 'clf__reg_alpha': np.linspace(0., 1.0, num=5),\n",
    "    # 'clf__subsample': np.linspace(0.7, 1.0, num=4),\n",
    "}"
   ]
  },
  {
   "cell_type": "code",
   "execution_count": 30,
   "metadata": {
    "execution": {
     "iopub.execute_input": "2021-06-03T09:21:11.512005Z",
     "iopub.status.busy": "2021-06-03T09:21:11.511294Z",
     "iopub.status.idle": "2021-06-03T09:21:11.514436Z",
     "shell.execute_reply": "2021-06-03T09:21:11.514957Z",
     "shell.execute_reply.started": "2021-06-03T09:17:10.068331Z"
    },
    "papermill": {
     "duration": 0.057758,
     "end_time": "2021-06-03T09:21:11.515100",
     "exception": false,
     "start_time": "2021-06-03T09:21:11.457342",
     "status": "completed"
    },
    "tags": []
   },
   "outputs": [],
   "source": [
    "def grid_search_tuning(pipeline, X, y, grid, fold):\n",
    "    grid = HalvingGridSearchCV(pipeline, param_grid=grid, cv=fold, scoring='f1',\n",
    "                               random_state=SEED, n_jobs=-1, verbose=1)\n",
    "    grid.fit(X, y)\n",
    "    \n",
    "    print(f\"\\nMean test score: {np.mean(grid.cv_results_['mean_test_score'])}\")\n",
    "    print(f'Best parameters: {grid.best_params_}')\n",
    "    \n",
    "    return grid.best_estimator_"
   ]
  },
  {
   "cell_type": "code",
   "execution_count": 31,
   "metadata": {
    "execution": {
     "iopub.execute_input": "2021-06-03T09:21:11.620039Z",
     "iopub.status.busy": "2021-06-03T09:21:11.618971Z",
     "iopub.status.idle": "2021-06-03T09:21:18.462113Z",
     "shell.execute_reply": "2021-06-03T09:21:18.462828Z",
     "shell.execute_reply.started": "2021-06-03T09:17:10.083806Z"
    },
    "papermill": {
     "duration": 6.900388,
     "end_time": "2021-06-03T09:21:18.463000",
     "exception": false,
     "start_time": "2021-06-03T09:21:11.562612",
     "status": "completed"
    },
    "tags": []
   },
   "outputs": [
    {
     "name": "stdout",
     "output_type": "stream",
     "text": [
      "Using previously tuned model parameters.\n"
     ]
    }
   ],
   "source": [
    "if USE_TUNED_PARAMS:\n",
    "    print('Using previously tuned model parameters.')\n",
    "    \n",
    "    best_params = {\n",
    "        'n_estimators': 500,\n",
    "        'learning_rate': 0.01,\n",
    "        'max_depth': 8,\n",
    "        'colsample_bytree': 0.6,\n",
    "    }\n",
    "    \n",
    "    pipeline = Pipeline([\n",
    "        ('standardscaler', StandardScaler()),\n",
    "        ('clf', LGBMClassifier(**best_params, n_jobs=-1, random_state=SEED)),\n",
    "    ])\n",
    "    \n",
    "    grid = pipeline.fit(X_train, y_train)\n",
    "else:\n",
    "    pipeline = Pipeline([\n",
    "        ('standardscaler', StandardScaler()),\n",
    "        ('clf', LGBMClassifier(n_jobs=-1, random_state=SEED)),\n",
    "    ])\n",
    "\n",
    "    # It can take a while to run\n",
    "    grid = grid_search_tuning(pipeline, X_train, y_train, gbm_grid, groups)"
   ]
  },
  {
   "cell_type": "markdown",
   "metadata": {
    "papermill": {
     "duration": 0.06186,
     "end_time": "2021-06-03T09:21:18.587009",
     "exception": false,
     "start_time": "2021-06-03T09:21:18.525149",
     "status": "completed"
    },
    "tags": []
   },
   "source": [
    "Model's performance evaluation on the test set and feature importance."
   ]
  },
  {
   "cell_type": "code",
   "execution_count": 32,
   "metadata": {
    "execution": {
     "iopub.execute_input": "2021-06-03T09:21:18.707973Z",
     "iopub.status.busy": "2021-06-03T09:21:18.707322Z",
     "iopub.status.idle": "2021-06-03T09:21:18.710573Z",
     "shell.execute_reply": "2021-06-03T09:21:18.710080Z",
     "shell.execute_reply.started": "2021-06-03T09:17:17.011969Z"
    },
    "papermill": {
     "duration": 0.061292,
     "end_time": "2021-06-03T09:21:18.710687",
     "exception": false,
     "start_time": "2021-06-03T09:21:18.649395",
     "status": "completed"
    },
    "tags": []
   },
   "outputs": [],
   "source": [
    "def score_model(clf, X_test, y_test, feature_names):\n",
    "    y_pred = clf.predict(X_test)\n",
    "    y_probas = clf.predict_proba(X_test)\n",
    "\n",
    "    print(classification_report_imbalanced(y_test, y_pred, target_names=['Legit', 'Fraud']))\n",
    "    print(f'MCC: {matthews_corrcoef(y_test, y_pred)}\\nAP: ' +\n",
    "          f'{average_precision_score(y_test, y_pred)}\\nROC AUC: {roc_auc_score(y_test, y_pred)}')\n",
    "\n",
    "    fig, ax = plt.subplots(1,2, figsize=(12,5))\n",
    "    skplt.metrics.plot_precision_recall(y_test, y_probas, ax=ax[0])\n",
    "    skplt.metrics.plot_confusion_matrix(y_test, y_pred, normalize=True, ax=ax[1])\n",
    "    fig.show()\n",
    "    \n",
    "    skplt.estimators.plot_feature_importances(clf, feature_names=feature_names, figsize=(16,5))\n",
    "\n",
    "    return y_probas"
   ]
  },
  {
   "cell_type": "code",
   "execution_count": 33,
   "metadata": {
    "execution": {
     "iopub.execute_input": "2021-06-03T09:21:18.812868Z",
     "iopub.status.busy": "2021-06-03T09:21:18.812194Z",
     "iopub.status.idle": "2021-06-03T09:21:21.270024Z",
     "shell.execute_reply": "2021-06-03T09:21:21.269379Z",
     "shell.execute_reply.started": "2021-06-03T09:17:17.026841Z"
    },
    "papermill": {
     "duration": 2.512035,
     "end_time": "2021-06-03T09:21:21.270139",
     "exception": false,
     "start_time": "2021-06-03T09:21:18.758104",
     "status": "completed"
    },
    "tags": []
   },
   "outputs": [
    {
     "name": "stdout",
     "output_type": "stream",
     "text": [
      "                   pre       rec       spe        f1       geo       iba       sup\n",
      "\n",
      "      Legit       1.00      1.00      0.81      1.00      0.90      0.82     56864\n",
      "      Fraud       0.95      0.81      1.00      0.87      0.90      0.79        98\n",
      "\n",
      "avg / total       1.00      1.00      0.81      1.00      0.90      0.82     56962\n",
      "\n",
      "MCC: 0.8757493736676086\n",
      "AP: 0.7676067300337754\n",
      "ROC AUC: 0.9030260528522045\n"
     ]
    },
    {
     "data": {
      "image/png": "[encoded data removed]",
      "text/plain": [
       "<Figure size 864x360 with 3 Axes>"
      ]
     },
     "metadata": {
      "needs_background": "light"
     },
     "output_type": "display_data"
    },
    {
     "data": {
      "image/png": "[encoded data removed]",
      "text/plain": [
       "<Figure size 1152x360 with 1 Axes>"
      ]
     },
     "metadata": {
      "needs_background": "light"
     },
     "output_type": "display_data"
    }
   ],
   "source": [
    "scaled_X_test = grid['standardscaler'].transform(X_test)\n",
    "\n",
    "y_probas = score_model(grid['clf'], scaled_X_test, y_test, feature_names)"
   ]
  },
  {
   "cell_type": "code",
   "execution_count": 34,
   "metadata": {
    "execution": {
     "iopub.execute_input": "2021-06-03T09:21:21.376360Z",
     "iopub.status.busy": "2021-06-03T09:21:21.375662Z",
     "iopub.status.idle": "2021-06-03T09:21:21.543263Z",
     "shell.execute_reply": "2021-06-03T09:21:21.542683Z",
     "shell.execute_reply.started": "2021-06-03T09:17:19.574293Z"
    },
    "papermill": {
     "duration": 0.222971,
     "end_time": "2021-06-03T09:21:21.543377",
     "exception": false,
     "start_time": "2021-06-03T09:21:21.320406",
     "status": "completed"
    },
    "tags": []
   },
   "outputs": [
    {
     "data": {
      "text/plain": [
       "<matplotlib.axes._subplots.AxesSubplot at 0x7f2cc9b468d0>"
      ]
     },
     "execution_count": 34,
     "metadata": {},
     "output_type": "execute_result"
    },
    {
     "data": {
      "image/png": "[encoded data removed]",
      "text/plain": [
       "<Figure size 432x360 with 1 Axes>"
      ]
     },
     "metadata": {
      "needs_background": "light"
     },
     "output_type": "display_data"
    }
   ],
   "source": [
    "skplt.metrics.plot_calibration_curve(y_test, [y_probas], ['LightGBM'], figsize=(6,5))"
   ]
  },
  {
   "cell_type": "code",
   "execution_count": 35,
   "metadata": {
    "execution": {
     "iopub.execute_input": "2021-06-03T09:21:21.661930Z",
     "iopub.status.busy": "2021-06-03T09:21:21.656819Z",
     "iopub.status.idle": "2021-06-03T09:23:28.771599Z",
     "shell.execute_reply": "2021-06-03T09:23:28.771046Z",
     "shell.execute_reply.started": "2021-06-03T09:17:19.759489Z"
    },
    "papermill": {
     "duration": 127.17691,
     "end_time": "2021-06-03T09:23:28.771735",
     "exception": false,
     "start_time": "2021-06-03T09:21:21.594825",
     "status": "completed"
    },
    "tags": []
   },
   "outputs": [
    {
     "data": {
      "text/plain": [
       "<matplotlib.axes._subplots.AxesSubplot at 0x7f2cc9b46910>"
      ]
     },
     "execution_count": 35,
     "metadata": {},
     "output_type": "execute_result"
    },
    {
     "data": {
      "image/png": "[encoded data removed]",
      "text/plain": [
       "<Figure size 432x288 with 1 Axes>"
      ]
     },
     "metadata": {
      "needs_background": "light"
     },
     "output_type": "display_data"
    }
   ],
   "source": [
    "skplt.estimators.plot_learning_curve(grid['clf'], X_train, y_train, scoring='f1', n_jobs=-1, random_state=SEED)"
   ]
  },
  {
   "cell_type": "markdown",
   "metadata": {
    "papermill": {
     "duration": 0.052835,
     "end_time": "2021-06-03T09:23:28.878041",
     "exception": false,
     "start_time": "2021-06-03T09:23:28.825206",
     "status": "completed"
    },
    "tags": []
   },
   "source": [
    "# Conclusions\n",
    "\n",
    "With this dataset, resampling the data didn't produce good results. Using under-sampling, over-sampling or a combination of both didn't improve compared with unchanged class proportions.\n",
    "Perhaps, since most variables were from a PCA transformation, that affected the impact of sampling. Another potential reason is the very low number of fraudulent examples caused the under-sampling to produce a tiny dataset, lacking enough data to train a decent model.\n",
    "\n",
    "In a fraud detection system, two cases are essential for a successful solution: achieving the primary goal of detecting fraudulent transactions (true positive examples) and avoiding targeting genuine transactions as fraudulent (false positives). These two are the most costly to a business when the system does not perform well. This model delivers good results at identifying true positives with an F1 score of 0.87 and does not label any genuine transactions as fraudulent.\n",
    "\n",
    "I hope that this notebook has helpful and if you have any remarks or questions, feel free to leave a comment.\n",
    "\n",
    "You can also follow me on Twitter [@hmatalonga](https://twitter.com/hmatalonga). I talk about Data Science, Machine Learning, among other topics I am interested in."
   ]
  }
 ],
 "metadata": {
  "kernelspec": {
   "display_name": "Python 3",
   "language": "python",
   "name": "python3"
  },
  "language_info": {
   "codemirror_mode": {
    "name": "ipython",
    "version": 3
   },
   "file_extension": ".py",
   "mimetype": "text/x-python",
   "name": "python",
   "nbconvert_exporter": "python",
   "pygments_lexer": "ipython3",
   "version": "3.7.6"
  },
  "papermill": {
   "duration": 187.995912,
   "end_time": "2021-06-03T09:23:29.975173",
   "environment_variables": {},
   "exception": null,
   "input_path": "__notebook__.ipynb",
   "output_path": "__notebook__.ipynb",
   "parameters": {},
   "start_time": "2021-06-03T09:20:21.979261",
   "version": "2.1.0"
  }
 },
 "nbformat": 4,
 "nbformat_minor": 4
}
