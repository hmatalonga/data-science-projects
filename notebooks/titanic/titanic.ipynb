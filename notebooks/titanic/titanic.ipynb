{
  "nbformat": 4,
  "nbformat_minor": 0,
  "metadata": {
    "colab": {
      "name": "titanic.ipynb",
      "provenance": [],
      "collapsed_sections": []
    },
    "kernelspec": {
      "name": "python3",
      "display_name": "Python 3"
    }
  },
  "cells": [
    {
      "cell_type": "markdown",
      "metadata": {
        "id": "QQYLON5vQHeK",
        "colab_type": "text"
      },
      "source": [
        "# Titanic: Machine Learning from Disaster\n",
        "\n",
        "![Titanic](https://upload.wikimedia.org/wikipedia/commons/thumb/f/fd/RMS_Titanic_3.jpg/640px-RMS_Titanic_3.jpg)\n",
        "\n",
        "## Introduction\n",
        "\n",
        "In this project we will try to predict the outcome of the RMS Titanic passengers, which ones survived the shipwreck, by exploring the Titanic dataset and creating a machine learning model. This will be a **classification** problem and we try out different models and ensemble methods and see what works best in this scenario.\n",
        "\n",
        "We will begin by doing some data exploration and visualization to gather a better understanding of the dataset.\n",
        "\n",
        "Next, we will perform some feature engineering to extract some new insights and add some extra information to feed to our model. We will also deal with any potential missing values.\n",
        "\n",
        "Finally, we will try to predict the outcome by using different types of models and compare their performances in order to find the most suitable one for this project. In the end, we will attempt to improve our results by optimizing our final model parameters.\n",
        "\n",
        "This project is based on the introductory [Kaggle competition](https://www.kaggle.com/c/titanic) with the same name.\n",
        "\n",
        "To sum up, in this project we will:\n",
        "1. Load and perform exploratory data analysis of the Titanic dataset\n",
        "2. Feature engineering\n",
        "3. Modelling\n",
        "4. Optimize and fine-tuning model parameters \n",
        "5. Predict the outcome\n",
        "\n",
        "\n"
      ]
    },
    {
      "cell_type": "markdown",
      "metadata": {
        "id": "hXEeBFmOf5JT",
        "colab_type": "text"
      },
      "source": [
        "Before we start, we will install the notebook dependencies:\n",
        "- numpy\n",
        "- pandas\n",
        "- matplotlib\n",
        "- seaborn\n",
        "- sklearn"
      ]
    },
    {
      "cell_type": "code",
      "metadata": {
        "id": "_WHVzB5b9_xl",
        "colab_type": "code",
        "colab": {
          "base_uri": "https://localhost:8080/",
          "height": 35
        },
        "outputId": "7e5ab9c2-56c4-44a4-9c05-62811c78e7b0"
      },
      "source": [
        "!pip install -q -r requirements.txt"
      ],
      "execution_count": 1,
      "outputs": [
        {
          "output_type": "stream",
          "text": [
            "\u001b[31mERROR: Could not open requirements file: [Errno 2] No such file or directory: 'requirements.txt'\u001b[0m\n"
          ],
          "name": "stdout"
        }
      ]
    },
    {
      "cell_type": "markdown",
      "metadata": {
        "id": "-1Ok6JNugDhs",
        "colab_type": "text"
      },
      "source": [
        "Next, we will import all the necessary libraries"
      ]
    },
    {
      "cell_type": "code",
      "metadata": {
        "id": "N3r1ZDUn-2iv",
        "colab_type": "code",
        "colab": {
          "base_uri": "https://localhost:8080/",
          "height": 109
        },
        "outputId": "d1b018d0-0182-4af0-a9f8-023f1192d207"
      },
      "source": [
        "import re\n",
        "import numpy as np\n",
        "import pandas as pd\n",
        "import matplotlib.pyplot as plt\n",
        "import seaborn as sns\n",
        "\n",
        "import platform\n",
        "import warnings\n",
        "\n",
        "from sklearn.svm import SVC\n",
        "from sklearn.ensemble import RandomForestClassifier\n",
        "from sklearn.linear_model import LogisticRegression\n",
        "from sklearn.naive_bayes import GaussianNB\n",
        "from sklearn.neighbors import KNeighborsClassifier\n",
        "\n",
        "from sklearn.pipeline import make_pipeline\n",
        "from sklearn.feature_selection import RFECV\n",
        "\n",
        "from sklearn.preprocessing import StandardScaler\n",
        "from sklearn.preprocessing import OrdinalEncoder\n",
        "\n",
        "from sklearn.metrics import confusion_matrix\n",
        "from sklearn.metrics import classification_report\n",
        "\n",
        "from sklearn.model_selection import GridSearchCV\n",
        "from sklearn.model_selection import learning_curve\n",
        "from sklearn.model_selection import cross_val_score\n",
        "from sklearn.model_selection import train_test_split\n",
        "\n",
        "\n",
        "warnings.filterwarnings('ignore')\n",
        "\n",
        "print('Python version: {}'.format(platform.python_version()))\n",
        "print('NumPy version: {}'.format(np.__version__))\n",
        "print('pandas version: {}'.format(pd.__version__))"
      ],
      "execution_count": 2,
      "outputs": [
        {
          "output_type": "stream",
          "text": [
            "Python version: 3.6.9\n",
            "NumPy version: 1.18.5\n",
            "pandas version: 1.0.5\n"
          ],
          "name": "stdout"
        },
        {
          "output_type": "stream",
          "text": [
            "/usr/local/lib/python3.6/dist-packages/statsmodels/tools/_testing.py:19: FutureWarning: pandas.util.testing is deprecated. Use the functions in the public API at pandas.testing instead.\n",
            "  import pandas.util.testing as tm\n"
          ],
          "name": "stderr"
        }
      ]
    },
    {
      "cell_type": "markdown",
      "metadata": {
        "id": "AwEebRCDk4bH",
        "colab_type": "text"
      },
      "source": [
        "## Loading the data"
      ]
    },
    {
      "cell_type": "code",
      "metadata": {
        "id": "9-_PizOZPHvH",
        "colab_type": "code",
        "colab": {}
      },
      "source": [
        "train_data = pd.read_csv('data/train.csv')\n",
        "test_data = pd.read_csv('data/test.csv')"
      ],
      "execution_count": 3,
      "outputs": []
    },
    {
      "cell_type": "code",
      "metadata": {
        "id": "pTRL9N_VlMfv",
        "colab_type": "code",
        "colab": {
          "base_uri": "https://localhost:8080/",
          "height": 72
        },
        "outputId": "4eba2b75-846a-4527-8ea5-c220e5eaf180"
      },
      "source": [
        "total_num = train_data.shape[0] + test_data.shape[0]\n",
        "test_pct = round(test_data.shape[0] * 100 / total_num)\n",
        "\n",
        "print('Number of entries in the training dataset: {}'.format(train_data.shape[0]))\n",
        "print('Number of entries in the test dataset: {}'.format(test_data.shape[0]))\n",
        "\n",
        "print('Percentage of entries for testing: {}%'.format(test_pct))"
      ],
      "execution_count": 4,
      "outputs": [
        {
          "output_type": "stream",
          "text": [
            "Number of entries in the training dataset: 891\n",
            "Number of entries in the test dataset: 418\n",
            "Percentage of entries for testing: 32%\n"
          ],
          "name": "stdout"
        }
      ]
    },
    {
      "cell_type": "markdown",
      "metadata": {
        "id": "71-CTtpBju0z",
        "colab_type": "text"
      },
      "source": [
        "## Exploratory Data Analysis\n",
        "\n",
        "First, we will look at our initial data and observe the distribution of the features and visualize them in the shape of different plots. We will also check for missing values and look for any statistical relationships in the data."
      ]
    },
    {
      "cell_type": "code",
      "metadata": {
        "id": "SFCWZFhmQEDp",
        "colab_type": "code",
        "colab": {
          "base_uri": "https://localhost:8080/",
          "height": 206
        },
        "outputId": "a2b48b48-5f79-4e68-b983-0623aa6a838d"
      },
      "source": [
        "train_data.head()"
      ],
      "execution_count": 5,
      "outputs": [
        {
          "output_type": "execute_result",
          "data": {
            "text/html": [
              "<div>\n",
              "<style scoped>\n",
              "    .dataframe tbody tr th:only-of-type {\n",
              "        vertical-align: middle;\n",
              "    }\n",
              "\n",
              "    .dataframe tbody tr th {\n",
              "        vertical-align: top;\n",
              "    }\n",
              "\n",
              "    .dataframe thead th {\n",
              "        text-align: right;\n",
              "    }\n",
              "</style>\n",
              "<table border=\"1\" class=\"dataframe\">\n",
              "  <thead>\n",
              "    <tr style=\"text-align: right;\">\n",
              "      <th></th>\n",
              "      <th>PassengerId</th>\n",
              "      <th>Survived</th>\n",
              "      <th>Pclass</th>\n",
              "      <th>Name</th>\n",
              "      <th>Sex</th>\n",
              "      <th>Age</th>\n",
              "      <th>SibSp</th>\n",
              "      <th>Parch</th>\n",
              "      <th>Ticket</th>\n",
              "      <th>Fare</th>\n",
              "      <th>Cabin</th>\n",
              "      <th>Embarked</th>\n",
              "    </tr>\n",
              "  </thead>\n",
              "  <tbody>\n",
              "    <tr>\n",
              "      <th>0</th>\n",
              "      <td>1</td>\n",
              "      <td>0</td>\n",
              "      <td>3</td>\n",
              "      <td>Braund, Mr. Owen Harris</td>\n",
              "      <td>male</td>\n",
              "      <td>22.0</td>\n",
              "      <td>1</td>\n",
              "      <td>0</td>\n",
              "      <td>A/5 21171</td>\n",
              "      <td>7.2500</td>\n",
              "      <td>NaN</td>\n",
              "      <td>S</td>\n",
              "    </tr>\n",
              "    <tr>\n",
              "      <th>1</th>\n",
              "      <td>2</td>\n",
              "      <td>1</td>\n",
              "      <td>1</td>\n",
              "      <td>Cumings, Mrs. John Bradley (Florence Briggs Th...</td>\n",
              "      <td>female</td>\n",
              "      <td>38.0</td>\n",
              "      <td>1</td>\n",
              "      <td>0</td>\n",
              "      <td>PC 17599</td>\n",
              "      <td>71.2833</td>\n",
              "      <td>C85</td>\n",
              "      <td>C</td>\n",
              "    </tr>\n",
              "    <tr>\n",
              "      <th>2</th>\n",
              "      <td>3</td>\n",
              "      <td>1</td>\n",
              "      <td>3</td>\n",
              "      <td>Heikkinen, Miss. Laina</td>\n",
              "      <td>female</td>\n",
              "      <td>26.0</td>\n",
              "      <td>0</td>\n",
              "      <td>0</td>\n",
              "      <td>STON/O2. 3101282</td>\n",
              "      <td>7.9250</td>\n",
              "      <td>NaN</td>\n",
              "      <td>S</td>\n",
              "    </tr>\n",
              "    <tr>\n",
              "      <th>3</th>\n",
              "      <td>4</td>\n",
              "      <td>1</td>\n",
              "      <td>1</td>\n",
              "      <td>Futrelle, Mrs. Jacques Heath (Lily May Peel)</td>\n",
              "      <td>female</td>\n",
              "      <td>35.0</td>\n",
              "      <td>1</td>\n",
              "      <td>0</td>\n",
              "      <td>113803</td>\n",
              "      <td>53.1000</td>\n",
              "      <td>C123</td>\n",
              "      <td>S</td>\n",
              "    </tr>\n",
              "    <tr>\n",
              "      <th>4</th>\n",
              "      <td>5</td>\n",
              "      <td>0</td>\n",
              "      <td>3</td>\n",
              "      <td>Allen, Mr. William Henry</td>\n",
              "      <td>male</td>\n",
              "      <td>35.0</td>\n",
              "      <td>0</td>\n",
              "      <td>0</td>\n",
              "      <td>373450</td>\n",
              "      <td>8.0500</td>\n",
              "      <td>NaN</td>\n",
              "      <td>S</td>\n",
              "    </tr>\n",
              "  </tbody>\n",
              "</table>\n",
              "</div>"
            ],
            "text/plain": [
              "   PassengerId  Survived  Pclass  ...     Fare Cabin  Embarked\n",
              "0            1         0       3  ...   7.2500   NaN         S\n",
              "1            2         1       1  ...  71.2833   C85         C\n",
              "2            3         1       3  ...   7.9250   NaN         S\n",
              "3            4         1       1  ...  53.1000  C123         S\n",
              "4            5         0       3  ...   8.0500   NaN         S\n",
              "\n",
              "[5 rows x 12 columns]"
            ]
          },
          "metadata": {
            "tags": []
          },
          "execution_count": 5
        }
      ]
    },
    {
      "cell_type": "code",
      "metadata": {
        "id": "pFc_ezcFNhna",
        "colab_type": "code",
        "colab": {}
      },
      "source": [
        "# List of features to view descriptive statistics\n",
        "features = ['Pclass', 'Name', 'Sex', 'Age', 'SibSp', 'Parch', 'Ticket', 'Fare', 'Cabin', 'Embarked']"
      ],
      "execution_count": 6,
      "outputs": []
    },
    {
      "cell_type": "markdown",
      "metadata": {
        "id": "uctebEUAObLu",
        "colab_type": "text"
      },
      "source": [
        "Descriptive statistics for numeric and categorical features of the training data:"
      ]
    },
    {
      "cell_type": "code",
      "metadata": {
        "id": "UjSrJ0ljLVAs",
        "colab_type": "code",
        "colab": {
          "base_uri": "https://localhost:8080/",
          "height": 300
        },
        "outputId": "08086bb9-8441-4d35-c960-a218b35ad65e"
      },
      "source": [
        "train_data[features].describe()"
      ],
      "execution_count": 7,
      "outputs": [
        {
          "output_type": "execute_result",
          "data": {
            "text/html": [
              "<div>\n",
              "<style scoped>\n",
              "    .dataframe tbody tr th:only-of-type {\n",
              "        vertical-align: middle;\n",
              "    }\n",
              "\n",
              "    .dataframe tbody tr th {\n",
              "        vertical-align: top;\n",
              "    }\n",
              "\n",
              "    .dataframe thead th {\n",
              "        text-align: right;\n",
              "    }\n",
              "</style>\n",
              "<table border=\"1\" class=\"dataframe\">\n",
              "  <thead>\n",
              "    <tr style=\"text-align: right;\">\n",
              "      <th></th>\n",
              "      <th>Pclass</th>\n",
              "      <th>Age</th>\n",
              "      <th>SibSp</th>\n",
              "      <th>Parch</th>\n",
              "      <th>Fare</th>\n",
              "    </tr>\n",
              "  </thead>\n",
              "  <tbody>\n",
              "    <tr>\n",
              "      <th>count</th>\n",
              "      <td>891.000000</td>\n",
              "      <td>714.000000</td>\n",
              "      <td>891.000000</td>\n",
              "      <td>891.000000</td>\n",
              "      <td>891.000000</td>\n",
              "    </tr>\n",
              "    <tr>\n",
              "      <th>mean</th>\n",
              "      <td>2.308642</td>\n",
              "      <td>29.699118</td>\n",
              "      <td>0.523008</td>\n",
              "      <td>0.381594</td>\n",
              "      <td>32.204208</td>\n",
              "    </tr>\n",
              "    <tr>\n",
              "      <th>std</th>\n",
              "      <td>0.836071</td>\n",
              "      <td>14.526497</td>\n",
              "      <td>1.102743</td>\n",
              "      <td>0.806057</td>\n",
              "      <td>49.693429</td>\n",
              "    </tr>\n",
              "    <tr>\n",
              "      <th>min</th>\n",
              "      <td>1.000000</td>\n",
              "      <td>0.420000</td>\n",
              "      <td>0.000000</td>\n",
              "      <td>0.000000</td>\n",
              "      <td>0.000000</td>\n",
              "    </tr>\n",
              "    <tr>\n",
              "      <th>25%</th>\n",
              "      <td>2.000000</td>\n",
              "      <td>20.125000</td>\n",
              "      <td>0.000000</td>\n",
              "      <td>0.000000</td>\n",
              "      <td>7.910400</td>\n",
              "    </tr>\n",
              "    <tr>\n",
              "      <th>50%</th>\n",
              "      <td>3.000000</td>\n",
              "      <td>28.000000</td>\n",
              "      <td>0.000000</td>\n",
              "      <td>0.000000</td>\n",
              "      <td>14.454200</td>\n",
              "    </tr>\n",
              "    <tr>\n",
              "      <th>75%</th>\n",
              "      <td>3.000000</td>\n",
              "      <td>38.000000</td>\n",
              "      <td>1.000000</td>\n",
              "      <td>0.000000</td>\n",
              "      <td>31.000000</td>\n",
              "    </tr>\n",
              "    <tr>\n",
              "      <th>max</th>\n",
              "      <td>3.000000</td>\n",
              "      <td>80.000000</td>\n",
              "      <td>8.000000</td>\n",
              "      <td>6.000000</td>\n",
              "      <td>512.329200</td>\n",
              "    </tr>\n",
              "  </tbody>\n",
              "</table>\n",
              "</div>"
            ],
            "text/plain": [
              "           Pclass         Age       SibSp       Parch        Fare\n",
              "count  891.000000  714.000000  891.000000  891.000000  891.000000\n",
              "mean     2.308642   29.699118    0.523008    0.381594   32.204208\n",
              "std      0.836071   14.526497    1.102743    0.806057   49.693429\n",
              "min      1.000000    0.420000    0.000000    0.000000    0.000000\n",
              "25%      2.000000   20.125000    0.000000    0.000000    7.910400\n",
              "50%      3.000000   28.000000    0.000000    0.000000   14.454200\n",
              "75%      3.000000   38.000000    1.000000    0.000000   31.000000\n",
              "max      3.000000   80.000000    8.000000    6.000000  512.329200"
            ]
          },
          "metadata": {
            "tags": []
          },
          "execution_count": 7
        }
      ]
    },
    {
      "cell_type": "code",
      "metadata": {
        "id": "45N960rHLYH9",
        "colab_type": "code",
        "colab": {
          "base_uri": "https://localhost:8080/",
          "height": 175
        },
        "outputId": "ad56f961-942c-427e-ddc3-883a4ae3f1c0"
      },
      "source": [
        "train_data[features].describe(include=['O'])"
      ],
      "execution_count": 8,
      "outputs": [
        {
          "output_type": "execute_result",
          "data": {
            "text/html": [
              "<div>\n",
              "<style scoped>\n",
              "    .dataframe tbody tr th:only-of-type {\n",
              "        vertical-align: middle;\n",
              "    }\n",
              "\n",
              "    .dataframe tbody tr th {\n",
              "        vertical-align: top;\n",
              "    }\n",
              "\n",
              "    .dataframe thead th {\n",
              "        text-align: right;\n",
              "    }\n",
              "</style>\n",
              "<table border=\"1\" class=\"dataframe\">\n",
              "  <thead>\n",
              "    <tr style=\"text-align: right;\">\n",
              "      <th></th>\n",
              "      <th>Name</th>\n",
              "      <th>Sex</th>\n",
              "      <th>Ticket</th>\n",
              "      <th>Cabin</th>\n",
              "      <th>Embarked</th>\n",
              "    </tr>\n",
              "  </thead>\n",
              "  <tbody>\n",
              "    <tr>\n",
              "      <th>count</th>\n",
              "      <td>891</td>\n",
              "      <td>891</td>\n",
              "      <td>891</td>\n",
              "      <td>204</td>\n",
              "      <td>889</td>\n",
              "    </tr>\n",
              "    <tr>\n",
              "      <th>unique</th>\n",
              "      <td>891</td>\n",
              "      <td>2</td>\n",
              "      <td>681</td>\n",
              "      <td>147</td>\n",
              "      <td>3</td>\n",
              "    </tr>\n",
              "    <tr>\n",
              "      <th>top</th>\n",
              "      <td>Gustafsson, Mr. Alfred Ossian</td>\n",
              "      <td>male</td>\n",
              "      <td>CA. 2343</td>\n",
              "      <td>G6</td>\n",
              "      <td>S</td>\n",
              "    </tr>\n",
              "    <tr>\n",
              "      <th>freq</th>\n",
              "      <td>1</td>\n",
              "      <td>577</td>\n",
              "      <td>7</td>\n",
              "      <td>4</td>\n",
              "      <td>644</td>\n",
              "    </tr>\n",
              "  </tbody>\n",
              "</table>\n",
              "</div>"
            ],
            "text/plain": [
              "                                 Name   Sex    Ticket Cabin Embarked\n",
              "count                             891   891       891   204      889\n",
              "unique                            891     2       681   147        3\n",
              "top     Gustafsson, Mr. Alfred Ossian  male  CA. 2343    G6        S\n",
              "freq                                1   577         7     4      644"
            ]
          },
          "metadata": {
            "tags": []
          },
          "execution_count": 8
        }
      ]
    },
    {
      "cell_type": "code",
      "metadata": {
        "id": "ZdrS35xpoZGN",
        "colab_type": "code",
        "colab": {
          "base_uri": "https://localhost:8080/",
          "height": 206
        },
        "outputId": "b3fefea4-15a8-4667-cca4-cab7a2dc243b"
      },
      "source": [
        "test_data.head()"
      ],
      "execution_count": 9,
      "outputs": [
        {
          "output_type": "execute_result",
          "data": {
            "text/html": [
              "<div>\n",
              "<style scoped>\n",
              "    .dataframe tbody tr th:only-of-type {\n",
              "        vertical-align: middle;\n",
              "    }\n",
              "\n",
              "    .dataframe tbody tr th {\n",
              "        vertical-align: top;\n",
              "    }\n",
              "\n",
              "    .dataframe thead th {\n",
              "        text-align: right;\n",
              "    }\n",
              "</style>\n",
              "<table border=\"1\" class=\"dataframe\">\n",
              "  <thead>\n",
              "    <tr style=\"text-align: right;\">\n",
              "      <th></th>\n",
              "      <th>PassengerId</th>\n",
              "      <th>Pclass</th>\n",
              "      <th>Name</th>\n",
              "      <th>Sex</th>\n",
              "      <th>Age</th>\n",
              "      <th>SibSp</th>\n",
              "      <th>Parch</th>\n",
              "      <th>Ticket</th>\n",
              "      <th>Fare</th>\n",
              "      <th>Cabin</th>\n",
              "      <th>Embarked</th>\n",
              "    </tr>\n",
              "  </thead>\n",
              "  <tbody>\n",
              "    <tr>\n",
              "      <th>0</th>\n",
              "      <td>892</td>\n",
              "      <td>3</td>\n",
              "      <td>Kelly, Mr. James</td>\n",
              "      <td>male</td>\n",
              "      <td>34.5</td>\n",
              "      <td>0</td>\n",
              "      <td>0</td>\n",
              "      <td>330911</td>\n",
              "      <td>7.8292</td>\n",
              "      <td>NaN</td>\n",
              "      <td>Q</td>\n",
              "    </tr>\n",
              "    <tr>\n",
              "      <th>1</th>\n",
              "      <td>893</td>\n",
              "      <td>3</td>\n",
              "      <td>Wilkes, Mrs. James (Ellen Needs)</td>\n",
              "      <td>female</td>\n",
              "      <td>47.0</td>\n",
              "      <td>1</td>\n",
              "      <td>0</td>\n",
              "      <td>363272</td>\n",
              "      <td>7.0000</td>\n",
              "      <td>NaN</td>\n",
              "      <td>S</td>\n",
              "    </tr>\n",
              "    <tr>\n",
              "      <th>2</th>\n",
              "      <td>894</td>\n",
              "      <td>2</td>\n",
              "      <td>Myles, Mr. Thomas Francis</td>\n",
              "      <td>male</td>\n",
              "      <td>62.0</td>\n",
              "      <td>0</td>\n",
              "      <td>0</td>\n",
              "      <td>240276</td>\n",
              "      <td>9.6875</td>\n",
              "      <td>NaN</td>\n",
              "      <td>Q</td>\n",
              "    </tr>\n",
              "    <tr>\n",
              "      <th>3</th>\n",
              "      <td>895</td>\n",
              "      <td>3</td>\n",
              "      <td>Wirz, Mr. Albert</td>\n",
              "      <td>male</td>\n",
              "      <td>27.0</td>\n",
              "      <td>0</td>\n",
              "      <td>0</td>\n",
              "      <td>315154</td>\n",
              "      <td>8.6625</td>\n",
              "      <td>NaN</td>\n",
              "      <td>S</td>\n",
              "    </tr>\n",
              "    <tr>\n",
              "      <th>4</th>\n",
              "      <td>896</td>\n",
              "      <td>3</td>\n",
              "      <td>Hirvonen, Mrs. Alexander (Helga E Lindqvist)</td>\n",
              "      <td>female</td>\n",
              "      <td>22.0</td>\n",
              "      <td>1</td>\n",
              "      <td>1</td>\n",
              "      <td>3101298</td>\n",
              "      <td>12.2875</td>\n",
              "      <td>NaN</td>\n",
              "      <td>S</td>\n",
              "    </tr>\n",
              "  </tbody>\n",
              "</table>\n",
              "</div>"
            ],
            "text/plain": [
              "   PassengerId  Pclass  ... Cabin Embarked\n",
              "0          892       3  ...   NaN        Q\n",
              "1          893       3  ...   NaN        S\n",
              "2          894       2  ...   NaN        Q\n",
              "3          895       3  ...   NaN        S\n",
              "4          896       3  ...   NaN        S\n",
              "\n",
              "[5 rows x 11 columns]"
            ]
          },
          "metadata": {
            "tags": []
          },
          "execution_count": 9
        }
      ]
    },
    {
      "cell_type": "markdown",
      "metadata": {
        "id": "SL00sUT4Ork4",
        "colab_type": "text"
      },
      "source": [
        "Descriptive statistics for numeric and categorical features of the testing data:"
      ]
    },
    {
      "cell_type": "code",
      "metadata": {
        "id": "Nr1tYt7lMC2O",
        "colab_type": "code",
        "colab": {
          "base_uri": "https://localhost:8080/",
          "height": 300
        },
        "outputId": "27afca9a-2f29-4837-b9f6-64dfd6120e57"
      },
      "source": [
        "test_data[features].describe()"
      ],
      "execution_count": 10,
      "outputs": [
        {
          "output_type": "execute_result",
          "data": {
            "text/html": [
              "<div>\n",
              "<style scoped>\n",
              "    .dataframe tbody tr th:only-of-type {\n",
              "        vertical-align: middle;\n",
              "    }\n",
              "\n",
              "    .dataframe tbody tr th {\n",
              "        vertical-align: top;\n",
              "    }\n",
              "\n",
              "    .dataframe thead th {\n",
              "        text-align: right;\n",
              "    }\n",
              "</style>\n",
              "<table border=\"1\" class=\"dataframe\">\n",
              "  <thead>\n",
              "    <tr style=\"text-align: right;\">\n",
              "      <th></th>\n",
              "      <th>Pclass</th>\n",
              "      <th>Age</th>\n",
              "      <th>SibSp</th>\n",
              "      <th>Parch</th>\n",
              "      <th>Fare</th>\n",
              "    </tr>\n",
              "  </thead>\n",
              "  <tbody>\n",
              "    <tr>\n",
              "      <th>count</th>\n",
              "      <td>418.000000</td>\n",
              "      <td>332.000000</td>\n",
              "      <td>418.000000</td>\n",
              "      <td>418.000000</td>\n",
              "      <td>417.000000</td>\n",
              "    </tr>\n",
              "    <tr>\n",
              "      <th>mean</th>\n",
              "      <td>2.265550</td>\n",
              "      <td>30.272590</td>\n",
              "      <td>0.447368</td>\n",
              "      <td>0.392344</td>\n",
              "      <td>35.627188</td>\n",
              "    </tr>\n",
              "    <tr>\n",
              "      <th>std</th>\n",
              "      <td>0.841838</td>\n",
              "      <td>14.181209</td>\n",
              "      <td>0.896760</td>\n",
              "      <td>0.981429</td>\n",
              "      <td>55.907576</td>\n",
              "    </tr>\n",
              "    <tr>\n",
              "      <th>min</th>\n",
              "      <td>1.000000</td>\n",
              "      <td>0.170000</td>\n",
              "      <td>0.000000</td>\n",
              "      <td>0.000000</td>\n",
              "      <td>0.000000</td>\n",
              "    </tr>\n",
              "    <tr>\n",
              "      <th>25%</th>\n",
              "      <td>1.000000</td>\n",
              "      <td>21.000000</td>\n",
              "      <td>0.000000</td>\n",
              "      <td>0.000000</td>\n",
              "      <td>7.895800</td>\n",
              "    </tr>\n",
              "    <tr>\n",
              "      <th>50%</th>\n",
              "      <td>3.000000</td>\n",
              "      <td>27.000000</td>\n",
              "      <td>0.000000</td>\n",
              "      <td>0.000000</td>\n",
              "      <td>14.454200</td>\n",
              "    </tr>\n",
              "    <tr>\n",
              "      <th>75%</th>\n",
              "      <td>3.000000</td>\n",
              "      <td>39.000000</td>\n",
              "      <td>1.000000</td>\n",
              "      <td>0.000000</td>\n",
              "      <td>31.500000</td>\n",
              "    </tr>\n",
              "    <tr>\n",
              "      <th>max</th>\n",
              "      <td>3.000000</td>\n",
              "      <td>76.000000</td>\n",
              "      <td>8.000000</td>\n",
              "      <td>9.000000</td>\n",
              "      <td>512.329200</td>\n",
              "    </tr>\n",
              "  </tbody>\n",
              "</table>\n",
              "</div>"
            ],
            "text/plain": [
              "           Pclass         Age       SibSp       Parch        Fare\n",
              "count  418.000000  332.000000  418.000000  418.000000  417.000000\n",
              "mean     2.265550   30.272590    0.447368    0.392344   35.627188\n",
              "std      0.841838   14.181209    0.896760    0.981429   55.907576\n",
              "min      1.000000    0.170000    0.000000    0.000000    0.000000\n",
              "25%      1.000000   21.000000    0.000000    0.000000    7.895800\n",
              "50%      3.000000   27.000000    0.000000    0.000000   14.454200\n",
              "75%      3.000000   39.000000    1.000000    0.000000   31.500000\n",
              "max      3.000000   76.000000    8.000000    9.000000  512.329200"
            ]
          },
          "metadata": {
            "tags": []
          },
          "execution_count": 10
        }
      ]
    },
    {
      "cell_type": "code",
      "metadata": {
        "id": "MeDT3AFQME6F",
        "colab_type": "code",
        "colab": {
          "base_uri": "https://localhost:8080/",
          "height": 175
        },
        "outputId": "e4eecc79-48d1-4559-caff-b02258d1e0d9"
      },
      "source": [
        "test_data[features].describe(include=['O'])"
      ],
      "execution_count": 11,
      "outputs": [
        {
          "output_type": "execute_result",
          "data": {
            "text/html": [
              "<div>\n",
              "<style scoped>\n",
              "    .dataframe tbody tr th:only-of-type {\n",
              "        vertical-align: middle;\n",
              "    }\n",
              "\n",
              "    .dataframe tbody tr th {\n",
              "        vertical-align: top;\n",
              "    }\n",
              "\n",
              "    .dataframe thead th {\n",
              "        text-align: right;\n",
              "    }\n",
              "</style>\n",
              "<table border=\"1\" class=\"dataframe\">\n",
              "  <thead>\n",
              "    <tr style=\"text-align: right;\">\n",
              "      <th></th>\n",
              "      <th>Name</th>\n",
              "      <th>Sex</th>\n",
              "      <th>Ticket</th>\n",
              "      <th>Cabin</th>\n",
              "      <th>Embarked</th>\n",
              "    </tr>\n",
              "  </thead>\n",
              "  <tbody>\n",
              "    <tr>\n",
              "      <th>count</th>\n",
              "      <td>418</td>\n",
              "      <td>418</td>\n",
              "      <td>418</td>\n",
              "      <td>91</td>\n",
              "      <td>418</td>\n",
              "    </tr>\n",
              "    <tr>\n",
              "      <th>unique</th>\n",
              "      <td>418</td>\n",
              "      <td>2</td>\n",
              "      <td>363</td>\n",
              "      <td>76</td>\n",
              "      <td>3</td>\n",
              "    </tr>\n",
              "    <tr>\n",
              "      <th>top</th>\n",
              "      <td>Nourney, Mr. Alfred (Baron von Drachstedt\")\"</td>\n",
              "      <td>male</td>\n",
              "      <td>PC 17608</td>\n",
              "      <td>B57 B59 B63 B66</td>\n",
              "      <td>S</td>\n",
              "    </tr>\n",
              "    <tr>\n",
              "      <th>freq</th>\n",
              "      <td>1</td>\n",
              "      <td>266</td>\n",
              "      <td>5</td>\n",
              "      <td>3</td>\n",
              "      <td>270</td>\n",
              "    </tr>\n",
              "  </tbody>\n",
              "</table>\n",
              "</div>"
            ],
            "text/plain": [
              "                                                Name  ... Embarked\n",
              "count                                            418  ...      418\n",
              "unique                                           418  ...        3\n",
              "top     Nourney, Mr. Alfred (Baron von Drachstedt\")\"  ...        S\n",
              "freq                                               1  ...      270\n",
              "\n",
              "[4 rows x 5 columns]"
            ]
          },
          "metadata": {
            "tags": []
          },
          "execution_count": 11
        }
      ]
    },
    {
      "cell_type": "markdown",
      "metadata": {
        "id": "nUm5SSkYW_qw",
        "colab_type": "text"
      },
      "source": [
        "**Is our training data balanced? Do we have a reasonable distribution of passengers who survived and those who did not?**\n",
        "\n",
        "Looks like it is fairly balanced. Around 61% died while approximately 38% survived."
      ]
    },
    {
      "cell_type": "code",
      "metadata": {
        "id": "c-wjvfdAXou8",
        "colab_type": "code",
        "colab": {
          "base_uri": "https://localhost:8080/",
          "height": 72
        },
        "outputId": "a46c0e5c-fc55-47fd-a0e0-65ba40895e1d"
      },
      "source": [
        "train_data['Survived'].value_counts(normalize=True)"
      ],
      "execution_count": 12,
      "outputs": [
        {
          "output_type": "execute_result",
          "data": {
            "text/plain": [
              "0    0.616162\n",
              "1    0.383838\n",
              "Name: Survived, dtype: float64"
            ]
          },
          "metadata": {
            "tags": []
          },
          "execution_count": 12
        }
      ]
    },
    {
      "cell_type": "markdown",
      "metadata": {
        "id": "Vu8LqsZom70H",
        "colab_type": "text"
      },
      "source": [
        "Lets check for any missing values in our data."
      ]
    },
    {
      "cell_type": "code",
      "metadata": {
        "id": "hS4_dqLpj5C_",
        "colab_type": "code",
        "colab": {
          "base_uri": "https://localhost:8080/",
          "height": 256
        },
        "outputId": "e8e459a3-66e9-40f4-fd3c-eb9ca8a8bfd0"
      },
      "source": [
        "train_data.isna().sum()"
      ],
      "execution_count": 13,
      "outputs": [
        {
          "output_type": "execute_result",
          "data": {
            "text/plain": [
              "PassengerId      0\n",
              "Survived         0\n",
              "Pclass           0\n",
              "Name             0\n",
              "Sex              0\n",
              "Age            177\n",
              "SibSp            0\n",
              "Parch            0\n",
              "Ticket           0\n",
              "Fare             0\n",
              "Cabin          687\n",
              "Embarked         2\n",
              "dtype: int64"
            ]
          },
          "metadata": {
            "tags": []
          },
          "execution_count": 13
        }
      ]
    },
    {
      "cell_type": "markdown",
      "metadata": {
        "id": "4Zg2RXmqvTij",
        "colab_type": "text"
      },
      "source": [
        "We will define a small helper function to calculate the percentage of missing values for a given feature."
      ]
    },
    {
      "cell_type": "code",
      "metadata": {
        "id": "C3Vwii0Ptsch",
        "colab_type": "code",
        "colab": {
          "base_uri": "https://localhost:8080/",
          "height": 72
        },
        "outputId": "3c9ccb53-e18e-4596-8f31-b37531eaefec"
      },
      "source": [
        "def num_isna(feature):\n",
        "  return round(train_data[feature].isna().sum() * 100 / train_data.shape[0], 3)\n",
        "\n",
        "features_na = train_data.columns[train_data.isna().any()].tolist()\n",
        "\n",
        "for feature in features_na:\n",
        "  print('Percentage of NA values for {}: {}%'.format(feature, num_isna(feature)))"
      ],
      "execution_count": 14,
      "outputs": [
        {
          "output_type": "stream",
          "text": [
            "Percentage of NA values for Age: 19.865%\n",
            "Percentage of NA values for Cabin: 77.104%\n",
            "Percentage of NA values for Embarked: 0.224%\n"
          ],
          "name": "stdout"
        }
      ]
    },
    {
      "cell_type": "markdown",
      "metadata": {
        "id": "cSCDL8mwtIAH",
        "colab_type": "text"
      },
      "source": [
        "**Which features contain missing values in the training data?**\n",
        "\n",
        "Cabin, Age and Embarked have missing values."
      ]
    },
    {
      "cell_type": "code",
      "metadata": {
        "id": "MFXKgLnnnIGF",
        "colab_type": "code",
        "colab": {
          "base_uri": "https://localhost:8080/",
          "height": 237
        },
        "outputId": "3da82cee-4eda-46cf-a442-25d30a2609f1"
      },
      "source": [
        "test_data.isna().sum()"
      ],
      "execution_count": 15,
      "outputs": [
        {
          "output_type": "execute_result",
          "data": {
            "text/plain": [
              "PassengerId      0\n",
              "Pclass           0\n",
              "Name             0\n",
              "Sex              0\n",
              "Age             86\n",
              "SibSp            0\n",
              "Parch            0\n",
              "Ticket           0\n",
              "Fare             1\n",
              "Cabin          327\n",
              "Embarked         0\n",
              "dtype: int64"
            ]
          },
          "metadata": {
            "tags": []
          },
          "execution_count": 15
        }
      ]
    },
    {
      "cell_type": "code",
      "metadata": {
        "id": "mB2SDr8ovhNb",
        "colab_type": "code",
        "colab": {
          "base_uri": "https://localhost:8080/",
          "height": 72
        },
        "outputId": "194e0a63-b4e8-432f-d5db-122d21480fdd"
      },
      "source": [
        "features_na = test_data.columns[test_data.isna().any()].tolist()\n",
        "\n",
        "for feature in features_na:\n",
        "  print('Percentage of NA values for {}: {}%'.format(feature, num_isna(feature)))"
      ],
      "execution_count": 16,
      "outputs": [
        {
          "output_type": "stream",
          "text": [
            "Percentage of NA values for Age: 19.865%\n",
            "Percentage of NA values for Fare: 0.0%\n",
            "Percentage of NA values for Cabin: 77.104%\n"
          ],
          "name": "stdout"
        }
      ]
    },
    {
      "cell_type": "markdown",
      "metadata": {
        "id": "VCpLo32Dw7_m",
        "colab_type": "text"
      },
      "source": [
        "**Which features contain missing values in the testing data?**\n",
        "\n",
        "Cabin, Age and Fare have missing values."
      ]
    },
    {
      "cell_type": "markdown",
      "metadata": {
        "id": "4xI2uGFmktzD",
        "colab_type": "text"
      },
      "source": [
        "### Visualizing the data \n",
        "\n",
        "We will plot the data distribution and statistical relationships."
      ]
    },
    {
      "cell_type": "markdown",
      "metadata": {
        "id": "3kTVTb9zZlqb",
        "colab_type": "text"
      },
      "source": [
        "**Did one gender survided more than the other?**\n",
        "\n",
        "We can confirm that a significant higher number of female passengers survived compared to the male passengers."
      ]
    },
    {
      "cell_type": "code",
      "metadata": {
        "id": "lCkpUQcGY6my",
        "colab_type": "code",
        "colab": {
          "base_uri": "https://localhost:8080/",
          "height": 387
        },
        "outputId": "4bc9289d-6194-4156-a699-6b7e94ccf3a7"
      },
      "source": [
        "sns.catplot(x='Sex', y='Survived', kind='bar', data=train_data)"
      ],
      "execution_count": 17,
      "outputs": [
        {
          "output_type": "execute_result",
          "data": {
            "text/plain": [
              "<seaborn.axisgrid.FacetGrid at 0x7f779d7bee80>"
            ]
          },
          "metadata": {
            "tags": []
          },
          "execution_count": 17
        },
        {
          "output_type": "display_data",
          "data": {
            "image/png": "[encoded data removed]",
            "text/plain": [
              "<Figure size 360x360 with 1 Axes>"
            ]
          },
          "metadata": {
            "tags": [],
            "needs_background": "light"
          }
        }
      ]
    },
    {
      "cell_type": "markdown",
      "metadata": {
        "id": "6Mvr56xX0OgC",
        "colab_type": "text"
      },
      "source": [
        "**What is the distribution of passengers ages?**"
      ]
    },
    {
      "cell_type": "code",
      "metadata": {
        "id": "--VJ4pXHo5IR",
        "colab_type": "code",
        "colab": {
          "base_uri": "https://localhost:8080/",
          "height": 297
        },
        "outputId": "daeb9d12-bb21-480d-f4a0-c6cc1eec9689"
      },
      "source": [
        "sns.distplot(train_data['Age'])"
      ],
      "execution_count": 18,
      "outputs": [
        {
          "output_type": "execute_result",
          "data": {
            "text/plain": [
              "<matplotlib.axes._subplots.AxesSubplot at 0x7f7799eb1668>"
            ]
          },
          "metadata": {
            "tags": []
          },
          "execution_count": 18
        },
        {
          "output_type": "display_data",
          "data": {
            "image/png": "[encoded data removed]",
            "text/plain": [
              "<Figure size 432x288 with 1 Axes>"
            ]
          },
          "metadata": {
            "tags": [],
            "needs_background": "light"
          }
        }
      ]
    },
    {
      "cell_type": "markdown",
      "metadata": {
        "colab_type": "text",
        "id": "uBIf9Ea83DAA"
      },
      "source": [
        "**What is the distribution of passengers parents/children aboard?**"
      ]
    },
    {
      "cell_type": "code",
      "metadata": {
        "colab_type": "code",
        "id": "UV2brQyV3DAI",
        "colab": {
          "base_uri": "https://localhost:8080/",
          "height": 298
        },
        "outputId": "fd6cb1c1-9961-4185-dc5a-f8ec3c06c7ef"
      },
      "source": [
        "sns.countplot(train_data['Parch'])"
      ],
      "execution_count": 19,
      "outputs": [
        {
          "output_type": "execute_result",
          "data": {
            "text/plain": [
              "<matplotlib.axes._subplots.AxesSubplot at 0x7f7799a16c50>"
            ]
          },
          "metadata": {
            "tags": []
          },
          "execution_count": 19
        },
        {
          "output_type": "display_data",
          "data": {
            "image/png": "[encoded data removed]",
            "text/plain": [
              "<Figure size 432x288 with 1 Axes>"
            ]
          },
          "metadata": {
            "tags": [],
            "needs_background": "light"
          }
        }
      ]
    },
    {
      "cell_type": "markdown",
      "metadata": {
        "id": "LgPtlo-Q3bVf",
        "colab_type": "text"
      },
      "source": [
        "**What is the distribution of passengers siblings/spouses aboard?**"
      ]
    },
    {
      "cell_type": "code",
      "metadata": {
        "colab_type": "code",
        "id": "gbE8JlSz3YH_",
        "colab": {
          "base_uri": "https://localhost:8080/",
          "height": 297
        },
        "outputId": "36341acf-0e07-4e94-969f-e677df7dec56"
      },
      "source": [
        "sns.countplot(train_data['SibSp'])"
      ],
      "execution_count": 20,
      "outputs": [
        {
          "output_type": "execute_result",
          "data": {
            "text/plain": [
              "<matplotlib.axes._subplots.AxesSubplot at 0x7f7799989320>"
            ]
          },
          "metadata": {
            "tags": []
          },
          "execution_count": 20
        },
        {
          "output_type": "display_data",
          "data": {
            "image/png": "[encoded data removed]",
            "text/plain": [
              "<Figure size 432x288 with 1 Axes>"
            ]
          },
          "metadata": {
            "tags": [],
            "needs_background": "light"
          }
        }
      ]
    },
    {
      "cell_type": "markdown",
      "metadata": {
        "colab_type": "text",
        "id": "bIt_Ao_01KYk"
      },
      "source": [
        "**What is the distribution of passengers classes?**"
      ]
    },
    {
      "cell_type": "code",
      "metadata": {
        "colab_type": "code",
        "id": "7OBzqTGW1KYr",
        "colab": {
          "base_uri": "https://localhost:8080/",
          "height": 297
        },
        "outputId": "07838151-12f0-4362-b977-7f6a23b46445"
      },
      "source": [
        "sns.countplot(train_data['Pclass'])"
      ],
      "execution_count": 21,
      "outputs": [
        {
          "output_type": "execute_result",
          "data": {
            "text/plain": [
              "<matplotlib.axes._subplots.AxesSubplot at 0x7f7799902898>"
            ]
          },
          "metadata": {
            "tags": []
          },
          "execution_count": 21
        },
        {
          "output_type": "display_data",
          "data": {
            "image/png": "[encoded data removed]",
            "text/plain": [
              "<Figure size 432x288 with 1 Axes>"
            ]
          },
          "metadata": {
            "tags": [],
            "needs_background": "light"
          }
        }
      ]
    },
    {
      "cell_type": "markdown",
      "metadata": {
        "id": "-ziOmq2qXM7d",
        "colab_type": "text"
      },
      "source": [
        "**Which classes of passengers survived the most? Comparing gender**\n",
        "\n",
        "It looks like the higher their passenger class the better chance of survival and female passengers of upper classes may have a higher survival rate too."
      ]
    },
    {
      "cell_type": "code",
      "metadata": {
        "id": "Y0bfTPYKksdr",
        "colab_type": "code",
        "colab": {
          "base_uri": "https://localhost:8080/",
          "height": 387
        },
        "outputId": "c01ab1b5-8982-4695-9ab4-8bdd9de20a59"
      },
      "source": [
        "sns.catplot(x='Sex', y='Survived', hue='Pclass', kind='point', data=train_data)"
      ],
      "execution_count": 22,
      "outputs": [
        {
          "output_type": "execute_result",
          "data": {
            "text/plain": [
              "<seaborn.axisgrid.FacetGrid at 0x7f77998e4b38>"
            ]
          },
          "metadata": {
            "tags": []
          },
          "execution_count": 22
        },
        {
          "output_type": "display_data",
          "data": {
            "image/png": "[encoded data removed]",
            "text/plain": [
              "<Figure size 402.375x360 with 1 Axes>"
            ]
          },
          "metadata": {
            "tags": [],
            "needs_background": "light"
          }
        }
      ]
    },
    {
      "cell_type": "markdown",
      "metadata": {
        "id": "XJBI0mnUXw-w",
        "colab_type": "text"
      },
      "source": [
        "**Which places of embark have the most survivors? Comparing gender**\n",
        "\n",
        "It seems passengers that embarked in *Cherbourg (C)* have a slightly higher survival rate, both male and female. The same may not be true for the other two places of embark."
      ]
    },
    {
      "cell_type": "code",
      "metadata": {
        "id": "YmChMTYIXwe8",
        "colab_type": "code",
        "colab": {
          "base_uri": "https://localhost:8080/",
          "height": 387
        },
        "outputId": "6027040e-d62d-4695-c7c3-8f72a389c35d"
      },
      "source": [
        "sns.catplot(x='Sex', y='Survived', hue='Embarked', kind='bar', data=train_data)"
      ],
      "execution_count": 23,
      "outputs": [
        {
          "output_type": "execute_result",
          "data": {
            "text/plain": [
              "<seaborn.axisgrid.FacetGrid at 0x7f77998e4e80>"
            ]
          },
          "metadata": {
            "tags": []
          },
          "execution_count": 23
        },
        {
          "output_type": "display_data",
          "data": {
            "image/png": "[encoded data removed]",
            "text/plain": [
              "<Figure size 418.25x360 with 1 Axes>"
            ]
          },
          "metadata": {
            "tags": [],
            "needs_background": "light"
          }
        }
      ]
    },
    {
      "cell_type": "markdown",
      "metadata": {
        "id": "IsXXrcWe6gzo",
        "colab_type": "text"
      },
      "source": [
        "**Does family size has any impact on the survival chances? Comparing gender**\n",
        "\n",
        "In both plots smaller families had a considerable higher survival rate compared to bigger ones."
      ]
    },
    {
      "cell_type": "code",
      "metadata": {
        "id": "DEO8W3k96eHG",
        "colab_type": "code",
        "colab": {
          "base_uri": "https://localhost:8080/",
          "height": 739
        },
        "outputId": "23625892-2d03-4f93-e6e9-7a9da9706c51"
      },
      "source": [
        "sns.catplot(x='Parch', y='Survived', hue='Sex', kind='point', data=train_data)\n",
        "sns.catplot(x='SibSp', y='Survived', hue='Sex', kind='point', data=train_data)"
      ],
      "execution_count": 24,
      "outputs": [
        {
          "output_type": "execute_result",
          "data": {
            "text/plain": [
              "<seaborn.axisgrid.FacetGrid at 0x7f77999cbd68>"
            ]
          },
          "metadata": {
            "tags": []
          },
          "execution_count": 24
        },
        {
          "output_type": "display_data",
          "data": {
            "image/png": "[encoded data removed]",
            "text/plain": [
              "<Figure size 430.5x360 with 1 Axes>"
            ]
          },
          "metadata": {
            "tags": [],
            "needs_background": "light"
          }
        },
        {
          "output_type": "display_data",
          "data": {
            "image/png": "[encoded data removed]",
            "text/plain": [
              "<Figure size 430.5x360 with 1 Axes>"
            ]
          },
          "metadata": {
            "tags": [],
            "needs_background": "light"
          }
        }
      ]
    },
    {
      "cell_type": "markdown",
      "metadata": {
        "id": "B9A_oSJG0YZO",
        "colab_type": "text"
      },
      "source": [
        "**Which age group range have the most survivors? Comparing gender**"
      ]
    },
    {
      "cell_type": "code",
      "metadata": {
        "id": "7jmr0VoBu64M",
        "colab_type": "code",
        "colab": {
          "base_uri": "https://localhost:8080/",
          "height": 297
        },
        "outputId": "83f7cc2e-f66b-4c50-c2eb-d291f8c7e035"
      },
      "source": [
        "sns.violinplot(x='Sex', y='Age', hue='Survived', data=train_data)"
      ],
      "execution_count": 25,
      "outputs": [
        {
          "output_type": "execute_result",
          "data": {
            "text/plain": [
              "<matplotlib.axes._subplots.AxesSubplot at 0x7f779961dbe0>"
            ]
          },
          "metadata": {
            "tags": []
          },
          "execution_count": 25
        },
        {
          "output_type": "display_data",
          "data": {
            "image/png": "[encoded data removed]",
            "text/plain": [
              "<Figure size 432x288 with 1 Axes>"
            ]
          },
          "metadata": {
            "tags": [],
            "needs_background": "light"
          }
        }
      ]
    },
    {
      "cell_type": "markdown",
      "metadata": {
        "id": "cYiyyjPr1anR",
        "colab_type": "text"
      },
      "source": [
        "**What is the distribution of passengers in terms of *Sex*, *Pclass*, *Embarked* place and *Age*?**"
      ]
    },
    {
      "cell_type": "code",
      "metadata": {
        "id": "1K27YP7qx1mV",
        "colab_type": "code",
        "colab": {
          "base_uri": "https://localhost:8080/",
          "height": 387
        },
        "outputId": "f06f3b9e-a930-4980-a9ac-33aabfa987ed"
      },
      "source": [
        "sns.catplot(x='Pclass', y='Age', hue='Sex', kind='swarm', data=train_data)"
      ],
      "execution_count": 26,
      "outputs": [
        {
          "output_type": "execute_result",
          "data": {
            "text/plain": [
              "<seaborn.axisgrid.FacetGrid at 0x7f779959d940>"
            ]
          },
          "metadata": {
            "tags": []
          },
          "execution_count": 26
        },
        {
          "output_type": "display_data",
          "data": {
            "image/png": "[encoded data removed]",
            "text/plain": [
              "<Figure size 430.5x360 with 1 Axes>"
            ]
          },
          "metadata": {
            "tags": [],
            "needs_background": "light"
          }
        }
      ]
    },
    {
      "cell_type": "code",
      "metadata": {
        "id": "GgxcCSBuuoxb",
        "colab_type": "code",
        "colab": {
          "base_uri": "https://localhost:8080/",
          "height": 739
        },
        "outputId": "2eae22c2-2d34-4e2d-936b-f0b23741d412"
      },
      "source": [
        "sns.catplot(x='Embarked', y='Age', hue='Sex', kind='swarm', data=train_data)\n",
        "sns.catplot(x='Embarked', y='Age', hue='Pclass', kind='swarm', data=train_data)"
      ],
      "execution_count": 27,
      "outputs": [
        {
          "output_type": "execute_result",
          "data": {
            "text/plain": [
              "<seaborn.axisgrid.FacetGrid at 0x7f77995f8f98>"
            ]
          },
          "metadata": {
            "tags": []
          },
          "execution_count": 27
        },
        {
          "output_type": "display_data",
          "data": {
            "image/png": "[encoded data removed]",
            "text/plain": [
              "<Figure size 430.5x360 with 1 Axes>"
            ]
          },
          "metadata": {
            "tags": [],
            "needs_background": "light"
          }
        },
        {
          "output_type": "display_data",
          "data": {
            "image/png": "[encoded data removed]",
            "text/plain": [
              "<Figure size 402.375x360 with 1 Axes>"
            ]
          },
          "metadata": {
            "tags": [],
            "needs_background": "light"
          }
        }
      ]
    },
    {
      "cell_type": "markdown",
      "metadata": {
        "id": "lmnK2JP52GdO",
        "colab_type": "text"
      },
      "source": [
        "**What is the likelyhood of survival by *Fare* price?**"
      ]
    },
    {
      "cell_type": "code",
      "metadata": {
        "id": "NLTcNSWdvkDM",
        "colab_type": "code",
        "colab": {
          "base_uri": "https://localhost:8080/",
          "height": 1000
        },
        "outputId": "08f5a9a6-5283-4198-92bd-eca5e15c7a12"
      },
      "source": [
        "sns.catplot(x='Sex', y='Fare', hue='Survived', kind='boxen', data=train_data)\n",
        "sns.catplot(x='Pclass', y='Fare', hue='Survived', kind='boxen', data=train_data)\n",
        "sns.catplot(x='Embarked', y='Fare', hue='Survived', kind='boxen', data=train_data)"
      ],
      "execution_count": 28,
      "outputs": [
        {
          "output_type": "execute_result",
          "data": {
            "text/plain": [
              "<seaborn.axisgrid.FacetGrid at 0x7f7799618080>"
            ]
          },
          "metadata": {
            "tags": []
          },
          "execution_count": 28
        },
        {
          "output_type": "display_data",
          "data": {
            "image/png": "[encoded data removed]",
            "text/plain": [
              "<Figure size 411.875x360 with 1 Axes>"
            ]
          },
          "metadata": {
            "tags": [],
            "needs_background": "light"
          }
        },
        {
          "output_type": "display_data",
          "data": {
            "image/png": "[encoded data removed]",
            "text/plain": [
              "<Figure size 411.875x360 with 1 Axes>"
            ]
          },
          "metadata": {
            "tags": [],
            "needs_background": "light"
          }
        },
        {
          "output_type": "display_data",
          "data": {
            "image/png": "[encoded data removed]",
            "text/plain": [
              "<Figure size 411.875x360 with 1 Axes>"
            ]
          },
          "metadata": {
            "tags": [],
            "needs_background": "light"
          }
        }
      ]
    },
    {
      "cell_type": "markdown",
      "metadata": {
        "id": "gt5qLnMl2VyI",
        "colab_type": "text"
      },
      "source": [
        "Finally, we combine *Fare*, *Age* and *Pclass* to observe the distribution of survivors."
      ]
    },
    {
      "cell_type": "code",
      "metadata": {
        "id": "KAzP_Ijrw9Qc",
        "colab_type": "code",
        "colab": {
          "base_uri": "https://localhost:8080/",
          "height": 387
        },
        "outputId": "e903350c-8fb9-4fa8-cbe2-a95464bd0c78"
      },
      "source": [
        "sns.relplot(x='Age', y='Fare', hue='Survived', size='Pclass', data=train_data)"
      ],
      "execution_count": 29,
      "outputs": [
        {
          "output_type": "execute_result",
          "data": {
            "text/plain": [
              "<seaborn.axisgrid.FacetGrid at 0x7f779951d3c8>"
            ]
          },
          "metadata": {
            "tags": []
          },
          "execution_count": 29
        },
        {
          "output_type": "display_data",
          "data": {
            "image/png": "[encoded data removed]",
            "text/plain": [
              "<Figure size 439.875x360 with 1 Axes>"
            ]
          },
          "metadata": {
            "tags": [],
            "needs_background": "light"
          }
        }
      ]
    },
    {
      "cell_type": "markdown",
      "metadata": {
        "id": "w17WqOyWyqOx",
        "colab_type": "text"
      },
      "source": [
        "## Feature engineering"
      ]
    },
    {
      "cell_type": "markdown",
      "metadata": {
        "id": "xKT-kWM1yWYA",
        "colab_type": "text"
      },
      "source": [
        "### Handling missing values"
      ]
    },
    {
      "cell_type": "markdown",
      "metadata": {
        "id": "R1hi9FFO9a4K",
        "colab_type": "text"
      },
      "source": [
        "To recap, we have 4 features with missing values: *Cabin*, *Age*, *Embarked* and *Fare*."
      ]
    },
    {
      "cell_type": "code",
      "metadata": {
        "id": "39KA0lOP90t_",
        "colab_type": "code",
        "colab": {}
      },
      "source": [
        "features_na = ['Cabin', 'Age', 'Embarked', 'Fare']"
      ],
      "execution_count": 30,
      "outputs": []
    },
    {
      "cell_type": "markdown",
      "metadata": {
        "id": "s6eSi0UU-bKz",
        "colab_type": "text"
      },
      "source": [
        "We will concatenate the training and testing data this time, to cover all the data, because we want to calculate the descriptive statistics values. We will use these values to fill in some of the missing information."
      ]
    },
    {
      "cell_type": "code",
      "metadata": {
        "id": "IMdDGKKC80RO",
        "colab_type": "code",
        "colab": {}
      },
      "source": [
        "# We calculate the values and apply the tranpose to invert the rows/columns for easier manipulation\n",
        "train_data_stats = train_data.describe().T\n",
        "test_data_stats = test_data.describe().T"
      ],
      "execution_count": 31,
      "outputs": []
    },
    {
      "cell_type": "code",
      "metadata": {
        "id": "TMhb8UAP9CyM",
        "colab_type": "code",
        "colab": {
          "base_uri": "https://localhost:8080/",
          "height": 206
        },
        "outputId": "5b04a8e3-ad68-40c0-8b99-cc96a6e08c0f"
      },
      "source": [
        "train_data_stats.head()"
      ],
      "execution_count": 32,
      "outputs": [
        {
          "output_type": "execute_result",
          "data": {
            "text/html": [
              "<div>\n",
              "<style scoped>\n",
              "    .dataframe tbody tr th:only-of-type {\n",
              "        vertical-align: middle;\n",
              "    }\n",
              "\n",
              "    .dataframe tbody tr th {\n",
              "        vertical-align: top;\n",
              "    }\n",
              "\n",
              "    .dataframe thead th {\n",
              "        text-align: right;\n",
              "    }\n",
              "</style>\n",
              "<table border=\"1\" class=\"dataframe\">\n",
              "  <thead>\n",
              "    <tr style=\"text-align: right;\">\n",
              "      <th></th>\n",
              "      <th>count</th>\n",
              "      <th>mean</th>\n",
              "      <th>std</th>\n",
              "      <th>min</th>\n",
              "      <th>25%</th>\n",
              "      <th>50%</th>\n",
              "      <th>75%</th>\n",
              "      <th>max</th>\n",
              "    </tr>\n",
              "  </thead>\n",
              "  <tbody>\n",
              "    <tr>\n",
              "      <th>PassengerId</th>\n",
              "      <td>891.0</td>\n",
              "      <td>446.000000</td>\n",
              "      <td>257.353842</td>\n",
              "      <td>1.00</td>\n",
              "      <td>223.500</td>\n",
              "      <td>446.0</td>\n",
              "      <td>668.5</td>\n",
              "      <td>891.0</td>\n",
              "    </tr>\n",
              "    <tr>\n",
              "      <th>Survived</th>\n",
              "      <td>891.0</td>\n",
              "      <td>0.383838</td>\n",
              "      <td>0.486592</td>\n",
              "      <td>0.00</td>\n",
              "      <td>0.000</td>\n",
              "      <td>0.0</td>\n",
              "      <td>1.0</td>\n",
              "      <td>1.0</td>\n",
              "    </tr>\n",
              "    <tr>\n",
              "      <th>Pclass</th>\n",
              "      <td>891.0</td>\n",
              "      <td>2.308642</td>\n",
              "      <td>0.836071</td>\n",
              "      <td>1.00</td>\n",
              "      <td>2.000</td>\n",
              "      <td>3.0</td>\n",
              "      <td>3.0</td>\n",
              "      <td>3.0</td>\n",
              "    </tr>\n",
              "    <tr>\n",
              "      <th>Age</th>\n",
              "      <td>714.0</td>\n",
              "      <td>29.699118</td>\n",
              "      <td>14.526497</td>\n",
              "      <td>0.42</td>\n",
              "      <td>20.125</td>\n",
              "      <td>28.0</td>\n",
              "      <td>38.0</td>\n",
              "      <td>80.0</td>\n",
              "    </tr>\n",
              "    <tr>\n",
              "      <th>SibSp</th>\n",
              "      <td>891.0</td>\n",
              "      <td>0.523008</td>\n",
              "      <td>1.102743</td>\n",
              "      <td>0.00</td>\n",
              "      <td>0.000</td>\n",
              "      <td>0.0</td>\n",
              "      <td>1.0</td>\n",
              "      <td>8.0</td>\n",
              "    </tr>\n",
              "  </tbody>\n",
              "</table>\n",
              "</div>"
            ],
            "text/plain": [
              "             count        mean         std   min      25%    50%    75%    max\n",
              "PassengerId  891.0  446.000000  257.353842  1.00  223.500  446.0  668.5  891.0\n",
              "Survived     891.0    0.383838    0.486592  0.00    0.000    0.0    1.0    1.0\n",
              "Pclass       891.0    2.308642    0.836071  1.00    2.000    3.0    3.0    3.0\n",
              "Age          714.0   29.699118   14.526497  0.42   20.125   28.0   38.0   80.0\n",
              "SibSp        891.0    0.523008    1.102743  0.00    0.000    0.0    1.0    8.0"
            ]
          },
          "metadata": {
            "tags": []
          },
          "execution_count": 32
        }
      ]
    },
    {
      "cell_type": "code",
      "metadata": {
        "id": "MDFNb3pN5G4D",
        "colab_type": "code",
        "colab": {
          "base_uri": "https://localhost:8080/",
          "height": 206
        },
        "outputId": "25fd5739-e465-439e-db1c-ddc55e1e694e"
      },
      "source": [
        "test_data_stats.head()"
      ],
      "execution_count": 33,
      "outputs": [
        {
          "output_type": "execute_result",
          "data": {
            "text/html": [
              "<div>\n",
              "<style scoped>\n",
              "    .dataframe tbody tr th:only-of-type {\n",
              "        vertical-align: middle;\n",
              "    }\n",
              "\n",
              "    .dataframe tbody tr th {\n",
              "        vertical-align: top;\n",
              "    }\n",
              "\n",
              "    .dataframe thead th {\n",
              "        text-align: right;\n",
              "    }\n",
              "</style>\n",
              "<table border=\"1\" class=\"dataframe\">\n",
              "  <thead>\n",
              "    <tr style=\"text-align: right;\">\n",
              "      <th></th>\n",
              "      <th>count</th>\n",
              "      <th>mean</th>\n",
              "      <th>std</th>\n",
              "      <th>min</th>\n",
              "      <th>25%</th>\n",
              "      <th>50%</th>\n",
              "      <th>75%</th>\n",
              "      <th>max</th>\n",
              "    </tr>\n",
              "  </thead>\n",
              "  <tbody>\n",
              "    <tr>\n",
              "      <th>PassengerId</th>\n",
              "      <td>418.0</td>\n",
              "      <td>1100.500000</td>\n",
              "      <td>120.810458</td>\n",
              "      <td>892.00</td>\n",
              "      <td>996.25</td>\n",
              "      <td>1100.5</td>\n",
              "      <td>1204.75</td>\n",
              "      <td>1309.0</td>\n",
              "    </tr>\n",
              "    <tr>\n",
              "      <th>Pclass</th>\n",
              "      <td>418.0</td>\n",
              "      <td>2.265550</td>\n",
              "      <td>0.841838</td>\n",
              "      <td>1.00</td>\n",
              "      <td>1.00</td>\n",
              "      <td>3.0</td>\n",
              "      <td>3.00</td>\n",
              "      <td>3.0</td>\n",
              "    </tr>\n",
              "    <tr>\n",
              "      <th>Age</th>\n",
              "      <td>332.0</td>\n",
              "      <td>30.272590</td>\n",
              "      <td>14.181209</td>\n",
              "      <td>0.17</td>\n",
              "      <td>21.00</td>\n",
              "      <td>27.0</td>\n",
              "      <td>39.00</td>\n",
              "      <td>76.0</td>\n",
              "    </tr>\n",
              "    <tr>\n",
              "      <th>SibSp</th>\n",
              "      <td>418.0</td>\n",
              "      <td>0.447368</td>\n",
              "      <td>0.896760</td>\n",
              "      <td>0.00</td>\n",
              "      <td>0.00</td>\n",
              "      <td>0.0</td>\n",
              "      <td>1.00</td>\n",
              "      <td>8.0</td>\n",
              "    </tr>\n",
              "    <tr>\n",
              "      <th>Parch</th>\n",
              "      <td>418.0</td>\n",
              "      <td>0.392344</td>\n",
              "      <td>0.981429</td>\n",
              "      <td>0.00</td>\n",
              "      <td>0.00</td>\n",
              "      <td>0.0</td>\n",
              "      <td>0.00</td>\n",
              "      <td>9.0</td>\n",
              "    </tr>\n",
              "  </tbody>\n",
              "</table>\n",
              "</div>"
            ],
            "text/plain": [
              "             count         mean         std  ...     50%      75%     max\n",
              "PassengerId  418.0  1100.500000  120.810458  ...  1100.5  1204.75  1309.0\n",
              "Pclass       418.0     2.265550    0.841838  ...     3.0     3.00     3.0\n",
              "Age          332.0    30.272590   14.181209  ...    27.0    39.00    76.0\n",
              "SibSp        418.0     0.447368    0.896760  ...     0.0     1.00     8.0\n",
              "Parch        418.0     0.392344    0.981429  ...     0.0     0.00     9.0\n",
              "\n",
              "[5 rows x 8 columns]"
            ]
          },
          "metadata": {
            "tags": []
          },
          "execution_count": 33
        }
      ]
    },
    {
      "cell_type": "markdown",
      "metadata": {
        "id": "Bc6PoSb9cowW",
        "colab_type": "text"
      },
      "source": [
        "We will create an age distribution in order to fill in the missing age values. For the *Cabin* feature we will assign a value *N* and for the *Embarked* feature because there are only a few, we will assume the most common value."
      ]
    },
    {
      "cell_type": "code",
      "metadata": {
        "id": "QFT0Ck_v_4-N",
        "colab_type": "code",
        "colab": {}
      },
      "source": [
        "def age_dist(df, stats):\n",
        "  return np.random.randint(stats.at['Age', 'mean'] - stats.at['Age', 'std'],\n",
        "                           stats.at['Age', 'mean'] + stats.at['Age', 'std'],\n",
        "                           size=df['Age'].isna().sum())\n",
        "\n",
        "\n",
        "train_data['Cabin'] = train_data['Cabin'].fillna('N')\n",
        "\n",
        "train_data['Embarked'] = train_data['Embarked'].fillna(train_data['Embarked'].mode()[0])\n",
        "\n",
        "train_data['Age'][train_data['Age'].isna()] = age_dist(train_data, train_data_stats)"
      ],
      "execution_count": 34,
      "outputs": []
    },
    {
      "cell_type": "code",
      "metadata": {
        "id": "jz9KDbC-CL82",
        "colab_type": "code",
        "colab": {
          "base_uri": "https://localhost:8080/",
          "height": 256
        },
        "outputId": "d1852edd-4121-4a16-ea70-5c9731f3a3d1"
      },
      "source": [
        "train_data.isna().sum()"
      ],
      "execution_count": 35,
      "outputs": [
        {
          "output_type": "execute_result",
          "data": {
            "text/plain": [
              "PassengerId    0\n",
              "Survived       0\n",
              "Pclass         0\n",
              "Name           0\n",
              "Sex            0\n",
              "Age            0\n",
              "SibSp          0\n",
              "Parch          0\n",
              "Ticket         0\n",
              "Fare           0\n",
              "Cabin          0\n",
              "Embarked       0\n",
              "dtype: int64"
            ]
          },
          "metadata": {
            "tags": []
          },
          "execution_count": 35
        }
      ]
    },
    {
      "cell_type": "code",
      "metadata": {
        "id": "M5dKNk-4ELUs",
        "colab_type": "code",
        "colab": {
          "base_uri": "https://localhost:8080/",
          "height": 81
        },
        "outputId": "ffbc161c-da74-4353-c38c-b171ea82173a"
      },
      "source": [
        "test_data[test_data['Fare'].isna()]"
      ],
      "execution_count": 36,
      "outputs": [
        {
          "output_type": "execute_result",
          "data": {
            "text/html": [
              "<div>\n",
              "<style scoped>\n",
              "    .dataframe tbody tr th:only-of-type {\n",
              "        vertical-align: middle;\n",
              "    }\n",
              "\n",
              "    .dataframe tbody tr th {\n",
              "        vertical-align: top;\n",
              "    }\n",
              "\n",
              "    .dataframe thead th {\n",
              "        text-align: right;\n",
              "    }\n",
              "</style>\n",
              "<table border=\"1\" class=\"dataframe\">\n",
              "  <thead>\n",
              "    <tr style=\"text-align: right;\">\n",
              "      <th></th>\n",
              "      <th>PassengerId</th>\n",
              "      <th>Pclass</th>\n",
              "      <th>Name</th>\n",
              "      <th>Sex</th>\n",
              "      <th>Age</th>\n",
              "      <th>SibSp</th>\n",
              "      <th>Parch</th>\n",
              "      <th>Ticket</th>\n",
              "      <th>Fare</th>\n",
              "      <th>Cabin</th>\n",
              "      <th>Embarked</th>\n",
              "    </tr>\n",
              "  </thead>\n",
              "  <tbody>\n",
              "    <tr>\n",
              "      <th>152</th>\n",
              "      <td>1044</td>\n",
              "      <td>3</td>\n",
              "      <td>Storey, Mr. Thomas</td>\n",
              "      <td>male</td>\n",
              "      <td>60.5</td>\n",
              "      <td>0</td>\n",
              "      <td>0</td>\n",
              "      <td>3701</td>\n",
              "      <td>NaN</td>\n",
              "      <td>NaN</td>\n",
              "      <td>S</td>\n",
              "    </tr>\n",
              "  </tbody>\n",
              "</table>\n",
              "</div>"
            ],
            "text/plain": [
              "     PassengerId  Pclass                Name   Sex  ...  Ticket  Fare  Cabin Embarked\n",
              "152         1044       3  Storey, Mr. Thomas  male  ...    3701   NaN    NaN        S\n",
              "\n",
              "[1 rows x 11 columns]"
            ]
          },
          "metadata": {
            "tags": []
          },
          "execution_count": 36
        }
      ]
    },
    {
      "cell_type": "markdown",
      "metadata": {
        "id": "yuw3eUpfdbbU",
        "colab_type": "text"
      },
      "source": [
        "To fill in the missing *Fare* value we will look at the median fare cost for the class of this specific passenger."
      ]
    },
    {
      "cell_type": "code",
      "metadata": {
        "id": "CQvRBZgmEbxE",
        "colab_type": "code",
        "colab": {
          "base_uri": "https://localhost:8080/",
          "height": 300
        },
        "outputId": "c03d6bdc-0dee-4aed-c5f0-487e3a99cfcb"
      },
      "source": [
        "train_data[train_data['Pclass'] == 3].describe()"
      ],
      "execution_count": 37,
      "outputs": [
        {
          "output_type": "execute_result",
          "data": {
            "text/html": [
              "<div>\n",
              "<style scoped>\n",
              "    .dataframe tbody tr th:only-of-type {\n",
              "        vertical-align: middle;\n",
              "    }\n",
              "\n",
              "    .dataframe tbody tr th {\n",
              "        vertical-align: top;\n",
              "    }\n",
              "\n",
              "    .dataframe thead th {\n",
              "        text-align: right;\n",
              "    }\n",
              "</style>\n",
              "<table border=\"1\" class=\"dataframe\">\n",
              "  <thead>\n",
              "    <tr style=\"text-align: right;\">\n",
              "      <th></th>\n",
              "      <th>PassengerId</th>\n",
              "      <th>Survived</th>\n",
              "      <th>Pclass</th>\n",
              "      <th>Age</th>\n",
              "      <th>SibSp</th>\n",
              "      <th>Parch</th>\n",
              "      <th>Fare</th>\n",
              "    </tr>\n",
              "  </thead>\n",
              "  <tbody>\n",
              "    <tr>\n",
              "      <th>count</th>\n",
              "      <td>491.000000</td>\n",
              "      <td>491.000000</td>\n",
              "      <td>491.0</td>\n",
              "      <td>491.000000</td>\n",
              "      <td>491.000000</td>\n",
              "      <td>491.000000</td>\n",
              "      <td>491.000000</td>\n",
              "    </tr>\n",
              "    <tr>\n",
              "      <th>mean</th>\n",
              "      <td>439.154786</td>\n",
              "      <td>0.242363</td>\n",
              "      <td>3.0</td>\n",
              "      <td>26.352179</td>\n",
              "      <td>0.615071</td>\n",
              "      <td>0.393075</td>\n",
              "      <td>13.675550</td>\n",
              "    </tr>\n",
              "    <tr>\n",
              "      <th>std</th>\n",
              "      <td>264.441453</td>\n",
              "      <td>0.428949</td>\n",
              "      <td>0.0</td>\n",
              "      <td>11.699561</td>\n",
              "      <td>1.374883</td>\n",
              "      <td>0.888861</td>\n",
              "      <td>11.778142</td>\n",
              "    </tr>\n",
              "    <tr>\n",
              "      <th>min</th>\n",
              "      <td>1.000000</td>\n",
              "      <td>0.000000</td>\n",
              "      <td>3.0</td>\n",
              "      <td>0.420000</td>\n",
              "      <td>0.000000</td>\n",
              "      <td>0.000000</td>\n",
              "      <td>0.000000</td>\n",
              "    </tr>\n",
              "    <tr>\n",
              "      <th>25%</th>\n",
              "      <td>200.000000</td>\n",
              "      <td>0.000000</td>\n",
              "      <td>3.0</td>\n",
              "      <td>19.000000</td>\n",
              "      <td>0.000000</td>\n",
              "      <td>0.000000</td>\n",
              "      <td>7.750000</td>\n",
              "    </tr>\n",
              "    <tr>\n",
              "      <th>50%</th>\n",
              "      <td>432.000000</td>\n",
              "      <td>0.000000</td>\n",
              "      <td>3.0</td>\n",
              "      <td>26.000000</td>\n",
              "      <td>0.000000</td>\n",
              "      <td>0.000000</td>\n",
              "      <td>8.050000</td>\n",
              "    </tr>\n",
              "    <tr>\n",
              "      <th>75%</th>\n",
              "      <td>666.500000</td>\n",
              "      <td>0.000000</td>\n",
              "      <td>3.0</td>\n",
              "      <td>33.000000</td>\n",
              "      <td>1.000000</td>\n",
              "      <td>0.000000</td>\n",
              "      <td>15.500000</td>\n",
              "    </tr>\n",
              "    <tr>\n",
              "      <th>max</th>\n",
              "      <td>891.000000</td>\n",
              "      <td>1.000000</td>\n",
              "      <td>3.0</td>\n",
              "      <td>74.000000</td>\n",
              "      <td>8.000000</td>\n",
              "      <td>6.000000</td>\n",
              "      <td>69.550000</td>\n",
              "    </tr>\n",
              "  </tbody>\n",
              "</table>\n",
              "</div>"
            ],
            "text/plain": [
              "       PassengerId    Survived  Pclass  ...       SibSp       Parch        Fare\n",
              "count   491.000000  491.000000   491.0  ...  491.000000  491.000000  491.000000\n",
              "mean    439.154786    0.242363     3.0  ...    0.615071    0.393075   13.675550\n",
              "std     264.441453    0.428949     0.0  ...    1.374883    0.888861   11.778142\n",
              "min       1.000000    0.000000     3.0  ...    0.000000    0.000000    0.000000\n",
              "25%     200.000000    0.000000     3.0  ...    0.000000    0.000000    7.750000\n",
              "50%     432.000000    0.000000     3.0  ...    0.000000    0.000000    8.050000\n",
              "75%     666.500000    0.000000     3.0  ...    1.000000    0.000000   15.500000\n",
              "max     891.000000    1.000000     3.0  ...    8.000000    6.000000   69.550000\n",
              "\n",
              "[8 rows x 7 columns]"
            ]
          },
          "metadata": {
            "tags": []
          },
          "execution_count": 37
        }
      ]
    },
    {
      "cell_type": "code",
      "metadata": {
        "id": "ZrDnjsK6Cp4h",
        "colab_type": "code",
        "colab": {}
      },
      "source": [
        "test_data['Cabin'] = test_data['Cabin'].fillna('N')\n",
        "\n",
        "test_data['Fare'] = test_data['Fare'].fillna(test_data[test_data['Pclass'] == 3]['Fare'].median())\n",
        "\n",
        "test_data['Age'][test_data['Age'].isna()] = age_dist(test_data, test_data_stats)"
      ],
      "execution_count": 38,
      "outputs": []
    },
    {
      "cell_type": "code",
      "metadata": {
        "id": "Ifh3JFL8C3lE",
        "colab_type": "code",
        "colab": {
          "base_uri": "https://localhost:8080/",
          "height": 237
        },
        "outputId": "7bc2977e-a7d1-4385-85a6-185a89426c89"
      },
      "source": [
        "test_data.isna().sum()"
      ],
      "execution_count": 39,
      "outputs": [
        {
          "output_type": "execute_result",
          "data": {
            "text/plain": [
              "PassengerId    0\n",
              "Pclass         0\n",
              "Name           0\n",
              "Sex            0\n",
              "Age            0\n",
              "SibSp          0\n",
              "Parch          0\n",
              "Ticket         0\n",
              "Fare           0\n",
              "Cabin          0\n",
              "Embarked       0\n",
              "dtype: int64"
            ]
          },
          "metadata": {
            "tags": []
          },
          "execution_count": 39
        }
      ]
    },
    {
      "cell_type": "markdown",
      "metadata": {
        "id": "TyvNPdZoExSi",
        "colab_type": "text"
      },
      "source": [
        "We will transform the *Fare* and *Age* features into group bins."
      ]
    },
    {
      "cell_type": "code",
      "metadata": {
        "id": "UDnd9kuHDwEU",
        "colab_type": "code",
        "colab": {
          "base_uri": "https://localhost:8080/",
          "height": 72
        },
        "outputId": "740cf601-df8e-4cca-9874-3e2163a4268d"
      },
      "source": [
        "pd.cut(train_data['Age'].astype(int), 5).cat.categories"
      ],
      "execution_count": 40,
      "outputs": [
        {
          "output_type": "execute_result",
          "data": {
            "text/plain": [
              "IntervalIndex([(-0.08, 16.0], (16.0, 32.0], (32.0, 48.0], (48.0, 64.0], (64.0, 80.0]],\n",
              "              closed='right',\n",
              "              dtype='interval[float64]')"
            ]
          },
          "metadata": {
            "tags": []
          },
          "execution_count": 40
        }
      ]
    },
    {
      "cell_type": "code",
      "metadata": {
        "id": "S1nQgo_FDwj5",
        "colab_type": "code",
        "colab": {
          "base_uri": "https://localhost:8080/",
          "height": 72
        },
        "outputId": "799413ae-3974-413f-a4d1-b8214674a2fa"
      },
      "source": [
        "pd.qcut(train_data['Fare'], 4).cat.categories"
      ],
      "execution_count": 41,
      "outputs": [
        {
          "output_type": "execute_result",
          "data": {
            "text/plain": [
              "IntervalIndex([(-0.001, 7.91], (7.91, 14.454], (14.454, 31.0], (31.0, 512.329]],\n",
              "              closed='right',\n",
              "              dtype='interval[float64]')"
            ]
          },
          "metadata": {
            "tags": []
          },
          "execution_count": 41
        }
      ]
    },
    {
      "cell_type": "code",
      "metadata": {
        "id": "eO9VBbrkF4PQ",
        "colab_type": "code",
        "colab": {}
      },
      "source": [
        "for df in [train_data, test_data]:\n",
        "  df['FamilySize'] = df['SibSp'] + df['Parch'] + 1\n",
        "\n",
        "  df.loc[ df['Age'] <= 16, 'Age'] = 0\n",
        "  df.loc[(df['Age'] > 16) & (df['Age'] <= 32), 'Age'] = 1\n",
        "  df.loc[(df['Age'] > 32) & (df['Age'] <= 48), 'Age'] = 2\n",
        "  df.loc[(df['Age'] > 48) & (df['Age'] <= 64), 'Age'] = 3\n",
        "  df.loc[df['Age'] > 64, 'Age'] = 4\n",
        "  df['Age'] = df['Age'].astype(int)\n",
        "\n",
        "  df.loc[df['Fare'] <= 7.91, 'Fare'] = 0\n",
        "  df.loc[(df['Fare'] > 7.91) & (df['Fare'] <= 14.454), 'Fare'] = 1\n",
        "  df.loc[(df['Fare'] > 14.454) & (df['Fare'] <= 31), 'Fare'] = 2\n",
        "  df.loc[df['Fare'] > 31, 'Fare'] = 3\n",
        "  df['Fare'] = df['Fare'].astype(int)"
      ],
      "execution_count": 42,
      "outputs": []
    },
    {
      "cell_type": "code",
      "metadata": {
        "id": "rmcnINDhFlOE",
        "colab_type": "code",
        "colab": {
          "base_uri": "https://localhost:8080/",
          "height": 206
        },
        "outputId": "8549c59d-a126-4b8f-ed42-85884955cd9a"
      },
      "source": [
        "train_data.head()"
      ],
      "execution_count": 43,
      "outputs": [
        {
          "output_type": "execute_result",
          "data": {
            "text/html": [
              "<div>\n",
              "<style scoped>\n",
              "    .dataframe tbody tr th:only-of-type {\n",
              "        vertical-align: middle;\n",
              "    }\n",
              "\n",
              "    .dataframe tbody tr th {\n",
              "        vertical-align: top;\n",
              "    }\n",
              "\n",
              "    .dataframe thead th {\n",
              "        text-align: right;\n",
              "    }\n",
              "</style>\n",
              "<table border=\"1\" class=\"dataframe\">\n",
              "  <thead>\n",
              "    <tr style=\"text-align: right;\">\n",
              "      <th></th>\n",
              "      <th>PassengerId</th>\n",
              "      <th>Survived</th>\n",
              "      <th>Pclass</th>\n",
              "      <th>Name</th>\n",
              "      <th>Sex</th>\n",
              "      <th>Age</th>\n",
              "      <th>SibSp</th>\n",
              "      <th>Parch</th>\n",
              "      <th>Ticket</th>\n",
              "      <th>Fare</th>\n",
              "      <th>Cabin</th>\n",
              "      <th>Embarked</th>\n",
              "      <th>FamilySize</th>\n",
              "    </tr>\n",
              "  </thead>\n",
              "  <tbody>\n",
              "    <tr>\n",
              "      <th>0</th>\n",
              "      <td>1</td>\n",
              "      <td>0</td>\n",
              "      <td>3</td>\n",
              "      <td>Braund, Mr. Owen Harris</td>\n",
              "      <td>male</td>\n",
              "      <td>1</td>\n",
              "      <td>1</td>\n",
              "      <td>0</td>\n",
              "      <td>A/5 21171</td>\n",
              "      <td>0</td>\n",
              "      <td>N</td>\n",
              "      <td>S</td>\n",
              "      <td>2</td>\n",
              "    </tr>\n",
              "    <tr>\n",
              "      <th>1</th>\n",
              "      <td>2</td>\n",
              "      <td>1</td>\n",
              "      <td>1</td>\n",
              "      <td>Cumings, Mrs. John Bradley (Florence Briggs Th...</td>\n",
              "      <td>female</td>\n",
              "      <td>2</td>\n",
              "      <td>1</td>\n",
              "      <td>0</td>\n",
              "      <td>PC 17599</td>\n",
              "      <td>3</td>\n",
              "      <td>C85</td>\n",
              "      <td>C</td>\n",
              "      <td>2</td>\n",
              "    </tr>\n",
              "    <tr>\n",
              "      <th>2</th>\n",
              "      <td>3</td>\n",
              "      <td>1</td>\n",
              "      <td>3</td>\n",
              "      <td>Heikkinen, Miss. Laina</td>\n",
              "      <td>female</td>\n",
              "      <td>1</td>\n",
              "      <td>0</td>\n",
              "      <td>0</td>\n",
              "      <td>STON/O2. 3101282</td>\n",
              "      <td>1</td>\n",
              "      <td>N</td>\n",
              "      <td>S</td>\n",
              "      <td>1</td>\n",
              "    </tr>\n",
              "    <tr>\n",
              "      <th>3</th>\n",
              "      <td>4</td>\n",
              "      <td>1</td>\n",
              "      <td>1</td>\n",
              "      <td>Futrelle, Mrs. Jacques Heath (Lily May Peel)</td>\n",
              "      <td>female</td>\n",
              "      <td>2</td>\n",
              "      <td>1</td>\n",
              "      <td>0</td>\n",
              "      <td>113803</td>\n",
              "      <td>3</td>\n",
              "      <td>C123</td>\n",
              "      <td>S</td>\n",
              "      <td>2</td>\n",
              "    </tr>\n",
              "    <tr>\n",
              "      <th>4</th>\n",
              "      <td>5</td>\n",
              "      <td>0</td>\n",
              "      <td>3</td>\n",
              "      <td>Allen, Mr. William Henry</td>\n",
              "      <td>male</td>\n",
              "      <td>2</td>\n",
              "      <td>0</td>\n",
              "      <td>0</td>\n",
              "      <td>373450</td>\n",
              "      <td>1</td>\n",
              "      <td>N</td>\n",
              "      <td>S</td>\n",
              "      <td>1</td>\n",
              "    </tr>\n",
              "  </tbody>\n",
              "</table>\n",
              "</div>"
            ],
            "text/plain": [
              "   PassengerId  Survived  Pclass  ... Cabin Embarked  FamilySize\n",
              "0            1         0       3  ...     N        S           2\n",
              "1            2         1       1  ...   C85        C           2\n",
              "2            3         1       3  ...     N        S           1\n",
              "3            4         1       1  ...  C123        S           2\n",
              "4            5         0       3  ...     N        S           1\n",
              "\n",
              "[5 rows x 13 columns]"
            ]
          },
          "metadata": {
            "tags": []
          },
          "execution_count": 43
        }
      ]
    },
    {
      "cell_type": "markdown",
      "metadata": {
        "id": "hPphEYZWuI-9",
        "colab_type": "text"
      },
      "source": [
        "### Extracting new features\n",
        "\n",
        "**Look for passengers surname, how many families were travelling together? Is there any connection between family members and survival rate?**"
      ]
    },
    {
      "cell_type": "code",
      "metadata": {
        "id": "gLmmzfu_TSLs",
        "colab_type": "code",
        "colab": {}
      },
      "source": [
        "for df in [train_data, test_data]:\n",
        "  df['Surname'] = df['Name'].str.split(',')\n",
        "  df['Surname'] = df['Surname'].apply(lambda x: list(x)[0])\n",
        "  df['Family'] = df.agg('{0[Surname]}:{0[FamilySize]}'.format, axis=1)"
      ],
      "execution_count": 44,
      "outputs": []
    },
    {
      "cell_type": "code",
      "metadata": {
        "id": "lQvKlE2WT4pz",
        "colab_type": "code",
        "colab": {
          "base_uri": "https://localhost:8080/",
          "height": 206
        },
        "outputId": "617da640-7167-43b1-a689-a4ff3802507d"
      },
      "source": [
        "train_data.head()"
      ],
      "execution_count": 45,
      "outputs": [
        {
          "output_type": "execute_result",
          "data": {
            "text/html": [
              "<div>\n",
              "<style scoped>\n",
              "    .dataframe tbody tr th:only-of-type {\n",
              "        vertical-align: middle;\n",
              "    }\n",
              "\n",
              "    .dataframe tbody tr th {\n",
              "        vertical-align: top;\n",
              "    }\n",
              "\n",
              "    .dataframe thead th {\n",
              "        text-align: right;\n",
              "    }\n",
              "</style>\n",
              "<table border=\"1\" class=\"dataframe\">\n",
              "  <thead>\n",
              "    <tr style=\"text-align: right;\">\n",
              "      <th></th>\n",
              "      <th>PassengerId</th>\n",
              "      <th>Survived</th>\n",
              "      <th>Pclass</th>\n",
              "      <th>Name</th>\n",
              "      <th>Sex</th>\n",
              "      <th>Age</th>\n",
              "      <th>SibSp</th>\n",
              "      <th>Parch</th>\n",
              "      <th>Ticket</th>\n",
              "      <th>Fare</th>\n",
              "      <th>Cabin</th>\n",
              "      <th>Embarked</th>\n",
              "      <th>FamilySize</th>\n",
              "      <th>Surname</th>\n",
              "      <th>Family</th>\n",
              "    </tr>\n",
              "  </thead>\n",
              "  <tbody>\n",
              "    <tr>\n",
              "      <th>0</th>\n",
              "      <td>1</td>\n",
              "      <td>0</td>\n",
              "      <td>3</td>\n",
              "      <td>Braund, Mr. Owen Harris</td>\n",
              "      <td>male</td>\n",
              "      <td>1</td>\n",
              "      <td>1</td>\n",
              "      <td>0</td>\n",
              "      <td>A/5 21171</td>\n",
              "      <td>0</td>\n",
              "      <td>N</td>\n",
              "      <td>S</td>\n",
              "      <td>2</td>\n",
              "      <td>Braund</td>\n",
              "      <td>Braund:2</td>\n",
              "    </tr>\n",
              "    <tr>\n",
              "      <th>1</th>\n",
              "      <td>2</td>\n",
              "      <td>1</td>\n",
              "      <td>1</td>\n",
              "      <td>Cumings, Mrs. John Bradley (Florence Briggs Th...</td>\n",
              "      <td>female</td>\n",
              "      <td>2</td>\n",
              "      <td>1</td>\n",
              "      <td>0</td>\n",
              "      <td>PC 17599</td>\n",
              "      <td>3</td>\n",
              "      <td>C85</td>\n",
              "      <td>C</td>\n",
              "      <td>2</td>\n",
              "      <td>Cumings</td>\n",
              "      <td>Cumings:2</td>\n",
              "    </tr>\n",
              "    <tr>\n",
              "      <th>2</th>\n",
              "      <td>3</td>\n",
              "      <td>1</td>\n",
              "      <td>3</td>\n",
              "      <td>Heikkinen, Miss. Laina</td>\n",
              "      <td>female</td>\n",
              "      <td>1</td>\n",
              "      <td>0</td>\n",
              "      <td>0</td>\n",
              "      <td>STON/O2. 3101282</td>\n",
              "      <td>1</td>\n",
              "      <td>N</td>\n",
              "      <td>S</td>\n",
              "      <td>1</td>\n",
              "      <td>Heikkinen</td>\n",
              "      <td>Heikkinen:1</td>\n",
              "    </tr>\n",
              "    <tr>\n",
              "      <th>3</th>\n",
              "      <td>4</td>\n",
              "      <td>1</td>\n",
              "      <td>1</td>\n",
              "      <td>Futrelle, Mrs. Jacques Heath (Lily May Peel)</td>\n",
              "      <td>female</td>\n",
              "      <td>2</td>\n",
              "      <td>1</td>\n",
              "      <td>0</td>\n",
              "      <td>113803</td>\n",
              "      <td>3</td>\n",
              "      <td>C123</td>\n",
              "      <td>S</td>\n",
              "      <td>2</td>\n",
              "      <td>Futrelle</td>\n",
              "      <td>Futrelle:2</td>\n",
              "    </tr>\n",
              "    <tr>\n",
              "      <th>4</th>\n",
              "      <td>5</td>\n",
              "      <td>0</td>\n",
              "      <td>3</td>\n",
              "      <td>Allen, Mr. William Henry</td>\n",
              "      <td>male</td>\n",
              "      <td>2</td>\n",
              "      <td>0</td>\n",
              "      <td>0</td>\n",
              "      <td>373450</td>\n",
              "      <td>1</td>\n",
              "      <td>N</td>\n",
              "      <td>S</td>\n",
              "      <td>1</td>\n",
              "      <td>Allen</td>\n",
              "      <td>Allen:1</td>\n",
              "    </tr>\n",
              "  </tbody>\n",
              "</table>\n",
              "</div>"
            ],
            "text/plain": [
              "   PassengerId  Survived  Pclass  ... FamilySize    Surname       Family\n",
              "0            1         0       3  ...          2     Braund     Braund:2\n",
              "1            2         1       1  ...          2    Cumings    Cumings:2\n",
              "2            3         1       3  ...          1  Heikkinen  Heikkinen:1\n",
              "3            4         1       1  ...          2   Futrelle   Futrelle:2\n",
              "4            5         0       3  ...          1      Allen      Allen:1\n",
              "\n",
              "[5 rows x 15 columns]"
            ]
          },
          "metadata": {
            "tags": []
          },
          "execution_count": 45
        }
      ]
    },
    {
      "cell_type": "markdown",
      "metadata": {
        "id": "yxj31gPGteZx",
        "colab_type": "text"
      },
      "source": [
        "Next, we will look at passengers name and try to infer their title and social status information."
      ]
    },
    {
      "cell_type": "code",
      "metadata": {
        "id": "iNiTkFdaF-9a",
        "colab_type": "code",
        "colab": {}
      },
      "source": [
        "def get_title(name):\n",
        "\ttitle_search = re.search(' ([A-Za-z]+)\\.', name)\n",
        "\t# If the title exists, extract and return it.\n",
        "\tif title_search:\n",
        "\t\treturn title_search.group(1)\n",
        "\treturn ''\n",
        "\n",
        "for df in [train_data, test_data]:\n",
        "  df['Title'] = df['Name'].apply(get_title)\n",
        "  \n",
        "  df['Title'] = df['Title'].replace(['Lady', 'Countess','Capt', 'Col','Don', 'Dr', 'Major', 'Rev', 'Sir', 'Jonkheer', 'Dona'], 'Rare')\n",
        "  df['Title'] = df['Title'].replace('Mlle', 'Miss')\n",
        "  df['Title'] = df['Title'].replace('Ms', 'Miss')\n",
        "  df['Title'] = df['Title'].replace('Mme', 'Mrs')"
      ],
      "execution_count": 46,
      "outputs": []
    },
    {
      "cell_type": "markdown",
      "metadata": {
        "id": "cWivhXs5u59n",
        "colab_type": "text"
      },
      "source": [
        "We can also add information about if the passenger was an adult male and also if the passenger was travelling alone. We saw earlier when visualizing the data that adult males had a lower survival rate."
      ]
    },
    {
      "cell_type": "code",
      "metadata": {
        "id": "pMgaSngFGKms",
        "colab_type": "code",
        "colab": {}
      },
      "source": [
        "for df in [train_data, test_data]:\n",
        "  df['AdultMale'] = ((df['Age'] > 0) & (df['Sex'] == 'male')).astype(int)\n",
        "  # df['Alone'] = (df['FamilySize'] == 1).astype(int)"
      ],
      "execution_count": 47,
      "outputs": []
    },
    {
      "cell_type": "markdown",
      "metadata": {
        "id": "v6W9qHHGgfDk",
        "colab_type": "text"
      },
      "source": [
        "Two features we haven't explore in greater detail are the *Ticket* and *Cabin*. First we can extract the first letter of the existing Cabins and called *Deck*."
      ]
    },
    {
      "cell_type": "code",
      "metadata": {
        "id": "1IocHclrlpQl",
        "colab_type": "code",
        "colab": {}
      },
      "source": [
        "for df in [train_data, test_data]:\n",
        "  df['Deck'] = df['Cabin'].str[0]\n",
        "  df['Cabin_Extra'] = df['Cabin'].str.contains(' ').astype(int)"
      ],
      "execution_count": 48,
      "outputs": []
    },
    {
      "cell_type": "code",
      "metadata": {
        "id": "lfmkccbprtEw",
        "colab_type": "code",
        "colab": {
          "base_uri": "https://localhost:8080/",
          "height": 175
        },
        "outputId": "351c9bca-b37c-47e9-ac9d-7b25c5e98be7"
      },
      "source": [
        "train_data[train_data['Cabin'].str.startswith('F ')]"
      ],
      "execution_count": 49,
      "outputs": [
        {
          "output_type": "execute_result",
          "data": {
            "text/html": [
              "<div>\n",
              "<style scoped>\n",
              "    .dataframe tbody tr th:only-of-type {\n",
              "        vertical-align: middle;\n",
              "    }\n",
              "\n",
              "    .dataframe tbody tr th {\n",
              "        vertical-align: top;\n",
              "    }\n",
              "\n",
              "    .dataframe thead th {\n",
              "        text-align: right;\n",
              "    }\n",
              "</style>\n",
              "<table border=\"1\" class=\"dataframe\">\n",
              "  <thead>\n",
              "    <tr style=\"text-align: right;\">\n",
              "      <th></th>\n",
              "      <th>PassengerId</th>\n",
              "      <th>Survived</th>\n",
              "      <th>Pclass</th>\n",
              "      <th>Name</th>\n",
              "      <th>Sex</th>\n",
              "      <th>Age</th>\n",
              "      <th>SibSp</th>\n",
              "      <th>Parch</th>\n",
              "      <th>Ticket</th>\n",
              "      <th>Fare</th>\n",
              "      <th>Cabin</th>\n",
              "      <th>Embarked</th>\n",
              "      <th>FamilySize</th>\n",
              "      <th>Surname</th>\n",
              "      <th>Family</th>\n",
              "      <th>Title</th>\n",
              "      <th>AdultMale</th>\n",
              "      <th>Deck</th>\n",
              "      <th>Cabin_Extra</th>\n",
              "    </tr>\n",
              "  </thead>\n",
              "  <tbody>\n",
              "    <tr>\n",
              "      <th>75</th>\n",
              "      <td>76</td>\n",
              "      <td>0</td>\n",
              "      <td>3</td>\n",
              "      <td>Moen, Mr. Sigurd Hansen</td>\n",
              "      <td>male</td>\n",
              "      <td>1</td>\n",
              "      <td>0</td>\n",
              "      <td>0</td>\n",
              "      <td>348123</td>\n",
              "      <td>0</td>\n",
              "      <td>F G73</td>\n",
              "      <td>S</td>\n",
              "      <td>1</td>\n",
              "      <td>Moen</td>\n",
              "      <td>Moen:1</td>\n",
              "      <td>Mr</td>\n",
              "      <td>1</td>\n",
              "      <td>F</td>\n",
              "      <td>1</td>\n",
              "    </tr>\n",
              "    <tr>\n",
              "      <th>128</th>\n",
              "      <td>129</td>\n",
              "      <td>1</td>\n",
              "      <td>3</td>\n",
              "      <td>Peter, Miss. Anna</td>\n",
              "      <td>female</td>\n",
              "      <td>0</td>\n",
              "      <td>1</td>\n",
              "      <td>1</td>\n",
              "      <td>2668</td>\n",
              "      <td>2</td>\n",
              "      <td>F E69</td>\n",
              "      <td>C</td>\n",
              "      <td>3</td>\n",
              "      <td>Peter</td>\n",
              "      <td>Peter:3</td>\n",
              "      <td>Miss</td>\n",
              "      <td>0</td>\n",
              "      <td>F</td>\n",
              "      <td>1</td>\n",
              "    </tr>\n",
              "    <tr>\n",
              "      <th>699</th>\n",
              "      <td>700</td>\n",
              "      <td>0</td>\n",
              "      <td>3</td>\n",
              "      <td>Humblen, Mr. Adolf Mathias Nicolai Olsen</td>\n",
              "      <td>male</td>\n",
              "      <td>2</td>\n",
              "      <td>0</td>\n",
              "      <td>0</td>\n",
              "      <td>348121</td>\n",
              "      <td>0</td>\n",
              "      <td>F G63</td>\n",
              "      <td>S</td>\n",
              "      <td>1</td>\n",
              "      <td>Humblen</td>\n",
              "      <td>Humblen:1</td>\n",
              "      <td>Mr</td>\n",
              "      <td>1</td>\n",
              "      <td>F</td>\n",
              "      <td>1</td>\n",
              "    </tr>\n",
              "    <tr>\n",
              "      <th>715</th>\n",
              "      <td>716</td>\n",
              "      <td>0</td>\n",
              "      <td>3</td>\n",
              "      <td>Soholt, Mr. Peter Andreas Lauritz Andersen</td>\n",
              "      <td>male</td>\n",
              "      <td>1</td>\n",
              "      <td>0</td>\n",
              "      <td>0</td>\n",
              "      <td>348124</td>\n",
              "      <td>0</td>\n",
              "      <td>F G73</td>\n",
              "      <td>S</td>\n",
              "      <td>1</td>\n",
              "      <td>Soholt</td>\n",
              "      <td>Soholt:1</td>\n",
              "      <td>Mr</td>\n",
              "      <td>1</td>\n",
              "      <td>F</td>\n",
              "      <td>1</td>\n",
              "    </tr>\n",
              "  </tbody>\n",
              "</table>\n",
              "</div>"
            ],
            "text/plain": [
              "     PassengerId  Survived  Pclass  ... AdultMale Deck  Cabin_Extra\n",
              "75            76         0       3  ...         1    F            1\n",
              "128          129         1       3  ...         0    F            1\n",
              "699          700         0       3  ...         1    F            1\n",
              "715          716         0       3  ...         1    F            1\n",
              "\n",
              "[4 rows x 19 columns]"
            ]
          },
          "metadata": {
            "tags": []
          },
          "execution_count": 49
        }
      ]
    },
    {
      "cell_type": "markdown",
      "metadata": {
        "id": "hG9DTo0PwCNQ",
        "colab_type": "text"
      },
      "source": [
        "**What are the different values for the *Cabin* feature? Does the deck where the passengers were affects survival rate?**"
      ]
    },
    {
      "cell_type": "code",
      "metadata": {
        "id": "gRrgNltxqL-q",
        "colab_type": "code",
        "colab": {
          "base_uri": "https://localhost:8080/",
          "height": 476
        },
        "outputId": "e6e6b9eb-a964-4683-e151-a7de4f5d3297"
      },
      "source": [
        "train_data[train_data['Cabin'] != 'N']['Cabin'].values"
      ],
      "execution_count": 50,
      "outputs": [
        {
          "output_type": "execute_result",
          "data": {
            "text/plain": [
              "array(['C85', 'C123', 'E46', 'G6', 'C103', 'D56', 'A6', 'C23 C25 C27',\n",
              "       'B78', 'D33', 'B30', 'C52', 'B28', 'C83', 'F33', 'F G73',\n",
              "       'C23 C25 C27', 'E31', 'A5', 'D10 D12', 'D26', 'C110', 'B58 B60',\n",
              "       'E101', 'D26', 'F E69', 'D47', 'C123', 'B86', 'F2', 'C2', 'E33',\n",
              "       'B19', 'A7', 'C49', 'F4', 'A32', 'F2', 'B4', 'B80', 'G6', 'A31',\n",
              "       'D36', 'D15', 'C93', 'C83', 'C78', 'D35', 'G6', 'C87', 'B77',\n",
              "       'E67', 'B94', 'C125', 'C99', 'C118', 'D7', 'A19', 'B49', 'D',\n",
              "       'C22 C26', 'C106', 'B58 B60', 'E101', 'C22 C26', 'C65', 'E36',\n",
              "       'C54', 'B57 B59 B63 B66', 'C7', 'E34', 'C32', 'D', 'B18', 'C124',\n",
              "       'C91', 'C2', 'E40', 'T', 'F2', 'C23 C25 C27', 'F33', 'C128', 'E33',\n",
              "       'D37', 'B35', 'E50', 'C82', 'B96 B98', 'D36', 'G6', 'C78', 'E10',\n",
              "       'C52', 'E44', 'B96 B98', 'C23 C25 C27', 'A34', 'C104', 'C111',\n",
              "       'C92', 'E38', 'D21', 'E12', 'E63', 'D', 'A14', 'B49', 'C93', 'B37',\n",
              "       'C30', 'D20', 'C22 C26', 'B79', 'C65', 'E25', 'D46', 'F33', 'B73',\n",
              "       'B18', 'C95', 'B38', 'B39', 'B22', 'C86', 'C70', 'A16', 'E67',\n",
              "       'C101', 'E25', 'E44', 'C68', 'A10', 'E68', 'B41', 'D20', 'A20',\n",
              "       'C125', 'F4', 'D19', 'D50', 'D9', 'A23', 'B50', 'B35', 'D33',\n",
              "       'A26', 'D48', 'E58', 'C126', 'B71', 'B51 B53 B55', 'D49', 'B5',\n",
              "       'B20', 'C68', 'F G63', 'C62 C64', 'E24', 'E24', 'C90', 'C124',\n",
              "       'C126', 'F G73', 'C45', 'E101', 'E8', 'B5', 'B101', 'D45', 'C46',\n",
              "       'B57 B59 B63 B66', 'B22', 'D30', 'E121', 'B77', 'B96 B98', 'D11',\n",
              "       'E77', 'F38', 'B3', 'B20', 'D6', 'B82 B84', 'D17', 'B96 B98',\n",
              "       'A36', 'E8', 'B102', 'B69', 'E121', 'B28', 'E49', 'C47', 'C92',\n",
              "       'D28', 'E17', 'D17', 'A24', 'D35', 'B51 B53 B55', 'C50', 'B42',\n",
              "       'C148'], dtype=object)"
            ]
          },
          "metadata": {
            "tags": []
          },
          "execution_count": 50
        }
      ]
    },
    {
      "cell_type": "code",
      "metadata": {
        "id": "8tYG7W9dl3UG",
        "colab_type": "code",
        "colab": {
          "base_uri": "https://localhost:8080/",
          "height": 363
        },
        "outputId": "7b133bf6-7d69-469a-d3e9-7d0a096ef030"
      },
      "source": [
        "train_data.groupby('Deck')['Survived'].value_counts(normalize=True).unstack()"
      ],
      "execution_count": 51,
      "outputs": [
        {
          "output_type": "execute_result",
          "data": {
            "text/html": [
              "<div>\n",
              "<style scoped>\n",
              "    .dataframe tbody tr th:only-of-type {\n",
              "        vertical-align: middle;\n",
              "    }\n",
              "\n",
              "    .dataframe tbody tr th {\n",
              "        vertical-align: top;\n",
              "    }\n",
              "\n",
              "    .dataframe thead th {\n",
              "        text-align: right;\n",
              "    }\n",
              "</style>\n",
              "<table border=\"1\" class=\"dataframe\">\n",
              "  <thead>\n",
              "    <tr style=\"text-align: right;\">\n",
              "      <th>Survived</th>\n",
              "      <th>0</th>\n",
              "      <th>1</th>\n",
              "    </tr>\n",
              "    <tr>\n",
              "      <th>Deck</th>\n",
              "      <th></th>\n",
              "      <th></th>\n",
              "    </tr>\n",
              "  </thead>\n",
              "  <tbody>\n",
              "    <tr>\n",
              "      <th>A</th>\n",
              "      <td>0.533333</td>\n",
              "      <td>0.466667</td>\n",
              "    </tr>\n",
              "    <tr>\n",
              "      <th>B</th>\n",
              "      <td>0.255319</td>\n",
              "      <td>0.744681</td>\n",
              "    </tr>\n",
              "    <tr>\n",
              "      <th>C</th>\n",
              "      <td>0.406780</td>\n",
              "      <td>0.593220</td>\n",
              "    </tr>\n",
              "    <tr>\n",
              "      <th>D</th>\n",
              "      <td>0.242424</td>\n",
              "      <td>0.757576</td>\n",
              "    </tr>\n",
              "    <tr>\n",
              "      <th>E</th>\n",
              "      <td>0.250000</td>\n",
              "      <td>0.750000</td>\n",
              "    </tr>\n",
              "    <tr>\n",
              "      <th>F</th>\n",
              "      <td>0.384615</td>\n",
              "      <td>0.615385</td>\n",
              "    </tr>\n",
              "    <tr>\n",
              "      <th>G</th>\n",
              "      <td>0.500000</td>\n",
              "      <td>0.500000</td>\n",
              "    </tr>\n",
              "    <tr>\n",
              "      <th>N</th>\n",
              "      <td>0.700146</td>\n",
              "      <td>0.299854</td>\n",
              "    </tr>\n",
              "    <tr>\n",
              "      <th>T</th>\n",
              "      <td>1.000000</td>\n",
              "      <td>NaN</td>\n",
              "    </tr>\n",
              "  </tbody>\n",
              "</table>\n",
              "</div>"
            ],
            "text/plain": [
              "Survived         0         1\n",
              "Deck                        \n",
              "A         0.533333  0.466667\n",
              "B         0.255319  0.744681\n",
              "C         0.406780  0.593220\n",
              "D         0.242424  0.757576\n",
              "E         0.250000  0.750000\n",
              "F         0.384615  0.615385\n",
              "G         0.500000  0.500000\n",
              "N         0.700146  0.299854\n",
              "T         1.000000       NaN"
            ]
          },
          "metadata": {
            "tags": []
          },
          "execution_count": 51
        }
      ]
    },
    {
      "cell_type": "code",
      "metadata": {
        "id": "hqNiOYgSw06Y",
        "colab_type": "code",
        "colab": {
          "base_uri": "https://localhost:8080/",
          "height": 387
        },
        "outputId": "6dcb2655-dc62-44f3-ee19-9cf35aec3d1f"
      },
      "source": [
        "sns.catplot(x='Deck', y='Survived', kind='bar', data=train_data)"
      ],
      "execution_count": 52,
      "outputs": [
        {
          "output_type": "execute_result",
          "data": {
            "text/plain": [
              "<seaborn.axisgrid.FacetGrid at 0x7f7797cd6dd8>"
            ]
          },
          "metadata": {
            "tags": []
          },
          "execution_count": 52
        },
        {
          "output_type": "display_data",
          "data": {
            "image/png": "[encoded data removed]",
            "text/plain": [
              "<Figure size 360x360 with 1 Axes>"
            ]
          },
          "metadata": {
            "tags": [],
            "needs_background": "light"
          }
        }
      ]
    },
    {
      "cell_type": "code",
      "metadata": {
        "id": "T5EezpOMrI1m",
        "colab_type": "code",
        "colab": {
          "base_uri": "https://localhost:8080/",
          "height": 143
        },
        "outputId": "d9b272fd-da67-4d0b-9cb3-9426ed00a2e9"
      },
      "source": [
        "train_data.groupby(['Cabin_Extra'])['Survived'].value_counts(normalize=True).unstack()"
      ],
      "execution_count": 53,
      "outputs": [
        {
          "output_type": "execute_result",
          "data": {
            "text/html": [
              "<div>\n",
              "<style scoped>\n",
              "    .dataframe tbody tr th:only-of-type {\n",
              "        vertical-align: middle;\n",
              "    }\n",
              "\n",
              "    .dataframe tbody tr th {\n",
              "        vertical-align: top;\n",
              "    }\n",
              "\n",
              "    .dataframe thead th {\n",
              "        text-align: right;\n",
              "    }\n",
              "</style>\n",
              "<table border=\"1\" class=\"dataframe\">\n",
              "  <thead>\n",
              "    <tr style=\"text-align: right;\">\n",
              "      <th>Survived</th>\n",
              "      <th>0</th>\n",
              "      <th>1</th>\n",
              "    </tr>\n",
              "    <tr>\n",
              "      <th>Cabin_Extra</th>\n",
              "      <th></th>\n",
              "      <th></th>\n",
              "    </tr>\n",
              "  </thead>\n",
              "  <tbody>\n",
              "    <tr>\n",
              "      <th>0</th>\n",
              "      <td>0.621684</td>\n",
              "      <td>0.378316</td>\n",
              "    </tr>\n",
              "    <tr>\n",
              "      <th>1</th>\n",
              "      <td>0.416667</td>\n",
              "      <td>0.583333</td>\n",
              "    </tr>\n",
              "  </tbody>\n",
              "</table>\n",
              "</div>"
            ],
            "text/plain": [
              "Survived            0         1\n",
              "Cabin_Extra                    \n",
              "0            0.621684  0.378316\n",
              "1            0.416667  0.583333"
            ]
          },
          "metadata": {
            "tags": []
          },
          "execution_count": 53
        }
      ]
    },
    {
      "cell_type": "code",
      "metadata": {
        "id": "47AwQyTMmgsb",
        "colab_type": "code",
        "colab": {
          "base_uri": "https://localhost:8080/",
          "height": 583
        },
        "outputId": "0e2f5773-f464-4696-a6b2-a95a083ea792"
      },
      "source": [
        "train_data.groupby(['Sex', 'Deck'])['Survived'].value_counts(normalize=True).unstack()"
      ],
      "execution_count": 54,
      "outputs": [
        {
          "output_type": "execute_result",
          "data": {
            "text/html": [
              "<div>\n",
              "<style scoped>\n",
              "    .dataframe tbody tr th:only-of-type {\n",
              "        vertical-align: middle;\n",
              "    }\n",
              "\n",
              "    .dataframe tbody tr th {\n",
              "        vertical-align: top;\n",
              "    }\n",
              "\n",
              "    .dataframe thead th {\n",
              "        text-align: right;\n",
              "    }\n",
              "</style>\n",
              "<table border=\"1\" class=\"dataframe\">\n",
              "  <thead>\n",
              "    <tr style=\"text-align: right;\">\n",
              "      <th></th>\n",
              "      <th>Survived</th>\n",
              "      <th>0</th>\n",
              "      <th>1</th>\n",
              "    </tr>\n",
              "    <tr>\n",
              "      <th>Sex</th>\n",
              "      <th>Deck</th>\n",
              "      <th></th>\n",
              "      <th></th>\n",
              "    </tr>\n",
              "  </thead>\n",
              "  <tbody>\n",
              "    <tr>\n",
              "      <th rowspan=\"8\" valign=\"top\">female</th>\n",
              "      <th>A</th>\n",
              "      <td>NaN</td>\n",
              "      <td>1.000000</td>\n",
              "    </tr>\n",
              "    <tr>\n",
              "      <th>B</th>\n",
              "      <td>NaN</td>\n",
              "      <td>1.000000</td>\n",
              "    </tr>\n",
              "    <tr>\n",
              "      <th>C</th>\n",
              "      <td>0.111111</td>\n",
              "      <td>0.888889</td>\n",
              "    </tr>\n",
              "    <tr>\n",
              "      <th>D</th>\n",
              "      <td>NaN</td>\n",
              "      <td>1.000000</td>\n",
              "    </tr>\n",
              "    <tr>\n",
              "      <th>E</th>\n",
              "      <td>0.066667</td>\n",
              "      <td>0.933333</td>\n",
              "    </tr>\n",
              "    <tr>\n",
              "      <th>F</th>\n",
              "      <td>NaN</td>\n",
              "      <td>1.000000</td>\n",
              "    </tr>\n",
              "    <tr>\n",
              "      <th>G</th>\n",
              "      <td>0.500000</td>\n",
              "      <td>0.500000</td>\n",
              "    </tr>\n",
              "    <tr>\n",
              "      <th>N</th>\n",
              "      <td>0.345622</td>\n",
              "      <td>0.654378</td>\n",
              "    </tr>\n",
              "    <tr>\n",
              "      <th rowspan=\"8\" valign=\"top\">male</th>\n",
              "      <th>A</th>\n",
              "      <td>0.571429</td>\n",
              "      <td>0.428571</td>\n",
              "    </tr>\n",
              "    <tr>\n",
              "      <th>B</th>\n",
              "      <td>0.600000</td>\n",
              "      <td>0.400000</td>\n",
              "    </tr>\n",
              "    <tr>\n",
              "      <th>C</th>\n",
              "      <td>0.656250</td>\n",
              "      <td>0.343750</td>\n",
              "    </tr>\n",
              "    <tr>\n",
              "      <th>D</th>\n",
              "      <td>0.533333</td>\n",
              "      <td>0.466667</td>\n",
              "    </tr>\n",
              "    <tr>\n",
              "      <th>E</th>\n",
              "      <td>0.411765</td>\n",
              "      <td>0.588235</td>\n",
              "    </tr>\n",
              "    <tr>\n",
              "      <th>F</th>\n",
              "      <td>0.625000</td>\n",
              "      <td>0.375000</td>\n",
              "    </tr>\n",
              "    <tr>\n",
              "      <th>N</th>\n",
              "      <td>0.863830</td>\n",
              "      <td>0.136170</td>\n",
              "    </tr>\n",
              "    <tr>\n",
              "      <th>T</th>\n",
              "      <td>1.000000</td>\n",
              "      <td>NaN</td>\n",
              "    </tr>\n",
              "  </tbody>\n",
              "</table>\n",
              "</div>"
            ],
            "text/plain": [
              "Survived            0         1\n",
              "Sex    Deck                    \n",
              "female A          NaN  1.000000\n",
              "       B          NaN  1.000000\n",
              "       C     0.111111  0.888889\n",
              "       D          NaN  1.000000\n",
              "       E     0.066667  0.933333\n",
              "       F          NaN  1.000000\n",
              "       G     0.500000  0.500000\n",
              "       N     0.345622  0.654378\n",
              "male   A     0.571429  0.428571\n",
              "       B     0.600000  0.400000\n",
              "       C     0.656250  0.343750\n",
              "       D     0.533333  0.466667\n",
              "       E     0.411765  0.588235\n",
              "       F     0.625000  0.375000\n",
              "       N     0.863830  0.136170\n",
              "       T     1.000000       NaN"
            ]
          },
          "metadata": {
            "tags": []
          },
          "execution_count": 54
        }
      ]
    },
    {
      "cell_type": "code",
      "metadata": {
        "id": "u2xF9I3Shm96",
        "colab_type": "code",
        "colab": {
          "base_uri": "https://localhost:8080/",
          "height": 802
        },
        "outputId": "a9282f9c-4583-4d05-e041-97894cfdf051"
      },
      "source": [
        "train_data.groupby(['Sex', 'Deck', 'Cabin_Extra'])['Survived'].value_counts(normalize=True).unstack()"
      ],
      "execution_count": 55,
      "outputs": [
        {
          "output_type": "execute_result",
          "data": {
            "text/html": [
              "<div>\n",
              "<style scoped>\n",
              "    .dataframe tbody tr th:only-of-type {\n",
              "        vertical-align: middle;\n",
              "    }\n",
              "\n",
              "    .dataframe tbody tr th {\n",
              "        vertical-align: top;\n",
              "    }\n",
              "\n",
              "    .dataframe thead th {\n",
              "        text-align: right;\n",
              "    }\n",
              "</style>\n",
              "<table border=\"1\" class=\"dataframe\">\n",
              "  <thead>\n",
              "    <tr style=\"text-align: right;\">\n",
              "      <th></th>\n",
              "      <th></th>\n",
              "      <th>Survived</th>\n",
              "      <th>0</th>\n",
              "      <th>1</th>\n",
              "    </tr>\n",
              "    <tr>\n",
              "      <th>Sex</th>\n",
              "      <th>Deck</th>\n",
              "      <th>Cabin_Extra</th>\n",
              "      <th></th>\n",
              "      <th></th>\n",
              "    </tr>\n",
              "  </thead>\n",
              "  <tbody>\n",
              "    <tr>\n",
              "      <th rowspan=\"11\" valign=\"top\">female</th>\n",
              "      <th>A</th>\n",
              "      <th>0</th>\n",
              "      <td>NaN</td>\n",
              "      <td>1.000000</td>\n",
              "    </tr>\n",
              "    <tr>\n",
              "      <th rowspan=\"2\" valign=\"top\">B</th>\n",
              "      <th>0</th>\n",
              "      <td>NaN</td>\n",
              "      <td>1.000000</td>\n",
              "    </tr>\n",
              "    <tr>\n",
              "      <th>1</th>\n",
              "      <td>NaN</td>\n",
              "      <td>1.000000</td>\n",
              "    </tr>\n",
              "    <tr>\n",
              "      <th rowspan=\"2\" valign=\"top\">C</th>\n",
              "      <th>0</th>\n",
              "      <td>0.045455</td>\n",
              "      <td>0.954545</td>\n",
              "    </tr>\n",
              "    <tr>\n",
              "      <th>1</th>\n",
              "      <td>0.400000</td>\n",
              "      <td>0.600000</td>\n",
              "    </tr>\n",
              "    <tr>\n",
              "      <th>D</th>\n",
              "      <th>0</th>\n",
              "      <td>NaN</td>\n",
              "      <td>1.000000</td>\n",
              "    </tr>\n",
              "    <tr>\n",
              "      <th>E</th>\n",
              "      <th>0</th>\n",
              "      <td>0.066667</td>\n",
              "      <td>0.933333</td>\n",
              "    </tr>\n",
              "    <tr>\n",
              "      <th rowspan=\"2\" valign=\"top\">F</th>\n",
              "      <th>0</th>\n",
              "      <td>NaN</td>\n",
              "      <td>1.000000</td>\n",
              "    </tr>\n",
              "    <tr>\n",
              "      <th>1</th>\n",
              "      <td>NaN</td>\n",
              "      <td>1.000000</td>\n",
              "    </tr>\n",
              "    <tr>\n",
              "      <th>G</th>\n",
              "      <th>0</th>\n",
              "      <td>0.500000</td>\n",
              "      <td>0.500000</td>\n",
              "    </tr>\n",
              "    <tr>\n",
              "      <th>N</th>\n",
              "      <th>0</th>\n",
              "      <td>0.345622</td>\n",
              "      <td>0.654378</td>\n",
              "    </tr>\n",
              "    <tr>\n",
              "      <th rowspan=\"12\" valign=\"top\">male</th>\n",
              "      <th>A</th>\n",
              "      <th>0</th>\n",
              "      <td>0.571429</td>\n",
              "      <td>0.428571</td>\n",
              "    </tr>\n",
              "    <tr>\n",
              "      <th rowspan=\"2\" valign=\"top\">B</th>\n",
              "      <th>0</th>\n",
              "      <td>0.642857</td>\n",
              "      <td>0.357143</td>\n",
              "    </tr>\n",
              "    <tr>\n",
              "      <th>1</th>\n",
              "      <td>0.500000</td>\n",
              "      <td>0.500000</td>\n",
              "    </tr>\n",
              "    <tr>\n",
              "      <th rowspan=\"2\" valign=\"top\">C</th>\n",
              "      <th>0</th>\n",
              "      <td>0.655172</td>\n",
              "      <td>0.344828</td>\n",
              "    </tr>\n",
              "    <tr>\n",
              "      <th>1</th>\n",
              "      <td>0.666667</td>\n",
              "      <td>0.333333</td>\n",
              "    </tr>\n",
              "    <tr>\n",
              "      <th rowspan=\"2\" valign=\"top\">D</th>\n",
              "      <th>0</th>\n",
              "      <td>0.571429</td>\n",
              "      <td>0.428571</td>\n",
              "    </tr>\n",
              "    <tr>\n",
              "      <th>1</th>\n",
              "      <td>NaN</td>\n",
              "      <td>1.000000</td>\n",
              "    </tr>\n",
              "    <tr>\n",
              "      <th>E</th>\n",
              "      <th>0</th>\n",
              "      <td>0.411765</td>\n",
              "      <td>0.588235</td>\n",
              "    </tr>\n",
              "    <tr>\n",
              "      <th rowspan=\"2\" valign=\"top\">F</th>\n",
              "      <th>0</th>\n",
              "      <td>0.400000</td>\n",
              "      <td>0.600000</td>\n",
              "    </tr>\n",
              "    <tr>\n",
              "      <th>1</th>\n",
              "      <td>1.000000</td>\n",
              "      <td>NaN</td>\n",
              "    </tr>\n",
              "    <tr>\n",
              "      <th>N</th>\n",
              "      <th>0</th>\n",
              "      <td>0.863830</td>\n",
              "      <td>0.136170</td>\n",
              "    </tr>\n",
              "    <tr>\n",
              "      <th>T</th>\n",
              "      <th>0</th>\n",
              "      <td>1.000000</td>\n",
              "      <td>NaN</td>\n",
              "    </tr>\n",
              "  </tbody>\n",
              "</table>\n",
              "</div>"
            ],
            "text/plain": [
              "Survived                        0         1\n",
              "Sex    Deck Cabin_Extra                    \n",
              "female A    0                 NaN  1.000000\n",
              "       B    0                 NaN  1.000000\n",
              "            1                 NaN  1.000000\n",
              "       C    0            0.045455  0.954545\n",
              "            1            0.400000  0.600000\n",
              "       D    0                 NaN  1.000000\n",
              "       E    0            0.066667  0.933333\n",
              "       F    0                 NaN  1.000000\n",
              "            1                 NaN  1.000000\n",
              "       G    0            0.500000  0.500000\n",
              "       N    0            0.345622  0.654378\n",
              "male   A    0            0.571429  0.428571\n",
              "       B    0            0.642857  0.357143\n",
              "            1            0.500000  0.500000\n",
              "       C    0            0.655172  0.344828\n",
              "            1            0.666667  0.333333\n",
              "       D    0            0.571429  0.428571\n",
              "            1                 NaN  1.000000\n",
              "       E    0            0.411765  0.588235\n",
              "       F    0            0.400000  0.600000\n",
              "            1            1.000000       NaN\n",
              "       N    0            0.863830  0.136170\n",
              "       T    0            1.000000       NaN"
            ]
          },
          "metadata": {
            "tags": []
          },
          "execution_count": 55
        }
      ]
    },
    {
      "cell_type": "markdown",
      "metadata": {
        "id": "pTdevQI3vaBf",
        "colab_type": "text"
      },
      "source": [
        "Lets take a look at our data with the new added features."
      ]
    },
    {
      "cell_type": "code",
      "metadata": {
        "id": "5kJCCNNrGktc",
        "colab_type": "code",
        "colab": {
          "base_uri": "https://localhost:8080/",
          "height": 206
        },
        "outputId": "719bb3fb-c2f0-42f8-fc9c-f5ccfe87a317"
      },
      "source": [
        "train_data.head()"
      ],
      "execution_count": 56,
      "outputs": [
        {
          "output_type": "execute_result",
          "data": {
            "text/html": [
              "<div>\n",
              "<style scoped>\n",
              "    .dataframe tbody tr th:only-of-type {\n",
              "        vertical-align: middle;\n",
              "    }\n",
              "\n",
              "    .dataframe tbody tr th {\n",
              "        vertical-align: top;\n",
              "    }\n",
              "\n",
              "    .dataframe thead th {\n",
              "        text-align: right;\n",
              "    }\n",
              "</style>\n",
              "<table border=\"1\" class=\"dataframe\">\n",
              "  <thead>\n",
              "    <tr style=\"text-align: right;\">\n",
              "      <th></th>\n",
              "      <th>PassengerId</th>\n",
              "      <th>Survived</th>\n",
              "      <th>Pclass</th>\n",
              "      <th>Name</th>\n",
              "      <th>Sex</th>\n",
              "      <th>Age</th>\n",
              "      <th>SibSp</th>\n",
              "      <th>Parch</th>\n",
              "      <th>Ticket</th>\n",
              "      <th>Fare</th>\n",
              "      <th>Cabin</th>\n",
              "      <th>Embarked</th>\n",
              "      <th>FamilySize</th>\n",
              "      <th>Surname</th>\n",
              "      <th>Family</th>\n",
              "      <th>Title</th>\n",
              "      <th>AdultMale</th>\n",
              "      <th>Deck</th>\n",
              "      <th>Cabin_Extra</th>\n",
              "    </tr>\n",
              "  </thead>\n",
              "  <tbody>\n",
              "    <tr>\n",
              "      <th>0</th>\n",
              "      <td>1</td>\n",
              "      <td>0</td>\n",
              "      <td>3</td>\n",
              "      <td>Braund, Mr. Owen Harris</td>\n",
              "      <td>male</td>\n",
              "      <td>1</td>\n",
              "      <td>1</td>\n",
              "      <td>0</td>\n",
              "      <td>A/5 21171</td>\n",
              "      <td>0</td>\n",
              "      <td>N</td>\n",
              "      <td>S</td>\n",
              "      <td>2</td>\n",
              "      <td>Braund</td>\n",
              "      <td>Braund:2</td>\n",
              "      <td>Mr</td>\n",
              "      <td>1</td>\n",
              "      <td>N</td>\n",
              "      <td>0</td>\n",
              "    </tr>\n",
              "    <tr>\n",
              "      <th>1</th>\n",
              "      <td>2</td>\n",
              "      <td>1</td>\n",
              "      <td>1</td>\n",
              "      <td>Cumings, Mrs. John Bradley (Florence Briggs Th...</td>\n",
              "      <td>female</td>\n",
              "      <td>2</td>\n",
              "      <td>1</td>\n",
              "      <td>0</td>\n",
              "      <td>PC 17599</td>\n",
              "      <td>3</td>\n",
              "      <td>C85</td>\n",
              "      <td>C</td>\n",
              "      <td>2</td>\n",
              "      <td>Cumings</td>\n",
              "      <td>Cumings:2</td>\n",
              "      <td>Mrs</td>\n",
              "      <td>0</td>\n",
              "      <td>C</td>\n",
              "      <td>0</td>\n",
              "    </tr>\n",
              "    <tr>\n",
              "      <th>2</th>\n",
              "      <td>3</td>\n",
              "      <td>1</td>\n",
              "      <td>3</td>\n",
              "      <td>Heikkinen, Miss. Laina</td>\n",
              "      <td>female</td>\n",
              "      <td>1</td>\n",
              "      <td>0</td>\n",
              "      <td>0</td>\n",
              "      <td>STON/O2. 3101282</td>\n",
              "      <td>1</td>\n",
              "      <td>N</td>\n",
              "      <td>S</td>\n",
              "      <td>1</td>\n",
              "      <td>Heikkinen</td>\n",
              "      <td>Heikkinen:1</td>\n",
              "      <td>Miss</td>\n",
              "      <td>0</td>\n",
              "      <td>N</td>\n",
              "      <td>0</td>\n",
              "    </tr>\n",
              "    <tr>\n",
              "      <th>3</th>\n",
              "      <td>4</td>\n",
              "      <td>1</td>\n",
              "      <td>1</td>\n",
              "      <td>Futrelle, Mrs. Jacques Heath (Lily May Peel)</td>\n",
              "      <td>female</td>\n",
              "      <td>2</td>\n",
              "      <td>1</td>\n",
              "      <td>0</td>\n",
              "      <td>113803</td>\n",
              "      <td>3</td>\n",
              "      <td>C123</td>\n",
              "      <td>S</td>\n",
              "      <td>2</td>\n",
              "      <td>Futrelle</td>\n",
              "      <td>Futrelle:2</td>\n",
              "      <td>Mrs</td>\n",
              "      <td>0</td>\n",
              "      <td>C</td>\n",
              "      <td>0</td>\n",
              "    </tr>\n",
              "    <tr>\n",
              "      <th>4</th>\n",
              "      <td>5</td>\n",
              "      <td>0</td>\n",
              "      <td>3</td>\n",
              "      <td>Allen, Mr. William Henry</td>\n",
              "      <td>male</td>\n",
              "      <td>2</td>\n",
              "      <td>0</td>\n",
              "      <td>0</td>\n",
              "      <td>373450</td>\n",
              "      <td>1</td>\n",
              "      <td>N</td>\n",
              "      <td>S</td>\n",
              "      <td>1</td>\n",
              "      <td>Allen</td>\n",
              "      <td>Allen:1</td>\n",
              "      <td>Mr</td>\n",
              "      <td>1</td>\n",
              "      <td>N</td>\n",
              "      <td>0</td>\n",
              "    </tr>\n",
              "  </tbody>\n",
              "</table>\n",
              "</div>"
            ],
            "text/plain": [
              "   PassengerId  Survived  Pclass  ... AdultMale Deck  Cabin_Extra\n",
              "0            1         0       3  ...         1    N            0\n",
              "1            2         1       1  ...         0    C            0\n",
              "2            3         1       3  ...         0    N            0\n",
              "3            4         1       1  ...         0    C            0\n",
              "4            5         0       3  ...         1    N            0\n",
              "\n",
              "[5 rows x 19 columns]"
            ]
          },
          "metadata": {
            "tags": []
          },
          "execution_count": 56
        }
      ]
    },
    {
      "cell_type": "code",
      "metadata": {
        "id": "mEHCqjuQG50U",
        "colab_type": "code",
        "colab": {
          "base_uri": "https://localhost:8080/",
          "height": 206
        },
        "outputId": "a6af5e38-fff0-4bc1-dd11-64f1ab90a62f"
      },
      "source": [
        "test_data.head()"
      ],
      "execution_count": 57,
      "outputs": [
        {
          "output_type": "execute_result",
          "data": {
            "text/html": [
              "<div>\n",
              "<style scoped>\n",
              "    .dataframe tbody tr th:only-of-type {\n",
              "        vertical-align: middle;\n",
              "    }\n",
              "\n",
              "    .dataframe tbody tr th {\n",
              "        vertical-align: top;\n",
              "    }\n",
              "\n",
              "    .dataframe thead th {\n",
              "        text-align: right;\n",
              "    }\n",
              "</style>\n",
              "<table border=\"1\" class=\"dataframe\">\n",
              "  <thead>\n",
              "    <tr style=\"text-align: right;\">\n",
              "      <th></th>\n",
              "      <th>PassengerId</th>\n",
              "      <th>Pclass</th>\n",
              "      <th>Name</th>\n",
              "      <th>Sex</th>\n",
              "      <th>Age</th>\n",
              "      <th>SibSp</th>\n",
              "      <th>Parch</th>\n",
              "      <th>Ticket</th>\n",
              "      <th>Fare</th>\n",
              "      <th>Cabin</th>\n",
              "      <th>Embarked</th>\n",
              "      <th>FamilySize</th>\n",
              "      <th>Surname</th>\n",
              "      <th>Family</th>\n",
              "      <th>Title</th>\n",
              "      <th>AdultMale</th>\n",
              "      <th>Deck</th>\n",
              "      <th>Cabin_Extra</th>\n",
              "    </tr>\n",
              "  </thead>\n",
              "  <tbody>\n",
              "    <tr>\n",
              "      <th>0</th>\n",
              "      <td>892</td>\n",
              "      <td>3</td>\n",
              "      <td>Kelly, Mr. James</td>\n",
              "      <td>male</td>\n",
              "      <td>2</td>\n",
              "      <td>0</td>\n",
              "      <td>0</td>\n",
              "      <td>330911</td>\n",
              "      <td>0</td>\n",
              "      <td>N</td>\n",
              "      <td>Q</td>\n",
              "      <td>1</td>\n",
              "      <td>Kelly</td>\n",
              "      <td>Kelly:1</td>\n",
              "      <td>Mr</td>\n",
              "      <td>1</td>\n",
              "      <td>N</td>\n",
              "      <td>0</td>\n",
              "    </tr>\n",
              "    <tr>\n",
              "      <th>1</th>\n",
              "      <td>893</td>\n",
              "      <td>3</td>\n",
              "      <td>Wilkes, Mrs. James (Ellen Needs)</td>\n",
              "      <td>female</td>\n",
              "      <td>2</td>\n",
              "      <td>1</td>\n",
              "      <td>0</td>\n",
              "      <td>363272</td>\n",
              "      <td>0</td>\n",
              "      <td>N</td>\n",
              "      <td>S</td>\n",
              "      <td>2</td>\n",
              "      <td>Wilkes</td>\n",
              "      <td>Wilkes:2</td>\n",
              "      <td>Mrs</td>\n",
              "      <td>0</td>\n",
              "      <td>N</td>\n",
              "      <td>0</td>\n",
              "    </tr>\n",
              "    <tr>\n",
              "      <th>2</th>\n",
              "      <td>894</td>\n",
              "      <td>2</td>\n",
              "      <td>Myles, Mr. Thomas Francis</td>\n",
              "      <td>male</td>\n",
              "      <td>3</td>\n",
              "      <td>0</td>\n",
              "      <td>0</td>\n",
              "      <td>240276</td>\n",
              "      <td>1</td>\n",
              "      <td>N</td>\n",
              "      <td>Q</td>\n",
              "      <td>1</td>\n",
              "      <td>Myles</td>\n",
              "      <td>Myles:1</td>\n",
              "      <td>Mr</td>\n",
              "      <td>1</td>\n",
              "      <td>N</td>\n",
              "      <td>0</td>\n",
              "    </tr>\n",
              "    <tr>\n",
              "      <th>3</th>\n",
              "      <td>895</td>\n",
              "      <td>3</td>\n",
              "      <td>Wirz, Mr. Albert</td>\n",
              "      <td>male</td>\n",
              "      <td>1</td>\n",
              "      <td>0</td>\n",
              "      <td>0</td>\n",
              "      <td>315154</td>\n",
              "      <td>1</td>\n",
              "      <td>N</td>\n",
              "      <td>S</td>\n",
              "      <td>1</td>\n",
              "      <td>Wirz</td>\n",
              "      <td>Wirz:1</td>\n",
              "      <td>Mr</td>\n",
              "      <td>1</td>\n",
              "      <td>N</td>\n",
              "      <td>0</td>\n",
              "    </tr>\n",
              "    <tr>\n",
              "      <th>4</th>\n",
              "      <td>896</td>\n",
              "      <td>3</td>\n",
              "      <td>Hirvonen, Mrs. Alexander (Helga E Lindqvist)</td>\n",
              "      <td>female</td>\n",
              "      <td>1</td>\n",
              "      <td>1</td>\n",
              "      <td>1</td>\n",
              "      <td>3101298</td>\n",
              "      <td>1</td>\n",
              "      <td>N</td>\n",
              "      <td>S</td>\n",
              "      <td>3</td>\n",
              "      <td>Hirvonen</td>\n",
              "      <td>Hirvonen:3</td>\n",
              "      <td>Mrs</td>\n",
              "      <td>0</td>\n",
              "      <td>N</td>\n",
              "      <td>0</td>\n",
              "    </tr>\n",
              "  </tbody>\n",
              "</table>\n",
              "</div>"
            ],
            "text/plain": [
              "   PassengerId  Pclass  ... Deck Cabin_Extra\n",
              "0          892       3  ...    N           0\n",
              "1          893       3  ...    N           0\n",
              "2          894       2  ...    N           0\n",
              "3          895       3  ...    N           0\n",
              "4          896       3  ...    N           0\n",
              "\n",
              "[5 rows x 18 columns]"
            ]
          },
          "metadata": {
            "tags": []
          },
          "execution_count": 57
        }
      ]
    },
    {
      "cell_type": "markdown",
      "metadata": {
        "id": "FBM1R2PJA7m6",
        "colab_type": "text"
      },
      "source": [
        "For categorical values, we will encode them as integer values"
      ]
    },
    {
      "cell_type": "code",
      "metadata": {
        "id": "TzcXsiSKIkeY",
        "colab_type": "code",
        "colab": {}
      },
      "source": [
        "def encode_features(df):\n",
        "  df['Sex'] = df['Sex'].map({'male':0, 'female':1}).astype(int)\n",
        "  df['Embarked'] = df['Embarked'].map({'S':0, 'C':1, 'Q':2}).astype(int)\n",
        "  df['Deck'] = df['Deck'].apply(ord)\n",
        "\n",
        "  title_mapping = {'Mr':1, 'Miss':2, 'Mrs':3, 'Master':4, 'Rare':5}\n",
        "  df['Title'] = df['Title'].map(title_mapping).astype(int)\n",
        "  df['Title'] = df['Title'].fillna(0)\n",
        "\n",
        "  return df\n",
        "\n",
        "for df in [train_data, test_data]:\n",
        "  df = encode_features(df)"
      ],
      "execution_count": 58,
      "outputs": []
    },
    {
      "cell_type": "code",
      "metadata": {
        "id": "6zP40Kp-Kx66",
        "colab_type": "code",
        "colab": {}
      },
      "source": [
        "def encode_features(df):\n",
        "  ordinal_encoder = OrdinalEncoder()\n",
        "\n",
        "  categorical_features = ['Surname', 'Family']\n",
        "\n",
        "  ordinal_encoder.fit(df[categorical_features])\n",
        "  df[categorical_features] = ordinal_encoder.transform(df[categorical_features])\n",
        "\n",
        "  df[categorical_features] = df[categorical_features].astype(int)\n",
        "\n",
        "  return df\n",
        "\n",
        "for df in [train_data, test_data]:\n",
        "  df = encode_features(df)"
      ],
      "execution_count": 59,
      "outputs": []
    },
    {
      "cell_type": "markdown",
      "metadata": {
        "id": "22ejkJprs0mW",
        "colab_type": "text"
      },
      "source": [
        "We will discard some features that are no longer necessary, either were transformed or are not relevant to our modelling step."
      ]
    },
    {
      "cell_type": "code",
      "metadata": {
        "id": "0AYlYHv_G4_f",
        "colab_type": "code",
        "colab": {}
      },
      "source": [
        "PassengerId = test_data['PassengerId']"
      ],
      "execution_count": 60,
      "outputs": []
    },
    {
      "cell_type": "code",
      "metadata": {
        "id": "W6B5-ubZHErS",
        "colab_type": "code",
        "colab": {}
      },
      "source": [
        "drop_elements = ['PassengerId', 'Name', 'Family', 'Ticket', 'Cabin', 'Cabin_Extra', 'Surname', 'Family']\n",
        "\n",
        "train_data = train_data.drop(drop_elements, axis=1)\n",
        "test_data = test_data.drop(drop_elements, axis=1)"
      ],
      "execution_count": 61,
      "outputs": []
    },
    {
      "cell_type": "markdown",
      "metadata": {
        "id": "Qd5emqCVUNgj",
        "colab_type": "text"
      },
      "source": [
        "Correlation of our features."
      ]
    },
    {
      "cell_type": "code",
      "metadata": {
        "id": "w2TCgExKTxXm",
        "colab_type": "code",
        "colab": {
          "base_uri": "https://localhost:8080/",
          "height": 704
        },
        "outputId": "53ba50cd-86cd-43db-fe24-bb3baad602d2"
      },
      "source": [
        "plt.figure(figsize=(16,12))\n",
        "sns.heatmap(train_data.corr(), annot=True)\n",
        "plt.show()"
      ],
      "execution_count": 62,
      "outputs": [
        {
          "output_type": "display_data",
          "data": {
            "image/png": "[encoded data removed]",
            "text/plain": [
              "<Figure size 1152x864 with 2 Axes>"
            ]
          },
          "metadata": {
            "tags": [],
            "needs_background": "light"
          }
        }
      ]
    },
    {
      "cell_type": "code",
      "metadata": {
        "id": "-Ki6Yrp2LIrl",
        "colab_type": "code",
        "colab": {
          "base_uri": "https://localhost:8080/",
          "height": 206
        },
        "outputId": "56dd5bb9-5101-429b-f871-d4d124241cad"
      },
      "source": [
        "train_data.head()"
      ],
      "execution_count": 63,
      "outputs": [
        {
          "output_type": "execute_result",
          "data": {
            "text/html": [
              "<div>\n",
              "<style scoped>\n",
              "    .dataframe tbody tr th:only-of-type {\n",
              "        vertical-align: middle;\n",
              "    }\n",
              "\n",
              "    .dataframe tbody tr th {\n",
              "        vertical-align: top;\n",
              "    }\n",
              "\n",
              "    .dataframe thead th {\n",
              "        text-align: right;\n",
              "    }\n",
              "</style>\n",
              "<table border=\"1\" class=\"dataframe\">\n",
              "  <thead>\n",
              "    <tr style=\"text-align: right;\">\n",
              "      <th></th>\n",
              "      <th>Survived</th>\n",
              "      <th>Pclass</th>\n",
              "      <th>Sex</th>\n",
              "      <th>Age</th>\n",
              "      <th>SibSp</th>\n",
              "      <th>Parch</th>\n",
              "      <th>Fare</th>\n",
              "      <th>Embarked</th>\n",
              "      <th>FamilySize</th>\n",
              "      <th>Title</th>\n",
              "      <th>AdultMale</th>\n",
              "      <th>Deck</th>\n",
              "    </tr>\n",
              "  </thead>\n",
              "  <tbody>\n",
              "    <tr>\n",
              "      <th>0</th>\n",
              "      <td>0</td>\n",
              "      <td>3</td>\n",
              "      <td>0</td>\n",
              "      <td>1</td>\n",
              "      <td>1</td>\n",
              "      <td>0</td>\n",
              "      <td>0</td>\n",
              "      <td>0</td>\n",
              "      <td>2</td>\n",
              "      <td>1</td>\n",
              "      <td>1</td>\n",
              "      <td>78</td>\n",
              "    </tr>\n",
              "    <tr>\n",
              "      <th>1</th>\n",
              "      <td>1</td>\n",
              "      <td>1</td>\n",
              "      <td>1</td>\n",
              "      <td>2</td>\n",
              "      <td>1</td>\n",
              "      <td>0</td>\n",
              "      <td>3</td>\n",
              "      <td>1</td>\n",
              "      <td>2</td>\n",
              "      <td>3</td>\n",
              "      <td>0</td>\n",
              "      <td>67</td>\n",
              "    </tr>\n",
              "    <tr>\n",
              "      <th>2</th>\n",
              "      <td>1</td>\n",
              "      <td>3</td>\n",
              "      <td>1</td>\n",
              "      <td>1</td>\n",
              "      <td>0</td>\n",
              "      <td>0</td>\n",
              "      <td>1</td>\n",
              "      <td>0</td>\n",
              "      <td>1</td>\n",
              "      <td>2</td>\n",
              "      <td>0</td>\n",
              "      <td>78</td>\n",
              "    </tr>\n",
              "    <tr>\n",
              "      <th>3</th>\n",
              "      <td>1</td>\n",
              "      <td>1</td>\n",
              "      <td>1</td>\n",
              "      <td>2</td>\n",
              "      <td>1</td>\n",
              "      <td>0</td>\n",
              "      <td>3</td>\n",
              "      <td>0</td>\n",
              "      <td>2</td>\n",
              "      <td>3</td>\n",
              "      <td>0</td>\n",
              "      <td>67</td>\n",
              "    </tr>\n",
              "    <tr>\n",
              "      <th>4</th>\n",
              "      <td>0</td>\n",
              "      <td>3</td>\n",
              "      <td>0</td>\n",
              "      <td>2</td>\n",
              "      <td>0</td>\n",
              "      <td>0</td>\n",
              "      <td>1</td>\n",
              "      <td>0</td>\n",
              "      <td>1</td>\n",
              "      <td>1</td>\n",
              "      <td>1</td>\n",
              "      <td>78</td>\n",
              "    </tr>\n",
              "  </tbody>\n",
              "</table>\n",
              "</div>"
            ],
            "text/plain": [
              "   Survived  Pclass  Sex  Age  ...  FamilySize  Title  AdultMale  Deck\n",
              "0         0       3    0    1  ...           2      1          1    78\n",
              "1         1       1    1    2  ...           2      3          0    67\n",
              "2         1       3    1    1  ...           1      2          0    78\n",
              "3         1       1    1    2  ...           2      3          0    67\n",
              "4         0       3    0    2  ...           1      1          1    78\n",
              "\n",
              "[5 rows x 12 columns]"
            ]
          },
          "metadata": {
            "tags": []
          },
          "execution_count": 63
        }
      ]
    },
    {
      "cell_type": "markdown",
      "metadata": {
        "id": "UvVzFCKDzJeD",
        "colab_type": "text"
      },
      "source": [
        "## Modelling"
      ]
    },
    {
      "cell_type": "markdown",
      "metadata": {
        "id": "WUSMSu_sZ8Qs",
        "colab_type": "text"
      },
      "source": [
        "At this stage we are ready to separate our features from the labels then we split our data into random train and test subsets, with a proportion of 75% of training data and 25% of testing data to fit the models. Before fitting each model we will normalize the input data."
      ]
    },
    {
      "cell_type": "code",
      "metadata": {
        "id": "0MSHbvQKHOQ7",
        "colab_type": "code",
        "colab": {}
      },
      "source": [
        "X = train_data.drop('Survived', axis=1)\n",
        "y = train_data['Survived']\n",
        "X_test = test_data.copy()"
      ],
      "execution_count": 64,
      "outputs": []
    },
    {
      "cell_type": "code",
      "metadata": {
        "id": "ddqIAPFWJiK6",
        "colab_type": "code",
        "colab": {}
      },
      "source": [
        "X_train, X_validate, y_train, y_validate = train_test_split(X, y, test_size=0.3, random_state=1, stratify=y)"
      ],
      "execution_count": 65,
      "outputs": []
    },
    {
      "cell_type": "markdown",
      "metadata": {
        "id": "hw4Ecs1FsHm8",
        "colab_type": "text"
      },
      "source": [
        "Normalize the data."
      ]
    },
    {
      "cell_type": "code",
      "metadata": {
        "id": "kdr_74A5rklx",
        "colab_type": "code",
        "colab": {}
      },
      "source": [
        "# Copy dataframe to later inspect and compare true values and predictions\n",
        "X_validate_df = X_validate.copy()\n",
        "\n",
        "standard_scaler = StandardScaler()\n",
        "standard_scaler.fit(X_train)\n",
        "\n",
        "X_train = standard_scaler.transform(X_train)\n",
        "X_validate = standard_scaler.transform(X_validate)"
      ],
      "execution_count": 66,
      "outputs": []
    },
    {
      "cell_type": "code",
      "metadata": {
        "id": "-n51yoEQIKDP",
        "colab_type": "code",
        "colab": {}
      },
      "source": [
        "model_results = pd.DataFrame(columns=['Score', 'Cross-validation score'])"
      ],
      "execution_count": 67,
      "outputs": []
    },
    {
      "cell_type": "markdown",
      "metadata": {
        "id": "KVO2ZgOAa59z",
        "colab_type": "text"
      },
      "source": [
        "### Random Forest Model"
      ]
    },
    {
      "cell_type": "code",
      "metadata": {
        "id": "GKaW3gqUJfTb",
        "colab_type": "code",
        "colab": {
          "base_uri": "https://localhost:8080/",
          "height": 35
        },
        "outputId": "fd1da86b-b0bc-42eb-f657-f630e64e7a6f"
      },
      "source": [
        "params = {'criterion': 'entropy', 'max_depth': 8, 'min_samples_leaf': 1, 'min_samples_split': 5, 'n_estimators': 100}\n",
        "\n",
        "random_forest = RandomForestClassifier(**params, n_jobs=-1).fit(X_train, y_train)\n",
        "\n",
        "score = random_forest.score(X_train, y_train)\n",
        "cross_val_score_mean = cross_val_score(random_forest, X_train, y_train, cv=10, n_jobs=-1).mean()\n",
        "\n",
        "model_results.loc['Random Forest'] = [score, cross_val_score_mean]\n",
        "\n",
        "print([score, cross_val_score_mean])"
      ],
      "execution_count": 68,
      "outputs": [
        {
          "output_type": "stream",
          "text": [
            "[0.8924558587479936, 0.8427803379416282]\n"
          ],
          "name": "stdout"
        }
      ]
    },
    {
      "cell_type": "markdown",
      "metadata": {
        "id": "G9I5eC-wMe2m",
        "colab_type": "text"
      },
      "source": [
        "### Decision Tree Model"
      ]
    },
    {
      "cell_type": "code",
      "metadata": {
        "id": "ts1t0gu1MXPV",
        "colab_type": "code",
        "colab": {
          "base_uri": "https://localhost:8080/",
          "height": 35
        },
        "outputId": "60f794f4-cf95-46b0-9631-61c5b923eaaa"
      },
      "source": [
        "from sklearn.tree import DecisionTreeClassifier\n",
        "\n",
        "decision_tree = DecisionTreeClassifier().fit(X_train, y_train)\n",
        "\n",
        "score = decision_tree.score(X_train, y_train)\n",
        "cross_val_score_mean = cross_val_score(decision_tree, X_train, y_train, cv=10, n_jobs=-1).mean()\n",
        "\n",
        "model_results.loc['Decision Tree'] = [score, cross_val_score_mean]\n",
        "\n",
        "print([score, cross_val_score_mean])"
      ],
      "execution_count": 69,
      "outputs": [
        {
          "output_type": "stream",
          "text": [
            "[0.9213483146067416, 0.8187660010240656]\n"
          ],
          "name": "stdout"
        }
      ]
    },
    {
      "cell_type": "markdown",
      "metadata": {
        "id": "sTXg4RnweDEq",
        "colab_type": "text"
      },
      "source": [
        "### Logistic Regression Model"
      ]
    },
    {
      "cell_type": "code",
      "metadata": {
        "id": "RH3JGDlReCOV",
        "colab_type": "code",
        "colab": {
          "base_uri": "https://localhost:8080/",
          "height": 35
        },
        "outputId": "436736c5-6cfa-4971-81a1-4ab0fc6de461"
      },
      "source": [
        "params = {'C': 10, 'dual': True, 'penalty': 'l2', 'solver': 'liblinear', 'tol': 0.0001}\n",
        "\n",
        "logistic_regression = LogisticRegression(**params, n_jobs=-1).fit(X_train, y_train)\n",
        "\n",
        "score = logistic_regression.score(X_train, y_train)\n",
        "cross_val_score_mean = cross_val_score(logistic_regression, X_train, y_train, cv=10, n_jobs=-1).mean()\n",
        "\n",
        "model_results.loc['Logistic Regression'] = [score, cross_val_score_mean]\n",
        "\n",
        "print([score, cross_val_score_mean])"
      ],
      "execution_count": 70,
      "outputs": [
        {
          "output_type": "stream",
          "text": [
            "[0.8202247191011236, 0.8026113671274961]\n"
          ],
          "name": "stdout"
        }
      ]
    },
    {
      "cell_type": "markdown",
      "metadata": {
        "id": "OpJ00UXQhCfb",
        "colab_type": "text"
      },
      "source": [
        "### K-nearest Neighbors Model"
      ]
    },
    {
      "cell_type": "code",
      "metadata": {
        "id": "NvB8Cpg0hDjX",
        "colab_type": "code",
        "colab": {
          "base_uri": "https://localhost:8080/",
          "height": 35
        },
        "outputId": "2c8bc2e7-ff83-4899-93d5-118853ec5093"
      },
      "source": [
        "params = {'n_neighbors': 8, 'weights': 'uniform'}\n",
        "\n",
        "knn = KNeighborsClassifier(**params).fit(X_train, y_train)\n",
        "\n",
        "score = knn.score(X_train, y_train)\n",
        "cross_val_score_mean = cross_val_score(knn, X_train, y_train, cv=10, n_jobs=-1).mean()\n",
        "\n",
        "model_results.loc['K-nearest Neighbors'] = [score, cross_val_score_mean]\n",
        "\n",
        "print([score, cross_val_score_mean])"
      ],
      "execution_count": 71,
      "outputs": [
        {
          "output_type": "stream",
          "text": [
            "[0.8523274478330658, 0.8203277009728621]\n"
          ],
          "name": "stdout"
        }
      ]
    },
    {
      "cell_type": "markdown",
      "metadata": {
        "id": "hUkvFjeqiR2A",
        "colab_type": "text"
      },
      "source": [
        "### Gaussian Naive Bayes Model"
      ]
    },
    {
      "cell_type": "code",
      "metadata": {
        "id": "rPWQ5gqEjEVY",
        "colab_type": "code",
        "colab": {
          "base_uri": "https://localhost:8080/",
          "height": 35
        },
        "outputId": "7a696107-f16a-4812-9387-f86e44bba856"
      },
      "source": [
        "gaussian_nb = GaussianNB().fit(X_train, y_train)\n",
        "\n",
        "score = gaussian_nb.score(X_train, y_train)\n",
        "cross_val_score_mean = cross_val_score(gaussian_nb, X_train, y_train, cv=10, n_jobs=-1).mean()\n",
        "\n",
        "model_results.loc['Gaussian Naive Bayes'] = [score, cross_val_score_mean]\n",
        "\n",
        "print([score, cross_val_score_mean])"
      ],
      "execution_count": 72,
      "outputs": [
        {
          "output_type": "stream",
          "text": [
            "[0.8025682182985554, 0.7978494623655914]\n"
          ],
          "name": "stdout"
        }
      ]
    },
    {
      "cell_type": "markdown",
      "metadata": {
        "id": "x0Py23dUjjC8",
        "colab_type": "text"
      },
      "source": [
        "### Support Vector Machine Model"
      ]
    },
    {
      "cell_type": "code",
      "metadata": {
        "id": "5ZQhsALJjvPH",
        "colab_type": "code",
        "colab": {
          "base_uri": "https://localhost:8080/",
          "height": 35
        },
        "outputId": "639db686-9a18-4114-aaa1-fc519bad392e"
      },
      "source": [
        "params = {'C': 10, 'gamma': 0.1, 'kernel': 'rbf'}\n",
        "\n",
        "svc = SVC(**params).fit(X_train, y_train)\n",
        "\n",
        "score = svc.score(X_train, y_train)\n",
        "cross_val_score_mean = cross_val_score(svc, X_train, y_train, cv=10, n_jobs=-1).mean()\n",
        "\n",
        "model_results.loc['Support Vector Machine'] = [score, cross_val_score_mean]\n",
        "\n",
        "print([score, cross_val_score_mean])"
      ],
      "execution_count": 73,
      "outputs": [
        {
          "output_type": "stream",
          "text": [
            "[0.8940609951845907, 0.8299795186891961]\n"
          ],
          "name": "stdout"
        }
      ]
    },
    {
      "cell_type": "markdown",
      "metadata": {
        "id": "sFP87m1loBpg",
        "colab_type": "text"
      },
      "source": [
        "### Multi-layer Perceptron Model"
      ]
    },
    {
      "cell_type": "code",
      "metadata": {
        "id": "VVBIFWbioA0N",
        "colab_type": "code",
        "colab": {
          "base_uri": "https://localhost:8080/",
          "height": 35
        },
        "outputId": "931bb6c0-d56d-4d24-c3f1-4e79133e4a01"
      },
      "source": [
        "from sklearn.neural_network import MLPClassifier\n",
        "\n",
        "params = {'activation': 'tanh', 'early_stopping': False, 'learning_rate': 'constant', 'learning_rate_init': 0.001}\n",
        "\n",
        "mlp = MLPClassifier(**params, max_iter=300).fit(X_train, y_train)\n",
        "\n",
        "score = mlp.score(X_train, y_train)\n",
        "cross_val_score_mean = cross_val_score(mlp, X_train, y_train, cv=10, n_jobs=-1).mean()\n",
        "\n",
        "model_results.loc['Multi-layer Perceptron'] = [score, cross_val_score_mean]\n",
        "\n",
        "print([score, cross_val_score_mean])"
      ],
      "execution_count": 74,
      "outputs": [
        {
          "output_type": "stream",
          "text": [
            "[0.8298555377207063, 0.8154889912954429]\n"
          ],
          "name": "stdout"
        }
      ]
    },
    {
      "cell_type": "markdown",
      "metadata": {
        "id": "oKtCl4FsoS90",
        "colab_type": "text"
      },
      "source": [
        "The output of the models scores and cross-validation score means show that the **Random Forest** model has the best results."
      ]
    },
    {
      "cell_type": "code",
      "metadata": {
        "id": "qvaPp5iMnctg",
        "colab_type": "code",
        "colab": {
          "base_uri": "https://localhost:8080/",
          "height": 269
        },
        "outputId": "21427cda-1a8d-412a-eb51-eac00e4d243b"
      },
      "source": [
        "model_results"
      ],
      "execution_count": 75,
      "outputs": [
        {
          "output_type": "execute_result",
          "data": {
            "text/html": [
              "<div>\n",
              "<style scoped>\n",
              "    .dataframe tbody tr th:only-of-type {\n",
              "        vertical-align: middle;\n",
              "    }\n",
              "\n",
              "    .dataframe tbody tr th {\n",
              "        vertical-align: top;\n",
              "    }\n",
              "\n",
              "    .dataframe thead th {\n",
              "        text-align: right;\n",
              "    }\n",
              "</style>\n",
              "<table border=\"1\" class=\"dataframe\">\n",
              "  <thead>\n",
              "    <tr style=\"text-align: right;\">\n",
              "      <th></th>\n",
              "      <th>Score</th>\n",
              "      <th>Cross-validation score</th>\n",
              "    </tr>\n",
              "  </thead>\n",
              "  <tbody>\n",
              "    <tr>\n",
              "      <th>Random Forest</th>\n",
              "      <td>0.892456</td>\n",
              "      <td>0.842780</td>\n",
              "    </tr>\n",
              "    <tr>\n",
              "      <th>Decision Tree</th>\n",
              "      <td>0.921348</td>\n",
              "      <td>0.818766</td>\n",
              "    </tr>\n",
              "    <tr>\n",
              "      <th>Logistic Regression</th>\n",
              "      <td>0.820225</td>\n",
              "      <td>0.802611</td>\n",
              "    </tr>\n",
              "    <tr>\n",
              "      <th>K-nearest Neighbors</th>\n",
              "      <td>0.852327</td>\n",
              "      <td>0.820328</td>\n",
              "    </tr>\n",
              "    <tr>\n",
              "      <th>Gaussian Naive Bayes</th>\n",
              "      <td>0.802568</td>\n",
              "      <td>0.797849</td>\n",
              "    </tr>\n",
              "    <tr>\n",
              "      <th>Support Vector Machine</th>\n",
              "      <td>0.894061</td>\n",
              "      <td>0.829980</td>\n",
              "    </tr>\n",
              "    <tr>\n",
              "      <th>Multi-layer Perceptron</th>\n",
              "      <td>0.829856</td>\n",
              "      <td>0.815489</td>\n",
              "    </tr>\n",
              "  </tbody>\n",
              "</table>\n",
              "</div>"
            ],
            "text/plain": [
              "                           Score  Cross-validation score\n",
              "Random Forest           0.892456                0.842780\n",
              "Decision Tree           0.921348                0.818766\n",
              "Logistic Regression     0.820225                0.802611\n",
              "K-nearest Neighbors     0.852327                0.820328\n",
              "Gaussian Naive Bayes    0.802568                0.797849\n",
              "Support Vector Machine  0.894061                0.829980\n",
              "Multi-layer Perceptron  0.829856                0.815489"
            ]
          },
          "metadata": {
            "tags": []
          },
          "execution_count": 75
        }
      ]
    },
    {
      "cell_type": "markdown",
      "metadata": {
        "id": "iABODi2K2DQz",
        "colab_type": "text"
      },
      "source": [
        "### Fine-tuning and hyper parameters optimization\n",
        "\n",
        "Having picked our best model, now we will experiment different sets of parameters to check if we can improve its performance. We will look at at three different ways to validate and fine-tune our final model:\n",
        "- **Feature selection** - Find out which is the optimal number of features.\n",
        "- **Grid Search** - Hyper parameters optimization\n",
        "- **Learning curve** - Evaluate training and cross-validation scores, look for possible underfitting or overfitting situations"
      ]
    },
    {
      "cell_type": "markdown",
      "metadata": {
        "id": "CC306v1p7Hah",
        "colab_type": "text"
      },
      "source": [
        "**Feature selection**"
      ]
    },
    {
      "cell_type": "code",
      "metadata": {
        "id": "dXDVb7l0ODrp",
        "colab_type": "code",
        "colab": {}
      },
      "source": [
        "selected_estimator = random_forest"
      ],
      "execution_count": 76,
      "outputs": []
    },
    {
      "cell_type": "code",
      "metadata": {
        "id": "VPgUknQvRsyn",
        "colab_type": "code",
        "colab": {
          "base_uri": "https://localhost:8080/",
          "height": 72
        },
        "outputId": "e1271191-956c-4ca6-977d-54b995859053"
      },
      "source": [
        "use_feature_selection = True\n",
        "\n",
        "selected_features = None\n",
        "\n",
        "if use_feature_selection:\n",
        "  selector = RFECV(estimator=selected_estimator, step=1, cv=5, scoring='accuracy', n_jobs=-1)\n",
        "  selector = selector.fit(X_train, y_train)\n",
        "\n",
        "  print('Optimal number of features: {}'.format(selector.n_features_))\n",
        "\n",
        "  selected_features = X.columns[selector.get_support()].to_list()\n",
        "\n",
        "  print('Best features: {}'.format(selected_features))\n",
        "  print('Ranking: {}'.format(selector.ranking_))\n",
        "\n",
        "  X_train = selector.transform(X_train)\n",
        "  X_validate = selector.transform(X_validate)"
      ],
      "execution_count": 77,
      "outputs": [
        {
          "output_type": "stream",
          "text": [
            "Optimal number of features: 9\n",
            "Best features: ['Pclass', 'Sex', 'Age', 'SibSp', 'Fare', 'FamilySize', 'Title', 'AdultMale', 'Deck']\n",
            "Ranking: [1 1 1 1 3 1 2 1 1 1 1]\n"
          ],
          "name": "stdout"
        }
      ]
    },
    {
      "cell_type": "markdown",
      "metadata": {
        "id": "XGFWBWr-7Ll0",
        "colab_type": "text"
      },
      "source": [
        "**Grid Search**\n",
        "\n",
        "This might take a while since there are a few combinations to test."
      ]
    },
    {
      "cell_type": "code",
      "metadata": {
        "id": "bA1lKlY1hidv",
        "colab_type": "code",
        "colab": {}
      },
      "source": [
        "def grid_search(estimator, X_train, X_test, y_train, y_test):\n",
        "  # hyper parameters for Random Forest\n",
        "  forest_grid = {\n",
        "      'n_estimators': [100, 200],\n",
        "      'criterion': ['gini', 'entropy'],\n",
        "      'max_depth': [2, 4, 6, 8, None],\n",
        "      'min_samples_split': [5, 2, 1, 0.2, .05],\n",
        "      'min_samples_leaf': [5, 1, 0.2, .05],\n",
        "  }\n",
        "\n",
        "  # hyper parameters for K-nearest Neighbors\n",
        "  knn_grid = {'n_neighbors': list(range(1,11)), 'weights': ['uniform', 'distance']}\n",
        "\n",
        "  # hyper parameters for Support Vector Machine\n",
        "  svm_grid = {'C':[1,10,100,1000], 'gamma':[1,0.1,0.001,0.0001], 'kernel':['linear','rbf']}\n",
        "\n",
        "  # hyper parameters for Logistic Regression\n",
        "  logistic_grid = {\n",
        "      'C':[1,10,100,1000], 'penalty':['l1','l2','elasticnet'],\n",
        "      'dual': [False, True], 'tol':[1e-4, 1e-5],\n",
        "      'solver': ['newton-cg','lbfgs','liblinear','sag','saga']\n",
        "  }\n",
        "\n",
        "  # hyper parameters for Multi-layer Perceptron\n",
        "  mlp_grid = {\n",
        "      'activation':['identity','logistic','tanh','relu'],\n",
        "      'learning_rate': ['constant','invscaling','adaptive'],\n",
        "      'learning_rate_init': [0.003, 0.001, 0.0001],\n",
        "      'early_stopping':[False, True]\n",
        "  }\n",
        "\n",
        "  tune_model = GridSearchCV(estimator, param_grid=forest_grid, cv=10, n_jobs=-1)\n",
        "  tune_model.fit(X_train, y_train)\n",
        "\n",
        "  print(type(estimator))\n",
        "\n",
        "  print(\"\\nGrid scores on development set:\\n\")\n",
        "\n",
        "  means = tune_model.cv_results_['mean_test_score']\n",
        "  stds = tune_model.cv_results_['std_test_score']\n",
        "\n",
        "  print(\"%0.3f (+/-%0.03f) for %r\\n\" % \n",
        "        (means[tune_model.best_index_], stds[tune_model.best_index_] * 2, tune_model.cv_results_['params'][tune_model.best_index_]))\n",
        "\n",
        "  print(\"Detailed classification report:\\n\")\n",
        "  y_pred = tune_model.predict(X_test)\n",
        "  \n",
        "  print(classification_report(y_test, y_pred, target_names=['Died', 'Survived']))\n",
        "\n",
        "  return tune_model.best_estimator_"
      ],
      "execution_count": 78,
      "outputs": []
    },
    {
      "cell_type": "code",
      "metadata": {
        "id": "pMd9rEB3FNhT",
        "colab_type": "code",
        "colab": {
          "base_uri": "https://localhost:8080/",
          "height": 329
        },
        "outputId": "bbfddebf-ab12-4a1f-9ed6-12eccacd107d"
      },
      "source": [
        "selected_estimator = grid_search(selected_estimator, X_train, X_validate, y_train, y_validate)"
      ],
      "execution_count": 79,
      "outputs": [
        {
          "output_type": "stream",
          "text": [
            "<class 'sklearn.ensemble._forest.RandomForestClassifier'>\n",
            "\n",
            "Grid scores on development set:\n",
            "\n",
            "0.844 (+/-0.071) for {'criterion': 'entropy', 'max_depth': None, 'min_samples_leaf': 5, 'min_samples_split': 2, 'n_estimators': 100}\n",
            "\n",
            "Detailed classification report:\n",
            "\n",
            "              precision    recall  f1-score   support\n",
            "\n",
            "        Died       0.83      0.92      0.87       165\n",
            "    Survived       0.85      0.69      0.76       103\n",
            "\n",
            "    accuracy                           0.83       268\n",
            "   macro avg       0.84      0.81      0.82       268\n",
            "weighted avg       0.83      0.83      0.83       268\n",
            "\n"
          ],
          "name": "stdout"
        }
      ]
    },
    {
      "cell_type": "markdown",
      "metadata": {
        "id": "FgSNNxaz7WHp",
        "colab_type": "text"
      },
      "source": [
        "**Learning Curve**"
      ]
    },
    {
      "cell_type": "code",
      "metadata": {
        "id": "J4T2AxJ6l4AW",
        "colab_type": "code",
        "colab": {}
      },
      "source": [
        "def plot_learning_curve(estimator, title, X, y, ylim=None, cv=None,\n",
        "                        n_jobs=None, train_sizes=np.linspace(.1, 1.0, 5)):\n",
        "  plt.figure(facecolor=(1, 1, 1), figsize=(12, 8))\n",
        "  plt.title(title)\n",
        "  if ylim is not None:\n",
        "      plt.ylim(*ylim)\n",
        "  plt.xlabel(\"Training examples\")\n",
        "  plt.ylabel(\"Score\")\n",
        "  train_sizes, train_scores, test_scores = learning_curve(\n",
        "      estimator, X, y, cv=cv, n_jobs=n_jobs, train_sizes=train_sizes)\n",
        "  train_scores_mean = np.mean(train_scores, axis=1)\n",
        "  train_scores_std = np.std(train_scores, axis=1)\n",
        "  test_scores_mean = np.mean(test_scores, axis=1)\n",
        "  test_scores_std = np.std(test_scores, axis=1)\n",
        "  plt.grid()\n",
        "\n",
        "  plt.fill_between(train_sizes, train_scores_mean - train_scores_std,\n",
        "                    train_scores_mean + train_scores_std, alpha=0.1,\n",
        "                    color=\"r\")\n",
        "  plt.fill_between(train_sizes, test_scores_mean - test_scores_std,\n",
        "                    test_scores_mean + test_scores_std, alpha=0.1, color=\"g\")\n",
        "  plt.plot(train_sizes, train_scores_mean, 'o-', color=\"r\",\n",
        "            label=\"Training score\")\n",
        "  plt.plot(train_sizes, test_scores_mean, 'o-', color=\"g\",\n",
        "            label=\"Cross-validation score\")\n",
        "\n",
        "  plt.legend(loc=\"best\")\n",
        "\n",
        "  return plt"
      ],
      "execution_count": 80,
      "outputs": []
    },
    {
      "cell_type": "code",
      "metadata": {
        "id": "brqa1soFmDRQ",
        "colab_type": "code",
        "colab": {
          "base_uri": "https://localhost:8080/",
          "height": 513
        },
        "outputId": "1a816800-3e73-46f7-e196-dd605820033f"
      },
      "source": [
        "plot_learning_curve(selected_estimator, 'Learning Curve', X_train, y_train, (0.7, 1.01), cv=10, n_jobs=-1)\n",
        "plt.show()"
      ],
      "execution_count": 81,
      "outputs": [
        {
          "output_type": "display_data",
          "data": {
            "image/png": "[encoded data removed]",
            "text/plain": [
              "<Figure size 864x576 with 1 Axes>"
            ]
          },
          "metadata": {
            "tags": []
          }
        }
      ]
    },
    {
      "cell_type": "code",
      "metadata": {
        "id": "zfpFKp0WRtfA",
        "colab_type": "code",
        "colab": {
          "base_uri": "https://localhost:8080/",
          "height": 300
        },
        "outputId": "2ee9dc79-ffbf-451d-b8c9-7faa4967d802"
      },
      "source": [
        "from sklearn.ensemble import VotingClassifier\n",
        "\n",
        "voting_estimators = [('rf', random_forest), ('lreg', logistic_regression), ('knn', knn), ('svm', svc), ('mlp', mlp)]\n",
        "\n",
        "voting = VotingClassifier(voting_estimators, 'hard').fit(X_train, y_train)\n",
        "\n",
        "score = voting.score(X_train, y_train)\n",
        "cross_val_score_mean = cross_val_score(voting, X_train, y_train, cv=10, n_jobs=-1).mean()\n",
        "\n",
        "model_results.loc['Voting Hard'] = [score, cross_val_score_mean]\n",
        "\n",
        "model_results"
      ],
      "execution_count": 82,
      "outputs": [
        {
          "output_type": "execute_result",
          "data": {
            "text/html": [
              "<div>\n",
              "<style scoped>\n",
              "    .dataframe tbody tr th:only-of-type {\n",
              "        vertical-align: middle;\n",
              "    }\n",
              "\n",
              "    .dataframe tbody tr th {\n",
              "        vertical-align: top;\n",
              "    }\n",
              "\n",
              "    .dataframe thead th {\n",
              "        text-align: right;\n",
              "    }\n",
              "</style>\n",
              "<table border=\"1\" class=\"dataframe\">\n",
              "  <thead>\n",
              "    <tr style=\"text-align: right;\">\n",
              "      <th></th>\n",
              "      <th>Score</th>\n",
              "      <th>Cross-validation score</th>\n",
              "    </tr>\n",
              "  </thead>\n",
              "  <tbody>\n",
              "    <tr>\n",
              "      <th>Random Forest</th>\n",
              "      <td>0.892456</td>\n",
              "      <td>0.842780</td>\n",
              "    </tr>\n",
              "    <tr>\n",
              "      <th>Decision Tree</th>\n",
              "      <td>0.921348</td>\n",
              "      <td>0.818766</td>\n",
              "    </tr>\n",
              "    <tr>\n",
              "      <th>Logistic Regression</th>\n",
              "      <td>0.820225</td>\n",
              "      <td>0.802611</td>\n",
              "    </tr>\n",
              "    <tr>\n",
              "      <th>K-nearest Neighbors</th>\n",
              "      <td>0.852327</td>\n",
              "      <td>0.820328</td>\n",
              "    </tr>\n",
              "    <tr>\n",
              "      <th>Gaussian Naive Bayes</th>\n",
              "      <td>0.802568</td>\n",
              "      <td>0.797849</td>\n",
              "    </tr>\n",
              "    <tr>\n",
              "      <th>Support Vector Machine</th>\n",
              "      <td>0.894061</td>\n",
              "      <td>0.829980</td>\n",
              "    </tr>\n",
              "    <tr>\n",
              "      <th>Multi-layer Perceptron</th>\n",
              "      <td>0.829856</td>\n",
              "      <td>0.815489</td>\n",
              "    </tr>\n",
              "    <tr>\n",
              "      <th>Voting Hard</th>\n",
              "      <td>0.869984</td>\n",
              "      <td>0.818843</td>\n",
              "    </tr>\n",
              "  </tbody>\n",
              "</table>\n",
              "</div>"
            ],
            "text/plain": [
              "                           Score  Cross-validation score\n",
              "Random Forest           0.892456                0.842780\n",
              "Decision Tree           0.921348                0.818766\n",
              "Logistic Regression     0.820225                0.802611\n",
              "K-nearest Neighbors     0.852327                0.820328\n",
              "Gaussian Naive Bayes    0.802568                0.797849\n",
              "Support Vector Machine  0.894061                0.829980\n",
              "Multi-layer Perceptron  0.829856                0.815489\n",
              "Voting Hard             0.869984                0.818843"
            ]
          },
          "metadata": {
            "tags": []
          },
          "execution_count": 82
        }
      ]
    },
    {
      "cell_type": "markdown",
      "metadata": {
        "id": "lfPpaki4bl2b",
        "colab_type": "text"
      },
      "source": [
        "In the end, we can look at the confusion matrix and check our results."
      ]
    },
    {
      "cell_type": "code",
      "metadata": {
        "id": "0uLGO3jqeebI",
        "colab_type": "code",
        "colab": {
          "base_uri": "https://localhost:8080/",
          "height": 35
        },
        "outputId": "17681dae-a01b-428b-e2c8-0745cb47d703"
      },
      "source": [
        "final_score = cross_val_score(selected_estimator, X_train, y_train, cv=10)\n",
        "\n",
        "print('Accuracy: {:.3f} (+/- {:.2f})'.format(final_score.mean(), final_score.std() * 2))"
      ],
      "execution_count": 84,
      "outputs": [
        {
          "output_type": "stream",
          "text": [
            "Accuracy: 0.836 (+/- 0.08)\n"
          ],
          "name": "stdout"
        }
      ]
    },
    {
      "cell_type": "code",
      "metadata": {
        "id": "HR9QU0ykND2R",
        "colab_type": "code",
        "colab": {
          "base_uri": "https://localhost:8080/",
          "height": 283
        },
        "outputId": "0e196749-6097-447b-f004-be4c92bec608"
      },
      "source": [
        "y_pred = selected_estimator.predict(X_validate)\n",
        "\n",
        "# Confusion matrix for the Selected Model\n",
        "sns.heatmap(confusion_matrix(y_validate, y_pred), annot=True, fmt='d', cmap='Blues')"
      ],
      "execution_count": 85,
      "outputs": [
        {
          "output_type": "execute_result",
          "data": {
            "text/plain": [
              "<matplotlib.axes._subplots.AxesSubplot at 0x7f779968cd30>"
            ]
          },
          "metadata": {
            "tags": []
          },
          "execution_count": 85
        },
        {
          "output_type": "display_data",
          "data": {
            "image/png": "[encoded data removed]",
            "text/plain": [
              "<Figure size 432x288 with 2 Axes>"
            ]
          },
          "metadata": {
            "tags": [],
            "needs_background": "light"
          }
        }
      ]
    },
    {
      "cell_type": "code",
      "metadata": {
        "id": "RplusoDneonw",
        "colab_type": "code",
        "colab": {
          "base_uri": "https://localhost:8080/",
          "height": 35
        },
        "outputId": "8e21d7ca-bec5-43c2-f16a-8d0055168009"
      },
      "source": [
        "final_score = cross_val_score(voting, X_train, y_train, cv=10)\n",
        "\n",
        "print('Accuracy: {:.3f} (+/- {:.2f})'.format(final_score.mean(), final_score.std() * 2))"
      ],
      "execution_count": 86,
      "outputs": [
        {
          "output_type": "stream",
          "text": [
            "Accuracy: 0.817 (+/- 0.10)\n"
          ],
          "name": "stdout"
        }
      ]
    },
    {
      "cell_type": "code",
      "metadata": {
        "id": "xRRgd-2uWmoO",
        "colab_type": "code",
        "colab": {
          "base_uri": "https://localhost:8080/",
          "height": 283
        },
        "outputId": "1524f67d-fff2-4fcd-9cb9-0ed9ebc4383c"
      },
      "source": [
        "y_pred = voting.predict(X_validate)\n",
        "\n",
        "# Confusion matrix for the Voting Hard Model\n",
        "sns.heatmap(confusion_matrix(y_validate, y_pred), annot=True, fmt='d', cmap='Blues')"
      ],
      "execution_count": 87,
      "outputs": [
        {
          "output_type": "execute_result",
          "data": {
            "text/plain": [
              "<matplotlib.axes._subplots.AxesSubplot at 0x7f7794e5a860>"
            ]
          },
          "metadata": {
            "tags": []
          },
          "execution_count": 87
        },
        {
          "output_type": "display_data",
          "data": {
            "image/png": "[encoded data removed]",
            "text/plain": [
              "<Figure size 432x288 with 2 Axes>"
            ]
          },
          "metadata": {
            "tags": [],
            "needs_background": "light"
          }
        }
      ]
    },
    {
      "cell_type": "markdown",
      "metadata": {
        "id": "j5I2Nl-G2L53",
        "colab_type": "text"
      },
      "source": [
        "### Predictions\n",
        "\n",
        "Comparing our predictions with the true values can give us more insights how to further improve our results in the future."
      ]
    },
    {
      "cell_type": "code",
      "metadata": {
        "id": "uFkRx-384NTG",
        "colab_type": "code",
        "colab": {}
      },
      "source": [
        "y_pred = selected_estimator.predict(X_validate)"
      ],
      "execution_count": 88,
      "outputs": []
    },
    {
      "cell_type": "code",
      "metadata": {
        "id": "Y7zswEoNzLX6",
        "colab_type": "code",
        "colab": {}
      },
      "source": [
        "X_validate_df['Survived'] = y_validate\n",
        "X_validate_df['Prediction'] = y_pred"
      ],
      "execution_count": 89,
      "outputs": []
    },
    {
      "cell_type": "markdown",
      "metadata": {
        "id": "vCCueFzJcWFG",
        "colab_type": "text"
      },
      "source": [
        "**False Negative predictions**"
      ]
    },
    {
      "cell_type": "code",
      "metadata": {
        "id": "dE5ROOETOIje",
        "colab_type": "code",
        "colab": {
          "base_uri": "https://localhost:8080/",
          "height": 206
        },
        "outputId": "94563c32-b931-424f-af68-af9adf4583ad"
      },
      "source": [
        "X_validate_df[(X_validate_df['Survived'] != X_validate_df['Prediction']) & (X_validate_df['Survived'] == 1)].head()"
      ],
      "execution_count": 90,
      "outputs": [
        {
          "output_type": "execute_result",
          "data": {
            "text/html": [
              "<div>\n",
              "<style scoped>\n",
              "    .dataframe tbody tr th:only-of-type {\n",
              "        vertical-align: middle;\n",
              "    }\n",
              "\n",
              "    .dataframe tbody tr th {\n",
              "        vertical-align: top;\n",
              "    }\n",
              "\n",
              "    .dataframe thead th {\n",
              "        text-align: right;\n",
              "    }\n",
              "</style>\n",
              "<table border=\"1\" class=\"dataframe\">\n",
              "  <thead>\n",
              "    <tr style=\"text-align: right;\">\n",
              "      <th></th>\n",
              "      <th>Pclass</th>\n",
              "      <th>Sex</th>\n",
              "      <th>Age</th>\n",
              "      <th>SibSp</th>\n",
              "      <th>Parch</th>\n",
              "      <th>Fare</th>\n",
              "      <th>Embarked</th>\n",
              "      <th>FamilySize</th>\n",
              "      <th>Title</th>\n",
              "      <th>AdultMale</th>\n",
              "      <th>Deck</th>\n",
              "      <th>Survived</th>\n",
              "      <th>Prediction</th>\n",
              "    </tr>\n",
              "  </thead>\n",
              "  <tbody>\n",
              "    <tr>\n",
              "      <th>447</th>\n",
              "      <td>1</td>\n",
              "      <td>0</td>\n",
              "      <td>2</td>\n",
              "      <td>0</td>\n",
              "      <td>0</td>\n",
              "      <td>2</td>\n",
              "      <td>0</td>\n",
              "      <td>1</td>\n",
              "      <td>1</td>\n",
              "      <td>1</td>\n",
              "      <td>78</td>\n",
              "      <td>1</td>\n",
              "      <td>0</td>\n",
              "    </tr>\n",
              "    <tr>\n",
              "      <th>599</th>\n",
              "      <td>1</td>\n",
              "      <td>0</td>\n",
              "      <td>3</td>\n",
              "      <td>1</td>\n",
              "      <td>0</td>\n",
              "      <td>3</td>\n",
              "      <td>1</td>\n",
              "      <td>2</td>\n",
              "      <td>5</td>\n",
              "      <td>1</td>\n",
              "      <td>65</td>\n",
              "      <td>1</td>\n",
              "      <td>0</td>\n",
              "    </tr>\n",
              "    <tr>\n",
              "      <th>391</th>\n",
              "      <td>3</td>\n",
              "      <td>0</td>\n",
              "      <td>1</td>\n",
              "      <td>0</td>\n",
              "      <td>0</td>\n",
              "      <td>0</td>\n",
              "      <td>0</td>\n",
              "      <td>1</td>\n",
              "      <td>1</td>\n",
              "      <td>1</td>\n",
              "      <td>78</td>\n",
              "      <td>1</td>\n",
              "      <td>0</td>\n",
              "    </tr>\n",
              "    <tr>\n",
              "      <th>453</th>\n",
              "      <td>1</td>\n",
              "      <td>0</td>\n",
              "      <td>3</td>\n",
              "      <td>1</td>\n",
              "      <td>0</td>\n",
              "      <td>3</td>\n",
              "      <td>1</td>\n",
              "      <td>2</td>\n",
              "      <td>1</td>\n",
              "      <td>1</td>\n",
              "      <td>67</td>\n",
              "      <td>1</td>\n",
              "      <td>0</td>\n",
              "    </tr>\n",
              "    <tr>\n",
              "      <th>301</th>\n",
              "      <td>3</td>\n",
              "      <td>0</td>\n",
              "      <td>2</td>\n",
              "      <td>2</td>\n",
              "      <td>0</td>\n",
              "      <td>2</td>\n",
              "      <td>2</td>\n",
              "      <td>3</td>\n",
              "      <td>1</td>\n",
              "      <td>1</td>\n",
              "      <td>78</td>\n",
              "      <td>1</td>\n",
              "      <td>0</td>\n",
              "    </tr>\n",
              "  </tbody>\n",
              "</table>\n",
              "</div>"
            ],
            "text/plain": [
              "     Pclass  Sex  Age  SibSp  ...  AdultMale  Deck  Survived  Prediction\n",
              "447       1    0    2      0  ...          1    78         1           0\n",
              "599       1    0    3      1  ...          1    65         1           0\n",
              "391       3    0    1      0  ...          1    78         1           0\n",
              "453       1    0    3      1  ...          1    67         1           0\n",
              "301       3    0    2      2  ...          1    78         1           0\n",
              "\n",
              "[5 rows x 13 columns]"
            ]
          },
          "metadata": {
            "tags": []
          },
          "execution_count": 90
        }
      ]
    },
    {
      "cell_type": "markdown",
      "metadata": {
        "id": "cWgX8DrOcdoj",
        "colab_type": "text"
      },
      "source": [
        "**False Positive predictions**"
      ]
    },
    {
      "cell_type": "code",
      "metadata": {
        "id": "2TwkaEMOP3sA",
        "colab_type": "code",
        "colab": {
          "base_uri": "https://localhost:8080/",
          "height": 206
        },
        "outputId": "afc65784-e494-492e-ab8e-9475769c97f0"
      },
      "source": [
        "X_validate_df[(X_validate_df['Survived'] != X_validate_df['Prediction']) & (X_validate_df['Survived'] == 0)].head()"
      ],
      "execution_count": 91,
      "outputs": [
        {
          "output_type": "execute_result",
          "data": {
            "text/html": [
              "<div>\n",
              "<style scoped>\n",
              "    .dataframe tbody tr th:only-of-type {\n",
              "        vertical-align: middle;\n",
              "    }\n",
              "\n",
              "    .dataframe tbody tr th {\n",
              "        vertical-align: top;\n",
              "    }\n",
              "\n",
              "    .dataframe thead th {\n",
              "        text-align: right;\n",
              "    }\n",
              "</style>\n",
              "<table border=\"1\" class=\"dataframe\">\n",
              "  <thead>\n",
              "    <tr style=\"text-align: right;\">\n",
              "      <th></th>\n",
              "      <th>Pclass</th>\n",
              "      <th>Sex</th>\n",
              "      <th>Age</th>\n",
              "      <th>SibSp</th>\n",
              "      <th>Parch</th>\n",
              "      <th>Fare</th>\n",
              "      <th>Embarked</th>\n",
              "      <th>FamilySize</th>\n",
              "      <th>Title</th>\n",
              "      <th>AdultMale</th>\n",
              "      <th>Deck</th>\n",
              "      <th>Survived</th>\n",
              "      <th>Prediction</th>\n",
              "    </tr>\n",
              "  </thead>\n",
              "  <tbody>\n",
              "    <tr>\n",
              "      <th>199</th>\n",
              "      <td>2</td>\n",
              "      <td>1</td>\n",
              "      <td>1</td>\n",
              "      <td>0</td>\n",
              "      <td>0</td>\n",
              "      <td>1</td>\n",
              "      <td>0</td>\n",
              "      <td>1</td>\n",
              "      <td>2</td>\n",
              "      <td>0</td>\n",
              "      <td>78</td>\n",
              "      <td>0</td>\n",
              "      <td>1</td>\n",
              "    </tr>\n",
              "    <tr>\n",
              "      <th>38</th>\n",
              "      <td>3</td>\n",
              "      <td>1</td>\n",
              "      <td>1</td>\n",
              "      <td>2</td>\n",
              "      <td>0</td>\n",
              "      <td>2</td>\n",
              "      <td>0</td>\n",
              "      <td>3</td>\n",
              "      <td>2</td>\n",
              "      <td>0</td>\n",
              "      <td>78</td>\n",
              "      <td>0</td>\n",
              "      <td>1</td>\n",
              "    </tr>\n",
              "    <tr>\n",
              "      <th>767</th>\n",
              "      <td>3</td>\n",
              "      <td>1</td>\n",
              "      <td>1</td>\n",
              "      <td>0</td>\n",
              "      <td>0</td>\n",
              "      <td>0</td>\n",
              "      <td>2</td>\n",
              "      <td>1</td>\n",
              "      <td>2</td>\n",
              "      <td>0</td>\n",
              "      <td>78</td>\n",
              "      <td>0</td>\n",
              "      <td>1</td>\n",
              "    </tr>\n",
              "    <tr>\n",
              "      <th>41</th>\n",
              "      <td>2</td>\n",
              "      <td>1</td>\n",
              "      <td>1</td>\n",
              "      <td>1</td>\n",
              "      <td>0</td>\n",
              "      <td>2</td>\n",
              "      <td>0</td>\n",
              "      <td>2</td>\n",
              "      <td>3</td>\n",
              "      <td>0</td>\n",
              "      <td>78</td>\n",
              "      <td>0</td>\n",
              "      <td>1</td>\n",
              "    </tr>\n",
              "    <tr>\n",
              "      <th>593</th>\n",
              "      <td>3</td>\n",
              "      <td>1</td>\n",
              "      <td>1</td>\n",
              "      <td>0</td>\n",
              "      <td>2</td>\n",
              "      <td>0</td>\n",
              "      <td>2</td>\n",
              "      <td>3</td>\n",
              "      <td>2</td>\n",
              "      <td>0</td>\n",
              "      <td>78</td>\n",
              "      <td>0</td>\n",
              "      <td>1</td>\n",
              "    </tr>\n",
              "  </tbody>\n",
              "</table>\n",
              "</div>"
            ],
            "text/plain": [
              "     Pclass  Sex  Age  SibSp  ...  AdultMale  Deck  Survived  Prediction\n",
              "199       2    1    1      0  ...          0    78         0           1\n",
              "38        3    1    1      2  ...          0    78         0           1\n",
              "767       3    1    1      0  ...          0    78         0           1\n",
              "41        2    1    1      1  ...          0    78         0           1\n",
              "593       3    1    1      0  ...          0    78         0           1\n",
              "\n",
              "[5 rows x 13 columns]"
            ]
          },
          "metadata": {
            "tags": []
          },
          "execution_count": 91
        }
      ]
    }
  ]
}